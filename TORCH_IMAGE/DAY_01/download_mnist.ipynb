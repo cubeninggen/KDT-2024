{
 "cells": [
  {
   "cell_type": "markdown",
   "metadata": {},
   "source": [
    "#### 데이터셋 다운로드\n",
    "- 데이터 URL 사용\n",
    "    * urllib 패키지 활용 : from urllib.request import urlretrieve\n",
    "    * 함수 : "
   ]
  },
  {
   "cell_type": "code",
   "execution_count": 3,
   "metadata": {},
   "outputs": [],
   "source": [
    "from urllib.request import urlretrieve\n",
    "import os\n",
    "\n",
    "# 파이토치의 내장 이미지 데이터셋\n",
    "from torchvision import datasets"
   ]
  },
  {
   "cell_type": "code",
   "execution_count": 4,
   "metadata": {},
   "outputs": [],
   "source": [
    "LOGO_URL='https://www.google.com/images/branding/googlelogo/1x/googlelogo_light_color_272x92dp.png'\n",
    "PATH='../image/'\n",
    "FILE_NAME='../image/logo.png'\n",
    "\n",
    "if not os.path.exists(PATH):\n",
    "    os.mkdir(PATH)"
   ]
  },
  {
   "cell_type": "code",
   "execution_count": 5,
   "metadata": {},
   "outputs": [
    {
     "data": {
      "text/plain": [
       "('../image/logo.png', <http.client.HTTPMessage at 0x1f3999f19a0>)"
      ]
     },
     "execution_count": 5,
     "metadata": {},
     "output_type": "execute_result"
    }
   ],
   "source": [
    "urlretrieve(LOGO_URL,FILE_NAME)"
   ]
  },
  {
   "cell_type": "code",
   "execution_count": 6,
   "metadata": {},
   "outputs": [
    {
     "data": {
      "text/plain": [
       "Dataset MNIST\n",
       "    Number of datapoints: 60000\n",
       "    Root location: ../data/\n",
       "    Split: Train"
      ]
     },
     "execution_count": 6,
     "metadata": {},
     "output_type": "execute_result"
    }
   ],
   "source": [
    "### MNIST 데이터셋 다운로드\n",
    "datasets.MNIST('../data/',download=True)"
   ]
  },
  {
   "cell_type": "markdown",
   "metadata": {},
   "source": [
    "- 바이너리 데이터 읽기"
   ]
  },
  {
   "cell_type": "code",
   "execution_count": 7,
   "metadata": {},
   "outputs": [
    {
     "name": "stdout",
     "output_type": "stream",
     "text": [
      "['t10k-images-idx3-ubyte', 't10k-labels-idx1-ubyte', 'train-images-idx3-ubyte', 'train-labels-idx1-ubyte']\n"
     ]
    }
   ],
   "source": [
    "# 데이터 파일 리스트\n",
    "MNIST_PATH='../data/MNIST/raw/'\n",
    "filelist=os.listdir(MNIST_PATH)\n",
    "for i in filelist:\n",
    "    if i.endswith('.gz'):filelist.remove(i)\n",
    "print(filelist)"
   ]
  },
  {
   "cell_type": "code",
   "execution_count": 8,
   "metadata": {},
   "outputs": [
    {
     "name": "stdout",
     "output_type": "stream",
     "text": [
      "b\"\\x00\\x00\\x08\\x03\\x00\\x00'\\x10\\x00\\x00\\x00\\x1c\\x00\\x00\\x00\\x1c\\x00\\x00\\x00\\x00\\x00\\x00\\x00\\x00\\x00\\x00\\x00\\x00\\x00\\x00\\x00\\x00\\x00\\x00\\x00\\x00\\x00\\x00\\x00\\x00\\x00\\x00\\x00\\x00\\x00\\x00\\x00\\x00\\x00\\x00\"\n"
     ]
    }
   ],
   "source": [
    "#데이터 파일 읽기\n",
    "with open(MNIST_PATH+filelist[0],mode='rb')as f:\n",
    "    data=f.read(50)\n",
    "    print(data)"
   ]
  },
  {
   "cell_type": "markdown",
   "metadata": {},
   "source": [
    "- 바이너리 데이터를 원하는 자료형으로 읽기\n",
    "    * 파이썬 내장모듈 struct사용"
   ]
  },
  {
   "cell_type": "code",
   "execution_count": 9,
   "metadata": {},
   "outputs": [],
   "source": [
    "import struct\n",
    "#데이터 파일 읽어서 데이터셋 파일 생성\n",
    "def makeDataFile(imgfile,labelfile,datasetfile):\n",
    "    with open(imgfile,mode='rb')as data_f:\n",
    "        with open(labelfile,mode='rb')as label_f:\n",
    "            with open(datasetfile,mode='w')as dataset_f:\n",
    "                # 파일의 해더 정보 읽기\n",
    "                _,img_cnt=struct.unpack('>II',data_f.read(8))\n",
    "                struct.unpack('>II',label_f.read(8))\n",
    "                rows,cols=struct.unpack('>II',data_f.read(8))\n",
    "\n",
    "                for n in range(img_cnt):\n",
    "                    # 이미지 raw 데이터\n",
    "                    pixels=data_f.read(rows*cols)\n",
    "                    sdata=list(map(lambda n:str(n),pixels))\n",
    "                    #이미지 라벨\n",
    "                    label=struct.unpack('B',label_f.read(1))[0]\n",
    "                    #피쳐와 라벨 연결\n",
    "                    sdata.append(str(label))\n",
    "                    # 데이터 파일에 기록\n",
    "                    img_label=','.join(sdata)\n",
    "                    dataset_f.write(img_label+'\\n')\n"
   ]
  },
  {
   "cell_type": "code",
   "execution_count": 14,
   "metadata": {},
   "outputs": [],
   "source": [
    "DS_PATH='../data/'\n",
    "MNIST_PATH='../data/MNIST/raw/'\n",
    "TRAIN_FILE=DS_PATH+'mnist_train.csv'\n",
    "TEST_FILE=DS_PATH+'mnist_test.csv'\n",
    "makeDataFile(MNIST_PATH+filelist[0],MNIST_PATH+filelist[1],TEST_FILE)\n",
    "makeDataFile(MNIST_PATH+filelist[2],MNIST_PATH+filelist[3],TRAIN_FILE)"
   ]
  },
  {
   "cell_type": "code",
   "execution_count": null,
   "metadata": {},
   "outputs": [],
   "source": []
  }
 ],
 "metadata": {
  "kernelspec": {
   "display_name": "TORCH_38",
   "language": "python",
   "name": "python3"
  },
  "language_info": {
   "codemirror_mode": {
    "name": "ipython",
    "version": 3
   },
   "file_extension": ".py",
   "mimetype": "text/x-python",
   "name": "python",
   "nbconvert_exporter": "python",
   "pygments_lexer": "ipython3",
   "version": "3.8.19"
  }
 },
 "nbformat": 4,
 "nbformat_minor": 2
}
