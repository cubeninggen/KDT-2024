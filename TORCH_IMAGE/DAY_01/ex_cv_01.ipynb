{
 "cells": [
  {
   "cell_type": "code",
   "execution_count": 2,
   "metadata": {},
   "outputs": [],
   "source": [
    "import cv2\n",
    "import os\n",
    "import numpy as np"
   ]
  },
  {
   "cell_type": "code",
   "execution_count": 3,
   "metadata": {},
   "outputs": [],
   "source": [
    "# 이미지 관련 공통변수\n",
    "IMG_DIR='../image/'"
   ]
  },
  {
   "cell_type": "markdown",
   "metadata": {},
   "source": [
    "- [1] 이미지 읽기 ==> ndarray"
   ]
  },
  {
   "cell_type": "code",
   "execution_count": 4,
   "metadata": {},
   "outputs": [],
   "source": [
    "IMG_FILE=IMG_DIR+'arona.jpg'\n",
    "\n",
    "im_data=cv2.imread(IMG_FILE)\n",
    "gray_data=cv2.imread(IMG_FILE,flags=cv2.IMREAD_GRAYSCALE)"
   ]
  },
  {
   "cell_type": "code",
   "execution_count": 5,
   "metadata": {},
   "outputs": [
    {
     "name": "stdout",
     "output_type": "stream",
     "text": [
      "shape (900, 900, 3)\n",
      "ndim 3D\n"
     ]
    }
   ],
   "source": [
    "print(f'shape {im_data.shape}')\n",
    "print(f'ndim {im_data.ndim}D')"
   ]
  },
  {
   "cell_type": "code",
   "execution_count": 6,
   "metadata": {},
   "outputs": [
    {
     "name": "stdout",
     "output_type": "stream",
     "text": [
      "shape (900, 900)\n",
      "ndim 2D\n"
     ]
    }
   ],
   "source": [
    "print(f'shape {gray_data.shape}')\n",
    "print(f'ndim {gray_data.ndim}D')"
   ]
  },
  {
   "cell_type": "markdown",
   "metadata": {},
   "source": [
    "[2] 이미지 화면 출력=>imshow()"
   ]
  },
  {
   "cell_type": "code",
   "execution_count": 7,
   "metadata": {},
   "outputs": [],
   "source": [
    "cv2.imshow('[Arona]',im_data)\n",
    "cv2.waitKey()\n",
    "cv2.destroyAllWindows()"
   ]
  },
  {
   "cell_type": "code",
   "execution_count": 8,
   "metadata": {},
   "outputs": [
    {
     "name": "stdout",
     "output_type": "stream",
     "text": [
      "120\n"
     ]
    }
   ],
   "source": [
    "### 'x' , 'X' 입력시 모든 이미지 닫기\n",
    "cv2.imshow('[Arona-color]',im_data)\n",
    "cv2.imshow('[Arona-gray]',gray_data)\n",
    "while True:\n",
    "    keycode=cv2.waitKey()\n",
    "    print(keycode)\n",
    "    if chr(keycode)in['x','X']:\n",
    "        cv2.destroyAllWindows()\n",
    "        break\n",
    "    elif chr(keycode)in['s','S']:\n",
    "        cv2.imwrite('gray.jpg',gray_data)\n",
    "        cv2.destroyAllWindows()\n",
    "        break\n",
    "    else:continue"
   ]
  },
  {
   "cell_type": "code",
   "execution_count": null,
   "metadata": {},
   "outputs": [],
   "source": []
  }
 ],
 "metadata": {
  "kernelspec": {
   "display_name": "TORCH_CV_38",
   "language": "python",
   "name": "python3"
  },
  "language_info": {
   "codemirror_mode": {
    "name": "ipython",
    "version": 3
   },
   "file_extension": ".py",
   "mimetype": "text/x-python",
   "name": "python",
   "nbconvert_exporter": "python",
   "pygments_lexer": "ipython3",
   "version": "3.8.19"
  }
 },
 "nbformat": 4,
 "nbformat_minor": 2
}
