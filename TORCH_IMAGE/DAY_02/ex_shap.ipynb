{
 "cells": [
  {
   "cell_type": "markdown",
   "metadata": {},
   "source": [
    "#### ndarray & tensor의 차원축소 & 추가\n",
    "- 모델 입출력 시에 shape설정을 위해서 필요함     "
   ]
  },
  {
   "cell_type": "code",
   "execution_count": 1,
   "metadata": {},
   "outputs": [],
   "source": [
    "import cv2\n",
    "import numpy as np\n",
    "import torch"
   ]
  },
  {
   "cell_type": "code",
   "execution_count": 2,
   "metadata": {},
   "outputs": [
    {
     "data": {
      "text/plain": [
       "((200, 100), 2)"
      ]
     },
     "execution_count": 2,
     "metadata": {},
     "output_type": "execute_result"
    }
   ],
   "source": [
    "## 임의의 데이터 생성\n",
    "data=np.full((200,100),7)\n",
    "data.shape,data.ndim"
   ]
  },
  {
   "cell_type": "markdown",
   "metadata": {},
   "source": [
    "- 차원추가\n",
    "    * Numpy 경우 : ndarray.reshape(),np.expand_dims(),np.newaxis\n",
    "    * Pytorch 경우 : reshape(),unsqueeze()"
   ]
  },
  {
   "cell_type": "code",
   "execution_count": 45,
   "metadata": {},
   "outputs": [
    {
     "data": {
      "text/plain": [
       "((200, 100, 1), 3)"
      ]
     },
     "execution_count": 45,
     "metadata": {},
     "output_type": "execute_result"
    }
   ],
   "source": [
    "## numpy 기반\n",
    "## - 체널 차원을 추가 하기 => 방법1) reshape()\n",
    "data1=data.reshape((200,100,1))\n",
    "data1.shape,data1.ndim"
   ]
  },
  {
   "cell_type": "code",
   "execution_count": 46,
   "metadata": {},
   "outputs": [
    {
     "data": {
      "text/plain": [
       "((200, 100, 1), 3)"
      ]
     },
     "execution_count": 46,
     "metadata": {},
     "output_type": "execute_result"
    }
   ],
   "source": [
    "## - 체널 차원을 추가 하기 => 방법2) np.expand_dims()\n",
    "data2=np.expand_dims(data,axis=2) \n",
    "data2.shape,data2.ndim"
   ]
  },
  {
   "cell_type": "code",
   "execution_count": 47,
   "metadata": {},
   "outputs": [
    {
     "name": "stdout",
     "output_type": "stream",
     "text": [
      "(200, 100) 2\n"
     ]
    },
    {
     "data": {
      "text/plain": [
       "((200, 100, 1), 3)"
      ]
     },
     "execution_count": 47,
     "metadata": {},
     "output_type": "execute_result"
    }
   ],
   "source": [
    "## - 체널 차원을 추가 하기 => 방법3) np.newaxis\n",
    "print(data.shape,data.ndim)\n",
    "data3=data[:,:,np.newaxis]\n",
    "data3.shape,data3.ndim"
   ]
  },
  {
   "cell_type": "code",
   "execution_count": 48,
   "metadata": {},
   "outputs": [
    {
     "name": "stdout",
     "output_type": "stream",
     "text": [
      "<class 'numpy.ndarray'> (200, 100) 2\n"
     ]
    },
    {
     "data": {
      "text/plain": [
       "torch.Size([200, 100])"
      ]
     },
     "execution_count": 48,
     "metadata": {},
     "output_type": "execute_result"
    }
   ],
   "source": [
    "## Pytorch 기반\n",
    "print(type(data),data.shape,data.ndim)\n",
    "dataTS=torch.IntTensor(data)\n",
    "dataTS.shape"
   ]
  },
  {
   "cell_type": "code",
   "execution_count": 49,
   "metadata": {},
   "outputs": [
    {
     "data": {
      "text/plain": [
       "torch.Size([200, 100, 1])"
      ]
     },
     "execution_count": 49,
     "metadata": {},
     "output_type": "execute_result"
    }
   ],
   "source": [
    "## - 체널 차원을 추가 하기 => 방법1) reshape()\n",
    "dataTS1=dataTS.reshape((200,100,1))\n",
    "dataTS1.shape"
   ]
  },
  {
   "cell_type": "code",
   "execution_count": 50,
   "metadata": {},
   "outputs": [
    {
     "data": {
      "text/plain": [
       "torch.Size([1, 200, 100])"
      ]
     },
     "execution_count": 50,
     "metadata": {},
     "output_type": "execute_result"
    }
   ],
   "source": [
    "## - 체널 차원을 추가 하기 => 방법1) unsqueeze()\n",
    "dataTS2=dataTS.unsqueeze(dim=0)\n",
    "dataTS2.shape"
   ]
  },
  {
   "cell_type": "code",
   "execution_count": 51,
   "metadata": {},
   "outputs": [
    {
     "data": {
      "text/plain": [
       "torch.Size([200, 1, 100])"
      ]
     },
     "execution_count": 51,
     "metadata": {},
     "output_type": "execute_result"
    }
   ],
   "source": [
    "dataTS2=dataTS.unsqueeze(dim=1)\n",
    "dataTS2.shape"
   ]
  },
  {
   "cell_type": "code",
   "execution_count": 52,
   "metadata": {},
   "outputs": [
    {
     "data": {
      "text/plain": [
       "torch.Size([200, 100, 1])"
      ]
     },
     "execution_count": 52,
     "metadata": {},
     "output_type": "execute_result"
    }
   ],
   "source": [
    "dataTS2=dataTS.unsqueeze(dim=2)\n",
    "dataTS2.shape"
   ]
  },
  {
   "cell_type": "markdown",
   "metadata": {},
   "source": [
    "- shape 변경\n",
    "    * Numpy 경우 : T속성,transepose()\n",
    "    * Pytorch 경우 : T속성,transepose(),permute()"
   ]
  },
  {
   "cell_type": "code",
   "execution_count": 53,
   "metadata": {},
   "outputs": [
    {
     "name": "stdout",
     "output_type": "stream",
     "text": [
      "torch.Size([200, 100])\n",
      "torch.Size([200, 100, 1])\n",
      "torch.Size([200, 100, 1, 1])\n",
      "\n",
      "torch.Size([100, 200])\n",
      "torch.Size([1, 100, 200])\n",
      "torch.Size([1, 1, 100, 200])\n",
      "\n",
      "torch.Size([200, 1, 100])\n",
      "torch.Size([200, 1, 1, 100])\n",
      "\n",
      "torch.Size([1, 200, 100])\n",
      "torch.Size([100, 200, 1, 1])\n"
     ]
    }
   ],
   "source": [
    "## - shape 변경 => 방법1)속성T, transpose(),permute()\n",
    "print(dataTS.shape)\n",
    "print(dataTS2.shape)\n",
    "dataTS3=dataTS2.unsqueeze(dim=3)\n",
    "print(dataTS3.shape)\n",
    "print()\n",
    "print(dataTS.T.shape)\n",
    "print(dataTS2.T.shape)\n",
    "print(dataTS3.T.shape)\n",
    "print()\n",
    "# 2개의 축 변경\n",
    "print(dataTS2.transpose(1,2).shape)\n",
    "print(dataTS3.transpose(1,3).shape)\n",
    "print()\n",
    "print(dataTS2.permute((2,0,1)).shape)\n",
    "print(dataTS3.permute((1,0,3,2)).shape)"
   ]
  },
  {
   "cell_type": "markdown",
   "metadata": {},
   "source": [
    "- 차원제거\n",
    "    * Numpy 경우 : reshape(),squeeze()\n",
    "    * Pytorch 경우 : reshape(),squeeze()"
   ]
  },
  {
   "cell_type": "code",
   "execution_count": 54,
   "metadata": {},
   "outputs": [
    {
     "name": "stdout",
     "output_type": "stream",
     "text": [
      "(200, 100, 1)\n",
      "(200, 1, 100, 1)\n"
     ]
    }
   ],
   "source": [
    "## numpy 경우\n",
    "data2=np.expand_dims(data,axis=2)\n",
    "data3=np.expand_dims(data2,axis=1)\n",
    "print(data2.shape)\n",
    "print(data3.shape)"
   ]
  },
  {
   "cell_type": "code",
   "execution_count": 57,
   "metadata": {},
   "outputs": [
    {
     "name": "stdout",
     "output_type": "stream",
     "text": [
      "(200, 100)\n",
      "(200, 100)\n"
     ]
    }
   ],
   "source": [
    "# 1차원축 제거 방법1) => reshape()\n",
    "print(data2.reshape(200,-1).shape)\n",
    "print(data3.reshape(200,-1).shape)"
   ]
  },
  {
   "cell_type": "code",
   "execution_count": 61,
   "metadata": {},
   "outputs": [
    {
     "name": "stdout",
     "output_type": "stream",
     "text": [
      "(200, 100)\n",
      "(200, 100)\n",
      "(200, 1, 100, 1)\n",
      "(200, 100, 1)\n"
     ]
    }
   ],
   "source": [
    "# 1차원축 제거 방법2) => squeeze() \n",
    "print(data2.squeeze().shape)\n",
    "print(data3.squeeze().shape)\n",
    "print(data3.shape)\n",
    "print(data3.squeeze(axis=1).shape) # 지정된 축이 1D 삭제, 아니면 ERROR\n"
   ]
  },
  {
   "cell_type": "code",
   "execution_count": 63,
   "metadata": {},
   "outputs": [
    {
     "name": "stdout",
     "output_type": "stream",
     "text": [
      "torch.Size([200, 100, 1])\n",
      "torch.Size([200, 1, 100, 1])\n"
     ]
    }
   ],
   "source": [
    "## Pytorch 경우\n",
    "data2=np.expand_dims(data,axis=2)\n",
    "data3=np.expand_dims(data2,axis=1)\n",
    "dataTS2=torch.IntTensor(data2)\n",
    "dataTS3=torch.IntTensor(data3)\n",
    "print(dataTS2.shape)\n",
    "print(dataTS3.shape)"
   ]
  },
  {
   "cell_type": "code",
   "execution_count": 64,
   "metadata": {},
   "outputs": [
    {
     "name": "stdout",
     "output_type": "stream",
     "text": [
      "torch.Size([200, 100])\n",
      "torch.Size([200, 100])\n"
     ]
    }
   ],
   "source": [
    "# 1차원축 제거 방법1) => reshape()\n",
    "print(dataTS2.reshape(200,-1).shape)\n",
    "print(dataTS3.reshape(200,-1).shape)"
   ]
  },
  {
   "cell_type": "code",
   "execution_count": 68,
   "metadata": {},
   "outputs": [
    {
     "name": "stdout",
     "output_type": "stream",
     "text": [
      "torch.Size([200, 100])\n",
      "torch.Size([200, 100])\n",
      "torch.Size([200, 100, 1])\n",
      "torch.Size([200, 100, 1])\n",
      "torch.Size([200, 100, 1])\n"
     ]
    }
   ],
   "source": [
    "# 1차원축 제거 방법2) => squeeze() \n",
    "print(dataTS2.squeeze().shape)\n",
    "print(dataTS3.squeeze().shape)\n",
    "print(dataTS3.squeeze(dim=1).shape)\n",
    "print(dataTS3.squeeze(dim=0).shape)\n",
    "print(dataTS3.squeeze_(dim=1).shape) # 메서드 뒤에 _ : 원본 덮어쓰기"
   ]
  },
  {
   "cell_type": "code",
   "execution_count": null,
   "metadata": {},
   "outputs": [],
   "source": []
  }
 ],
 "metadata": {
  "kernelspec": {
   "display_name": "TORCH_CV_38",
   "language": "python",
   "name": "python3"
  },
  "language_info": {
   "codemirror_mode": {
    "name": "ipython",
    "version": 3
   },
   "file_extension": ".py",
   "mimetype": "text/x-python",
   "name": "python",
   "nbconvert_exporter": "python",
   "pygments_lexer": "ipython3",
   "version": "3.8.19"
  }
 },
 "nbformat": 4,
 "nbformat_minor": 2
}
