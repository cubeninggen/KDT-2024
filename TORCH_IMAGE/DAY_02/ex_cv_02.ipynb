{
 "cells": [
  {
   "cell_type": "markdown",
   "metadata": {},
   "source": [
    "#### Video 처리\n",
    "- cv2.VideoCapture(동영상 또는 카메라_번호)함수"
   ]
  },
  {
   "cell_type": "code",
   "execution_count": 5,
   "metadata": {},
   "outputs": [],
   "source": [
    "import cv2\n",
    "import numpy as np\n",
    "import time"
   ]
  },
  {
   "cell_type": "code",
   "execution_count": 14,
   "metadata": {},
   "outputs": [],
   "source": [
    "DIR_PATH='../image/'\n",
    "SAVE_FILE=f'cap_face{time.ctime()}.jpg'\n",
    "CAM_DEVICE=0"
   ]
  },
  {
   "cell_type": "markdown",
   "metadata": {},
   "source": [
    "- [카메라관련 영상처리]"
   ]
  },
  {
   "cell_type": "code",
   "execution_count": 15,
   "metadata": {},
   "outputs": [],
   "source": [
    "\n",
    "# 카메라와 연결여부 체크\n",
    "camera=cv2.VideoCapture(CAM_DEVICE)\n",
    "if camera.isOpened():\n",
    "    while True:\n",
    "        ret,img=camera.read()\n",
    "        if ret:\n",
    "            cv2.imshow('VIDEO',img)\n",
    "            if cv2.waitKey(10)!=-1:\n",
    "                cv2.imwrite(DIR_PATH+SAVE_FILE.replace(':',' '),img)\n",
    "                cv2.destroyAllWindows()\n",
    "                break\n",
    "        else:print('영상 출력 실패')\n",
    "else:print('카메라 연결여부 체크')"
   ]
  },
  {
   "cell_type": "code",
   "execution_count": null,
   "metadata": {},
   "outputs": [],
   "source": []
  },
  {
   "cell_type": "code",
   "execution_count": null,
   "metadata": {},
   "outputs": [],
   "source": []
  }
 ],
 "metadata": {
  "kernelspec": {
   "display_name": "TORCH_CV_38",
   "language": "python",
   "name": "python3"
  },
  "language_info": {
   "codemirror_mode": {
    "name": "ipython",
    "version": 3
   },
   "file_extension": ".py",
   "mimetype": "text/x-python",
   "name": "python",
   "nbconvert_exporter": "python",
   "pygments_lexer": "ipython3",
   "version": "3.8.19"
  }
 },
 "nbformat": 4,
 "nbformat_minor": 2
}
