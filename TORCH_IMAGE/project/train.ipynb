{
 "cells": [
  {
   "cell_type": "code",
   "execution_count": 4,
   "metadata": {},
   "outputs": [
    {
     "name": "stdout",
     "output_type": "stream",
     "text": [
      "66211 16553\n"
     ]
    }
   ],
   "source": [
    "## 모듈로딩\n",
    "import torch.nn as nn\n",
    "import torch\n",
    "from torch.utils.data import random_split\n",
    "from torchvision import transforms\n",
    "from torchvision.datasets import ImageFolder\n",
    "from torchvision.transforms import v2\n",
    "\n",
    "DATA_DIR=r'C:\\KDT-2024\\TORCH_IMAGE\\project\\output_images'\n",
    "\n",
    "transConvert = v2.Compose([\n",
    "    transforms.RandomApply([ transforms.RandomHorizontalFlip(),\n",
    "    transforms.RandomVerticalFlip(),\n",
    "    transforms.RandomAdjustSharpness(0)], p=0.8)])\n",
    "\n",
    "imgDS=ImageFolder(root=DATA_DIR, transform=transConvert)\n",
    "\n",
    "train_size = int(0.8 * len(imgDS))  # 80%\n",
    "val_size = 82764- train_size\n",
    "\n",
    "print(train_size, val_size)\n",
    "train_dataset, val_dataset = random_split(imgDS, [train_size, val_size])"
   ]
  },
  {
   "cell_type": "code",
   "execution_count": null,
   "metadata": {},
   "outputs": [],
   "source": []
  }
 ],
 "metadata": {
  "kernelspec": {
   "display_name": "TORCH_CV_38",
   "language": "python",
   "name": "python3"
  },
  "language_info": {
   "codemirror_mode": {
    "name": "ipython",
    "version": 3
   },
   "file_extension": ".py",
   "mimetype": "text/x-python",
   "name": "python",
   "nbconvert_exporter": "python",
   "pygments_lexer": "ipython3",
   "version": "3.8.19"
  }
 },
 "nbformat": 4,
 "nbformat_minor": 2
}
