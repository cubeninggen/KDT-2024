{
 "cells": [
  {
   "cell_type": "markdown",
   "metadata": {},
   "source": [
    "#### 유튜브 댓글 크롤링 해오기"
   ]
  },
  {
   "cell_type": "code",
   "execution_count": 204,
   "metadata": {},
   "outputs": [],
   "source": [
    "# 필요한 라이브러리 임포트\n",
    "from selenium import webdriver\n",
    "import selenium\n",
    "import time\n",
    "from openpyxl import Workbook\n",
    "import pandas as pd\n",
    "from selenium.webdriver.common.keys import Keys\n",
    "from selenium.webdriver.chrome.service import Service\n",
    "from selenium.webdriver.common.by import By\n",
    "from bs4 import BeautifulSoup\n",
    "\n",
    "import warnings\n",
    "warnings.filterwarnings('ignore')\n"
   ]
  },
  {
   "cell_type": "markdown",
   "metadata": {},
   "source": [
    "[1] 크로릴할 유튜브 불러오기\n",
    "***"
   ]
  },
  {
   "cell_type": "code",
   "execution_count": 205,
   "metadata": {},
   "outputs": [],
   "source": [
    "# 유튜브 영상 URL\n",
    "video_url = 'https://www.youtube.com/watch?v=mgUrWDxf7oo'  # 유튜브 영상 URL\n",
    "\n",
    "# 유튜브 페이지 열기\n",
    "def open_youtube_page(video_url):\n",
    "    service = Service(executable_path='./chromedriver.exe')\n",
    "    driver = webdriver.Chrome(service=service)\n",
    "    driver.get(video_url)\n",
    "    driver.implicitly_wait(3)\n",
    "    return driver\n",
    "\n",
    "driver = open_youtube_page(video_url)  # 유튜브 페이지 열기\n"
   ]
  },
  {
   "cell_type": "markdown",
   "metadata": {},
   "source": [
    "[3] 웹페이지 끝까지 스크롤하기\n",
    "***"
   ]
  },
  {
   "cell_type": "code",
   "execution_count": 206,
   "metadata": {},
   "outputs": [],
   "source": [
    "# 웹페이지 스크롤 하기\n",
    "def scroll_to_bottom(driver):\n",
    "    last_height = driver.execute_script('return document.documentElement.scrollHeight')\n",
    "\n",
    "    while True:\n",
    "        driver.execute_script('window.scrollTo(0, document.documentElement.scrollHeight);')\n",
    "        time.sleep(1.5)\n",
    "        \n",
    "        new_height = driver.execute_script('return document.documentElement.scrollHeight')\n",
    "        if new_height == last_height:\n",
    "            break\n",
    "        last_height = new_height\n",
    "    time.sleep(1.5)\n",
    "\n",
    "scroll_to_bottom(driver)  # 페이지 스크롤\n"
   ]
  },
  {
   "cell_type": "code",
   "execution_count": 207,
   "metadata": {},
   "outputs": [],
   "source": [
    "# 대댓글 버튼 클릭\n",
    "def click_more_replies(driver):\n",
    "    buttons = driver.find_elements(By.CSS_SELECTOR, '#more-replies > a')\n",
    "    time.sleep(1.5)\n",
    "\n",
    "    for button in buttons:\n",
    "        button.send_keys(Keys.ENTER)\n",
    "        time.sleep(1.5)\n",
    "        button.click()\n",
    "\n",
    "click_more_replies(driver)  # 대댓글 클릭\n"
   ]
  },
  {
   "cell_type": "code",
   "execution_count": 208,
   "metadata": {},
   "outputs": [],
   "source": [
    "# 댓글 가져오기\n",
    "def get_comments(driver):\n",
    "    # 현재 페이지의 HTML 소스를 가져옴\n",
    "    html_source = driver.page_source\n",
    "    soup = BeautifulSoup(html_source, 'html.parser')  # BeautifulSoup으로 HTML 파싱\n",
    "\n",
    "    # 댓글 내용을 선택\n",
    "    comment_list = soup.select('yt-attributed-string#content-text')\n",
    "    comment_final = []  # 댓글을 저장할 리스트 초기화\n",
    "\n",
    "    # 각 댓글을 반복하면서 내용 추출\n",
    "    for comment in comment_list:\n",
    "        temp_comment = comment.text  # 댓글 텍스트 가져오기\n",
    "        temp_comment = temp_comment.replace('\\n', '').replace('\\t', '').strip()  # 불필요한 공백 및 줄바꿈 제거\n",
    "        comment_final.append(temp_comment)  # 리스트에 추가\n",
    "    \n",
    "    return comment_final  # 최종 댓글 리스트 반환\n",
    "\n",
    "comments = get_comments(driver)  # 댓글 가져오기\n"
   ]
  },
  {
   "cell_type": "code",
   "execution_count": 209,
   "metadata": {},
   "outputs": [
    {
     "name": "stdout",
     "output_type": "stream",
     "text": [
      "댓글이 result.xlsx에 저장되었습니다.\n"
     ]
    }
   ],
   "source": [
    "# 댓글을 엑셀로 저장하기\n",
    "def save_comments_to_excel(comments):\n",
    "    pd_data = {'댓글 내용': comments}\n",
    "    youtube_pd = pd.DataFrame(pd_data)\n",
    "    youtube_pd.to_excel('result20.xlsx', index=False)\n",
    "    print(\"댓글이 result.xlsx에 저장되었습니다.\")\n",
    "\n",
    "save_comments_to_excel(comments)  # 댓글 저장\n"
   ]
  },
  {
   "cell_type": "code",
   "execution_count": 210,
   "metadata": {},
   "outputs": [],
   "source": [
    "driver.quit()  # 드라이버 종료\n"
   ]
  }
 ],
 "metadata": {
  "kernelspec": {
   "display_name": "TORCH_TEXT_38",
   "language": "python",
   "name": "python3"
  },
  "language_info": {
   "codemirror_mode": {
    "name": "ipython",
    "version": 3
   },
   "file_extension": ".py",
   "mimetype": "text/x-python",
   "name": "python",
   "nbconvert_exporter": "python",
   "pygments_lexer": "ipython3",
   "version": "3.8.19"
  }
 },
 "nbformat": 4,
 "nbformat_minor": 2
}
