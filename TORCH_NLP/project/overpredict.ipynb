{
 "cells": [
  {
   "cell_type": "code",
   "execution_count": 36,
   "metadata": {},
   "outputs": [
    {
     "name": "stdout",
     "output_type": "stream",
     "text": [
      "이 댓글은 오버워치 관련입니다.\n"
     ]
    }
   ],
   "source": [
    "import torch\n",
    "import pickle\n",
    "\n",
    "# 1. 모델과 벡터라이저 로드\n",
    "model = YourModel(input_size, output_size)  # YourModel을 정의해주셔야 합니다.\n",
    "model.load_state_dict(torch.load('overwatch_model.pth', map_location=torch.device('cpu')))\n",
    "model.eval()  # 평가 모드로 전환\n",
    "\n",
    "with open('tfidf_vectorizer.pkl', 'rb') as f:\n",
    "    vectorizer = pickle.load(f)\n",
    "\n",
    "# 2. 댓글 입력받기\n",
    "new_comment = input(\"댓글을 입력하세요: \")\n",
    "\n",
    "# 3. 벡터화\n",
    "comment_vector = vectorizer.transform([new_comment])\n",
    "\n",
    "# 4. 텐서 변환\n",
    "comment_tensor = torch.tensor(comment_vector.toarray(), dtype=torch.float32)\n",
    "\n",
    "# 5. 예측\n",
    "with torch.no_grad():  # 평가 시에는 기울기를 계산하지 않도록\n",
    "    prediction = model(comment_tensor)\n",
    "\n",
    "# 6. 예측 결과 출력\n",
    "if prediction.item() >= 0.5:\n",
    "    print(\"이 댓글은 오버워치 관련입니다.\")\n",
    "else:\n",
    "    print(\"이 댓글은 오버워치와 관련이 없습니다.\")\n"
   ]
  },
  {
   "cell_type": "code",
   "execution_count": null,
   "metadata": {},
   "outputs": [],
   "source": []
  },
  {
   "cell_type": "code",
   "execution_count": null,
   "metadata": {},
   "outputs": [],
   "source": []
  }
 ],
 "metadata": {
  "kernelspec": {
   "display_name": "TORCH_TEXT_38",
   "language": "python",
   "name": "python3"
  },
  "language_info": {
   "codemirror_mode": {
    "name": "ipython",
    "version": 3
   },
   "file_extension": ".py",
   "mimetype": "text/x-python",
   "name": "python",
   "nbconvert_exporter": "python",
   "pygments_lexer": "ipython3",
   "version": "3.8.19"
  }
 },
 "nbformat": 4,
 "nbformat_minor": 2
}
