{
 "cells": [
  {
   "cell_type": "code",
   "execution_count": 7,
   "metadata": {},
   "outputs": [],
   "source": [
    "from selenium import webdriver\n",
    "from selenium.webdriver.chrome.service import Service\n",
    "from webdriver_manager.chrome import ChromeDriverManager\n",
    "from selenium.webdriver.common.by import By\n",
    "from selenium.webdriver.common.keys import Keys\n",
    "import time\n",
    "\n",
    "# Selenium으로 유튜브 댓글 페이지 접속\n",
    "def open_youtube_comments(video_url):\n",
    "    options = webdriver.ChromeOptions()\n",
    "    options.add_argument(\"--headless\")  # 화면을 띄우지 않음\n",
    "    options.add_argument(\"--disable-gpu\")\n",
    "    options.add_argument(\"--no-sandbox\")\n",
    "    \n",
    "    # Chrome 드라이버 설정\n",
    "    driver = webdriver.Chrome(service=Service(ChromeDriverManager().install()), options=options)\n",
    "    \n",
    "    driver.get(video_url)\n",
    "    time.sleep(3)\n",
    "\n",
    "    # 페이지 스크롤을 끝까지 내려 댓글을 로드\n",
    "    last_height = driver.execute_script(\"return document.documentElement.scrollHeight\")\n",
    "    scroll_attempts = 0\n",
    "    while True:\n",
    "        driver.execute_script(\"window.scrollTo(0, document.documentElement.scrollHeight);\")\n",
    "        time.sleep(2)\n",
    "        new_height = driver.execute_script(\"return document.documentElement.scrollHeight\")\n",
    "        \n",
    "        if new_height == last_height:\n",
    "            scroll_attempts += 1\n",
    "            if scroll_attempts > 2:  # 동일한 높이에서 스크롤이 멈추면 중지\n",
    "                break\n",
    "        else:\n",
    "            scroll_attempts = 0  # 스크롤이 성공적으로 내려갔으면 리셋\n",
    "        last_height = new_height\n",
    "\n",
    "    time.sleep(2)\n",
    "    return driver  # driver 반환\n",
    "\n",
    "# 사용 예시\n",
    "if __name__ == \"__main__\":\n",
    "    video_url = \"https://www.youtube.com/watch?v=m_o0MpnD7oQ\"  # 유튜브 영상 URL 입력\n",
    "    driver = open_youtube_comments(video_url)\n",
    "    # 다음 단계로 넘어가기 전에 driver를 사용할 수 있습니다.\n"
   ]
  },
  {
   "cell_type": "code",
   "execution_count": 8,
   "metadata": {},
   "outputs": [],
   "source": [
    "# 대댓글 버튼 모두 클릭하기\n",
    "def click_more_replies(driver):\n",
    "    buttons = driver.find_elements(By.CSS_SELECTOR, \"#more-replies > a\")\n",
    "    for button in buttons:\n",
    "        try:\n",
    "            button.send_keys(Keys.ENTER)\n",
    "            time.sleep(1.5)\n",
    "            button.click()\n",
    "        except:\n",
    "            pass\n",
    "\n",
    "# 사용 예시\n",
    "if __name__ == \"__main__\":\n",
    "    # 이전 단계에서 반환된 driver를 사용\n",
    "    click_more_replies(driver)\n",
    "    # 다음 단계로 넘어가기 전에 driver를 사용할 수 있습니다.\n"
   ]
  },
  {
   "cell_type": "code",
   "execution_count": 9,
   "metadata": {},
   "outputs": [],
   "source": [
    "from bs4 import BeautifulSoup\n",
    "\n",
    "# BeautifulSoup으로 HTML 파싱 및 댓글/대댓글 추출\n",
    "def get_comments_from_html(driver):\n",
    "    page_source = driver.page_source\n",
    "    soup = BeautifulSoup(page_source, 'html.parser')\n",
    "    \n",
    "    # 작성자와 댓글 내용 추출\n",
    "    id_list = soup.select(\"div#header-author > h3 > #author-text > span\")\n",
    "    comment_list = soup.select(\"yt-formatted-string#content-text\")\n",
    "\n",
    "    id_final = []\n",
    "    comment_final = []\n",
    "\n",
    "    for i in range(len(comment_list)):\n",
    "        temp_id = id_list[i].text.strip().replace('\\n', '').replace('\\t', '').replace('    ', '')\n",
    "        temp_comment = comment_list[i].text.strip().replace('\\n', '').replace('\\t', '').replace('    ', '')\n",
    "        \n",
    "        id_final.append(temp_id)  # 댓글 작성자\n",
    "        comment_final.append(temp_comment)  # 댓글 내용\n",
    "\n",
    "    return id_final, comment_final\n",
    "\n",
    "# 사용 예시\n",
    "if __name__ == \"__main__\":\n",
    "    # 이전 단계에서 반환된 driver를 사용\n",
    "    id_final, comment_final = get_comments_from_html(driver)\n",
    "    # 다음 단계로 넘어가기 전에 id_final과 comment_final을 사용할 수 있습니다.\n"
   ]
  },
  {
   "cell_type": "code",
   "execution_count": 10,
   "metadata": {},
   "outputs": [
    {
     "name": "stdout",
     "output_type": "stream",
     "text": [
      "저장할 댓글이 없습니다.\n"
     ]
    }
   ],
   "source": [
    "import pandas as pd\n",
    "\n",
    "# 댓글을 엑셀로 저장하는 함수\n",
    "def save_comments_to_excel(id_final, comment_final, file_name):\n",
    "    if id_final and comment_final:\n",
    "        pd_data = {\"아이디\": id_final, \"댓글 내용\": comment_final}\n",
    "        youtube_pd = pd.DataFrame(pd_data)\n",
    "        \n",
    "        # 엑셀 파일로 저장\n",
    "        youtube_pd.to_excel(file_name, index=False)\n",
    "        print(f\"댓글이 {file_name}에 저장되었습니다.\")\n",
    "    else:\n",
    "        print(\"저장할 댓글이 없습니다.\")\n",
    "\n",
    "# 사용 예시\n",
    "if __name__ == \"__main__\":\n",
    "    file_name = \"youtube_comments.xlsx\"  # 저장할 엑셀 파일 이름\n",
    "    save_comments_to_excel(id_final, comment_final, file_name)\n"
   ]
  },
  {
   "cell_type": "code",
   "execution_count": 11,
   "metadata": {},
   "outputs": [
    {
     "name": "stdout",
     "output_type": "stream",
     "text": [
      "저장할 댓글이 없습니다.\n"
     ]
    }
   ],
   "source": [
    "if __name__ == \"__main__\":\n",
    "    video_url = \"https://www.youtube.com/watch?v=m_o0MpnD7oQ\"  # 유튜브 영상 URL 입력\n",
    "    driver = open_youtube_comments(video_url)\n",
    "    click_more_replies(driver)\n",
    "    id_final, comment_final = get_comments_from_html(driver)\n",
    "    file_name = \"youtube_comments.xlsx\"  # 저장할 엑셀 파일 이름\n",
    "    save_comments_to_excel(id_final, comment_final, file_name)\n",
    "    driver.quit()  # 드라이버 종료\n"
   ]
  }
 ],
 "metadata": {
  "kernelspec": {
   "display_name": "TORCH_TEXT_38",
   "language": "python",
   "name": "python3"
  },
  "language_info": {
   "codemirror_mode": {
    "name": "ipython",
    "version": 3
   },
   "file_extension": ".py",
   "mimetype": "text/x-python",
   "name": "python",
   "nbconvert_exporter": "python",
   "pygments_lexer": "ipython3",
   "version": "3.8.19"
  }
 },
 "nbformat": 4,
 "nbformat_minor": 2
}
