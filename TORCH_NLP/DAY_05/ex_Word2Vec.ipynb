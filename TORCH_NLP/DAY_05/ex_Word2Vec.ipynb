{
 "cells": [
  {
   "cell_type": "code",
   "execution_count": 1,
   "id": "a49f8cc3",
   "metadata": {},
   "outputs": [
    {
     "name": "stdout",
     "output_type": "stream",
     "text": [
      "\n",
      "    Korpora 는 다른 분들이 연구 목적으로 공유해주신 말뭉치들을\n",
      "    손쉽게 다운로드, 사용할 수 있는 기능만을 제공합니다.\n",
      "\n",
      "    말뭉치들을 공유해 주신 분들에게 감사드리며, 각 말뭉치 별 설명과 라이센스를 공유 드립니다.\n",
      "    해당 말뭉치에 대해 자세히 알고 싶으신 분은 아래의 description 을 참고,\n",
      "    해당 말뭉치를 연구/상용의 목적으로 이용하실 때에는 아래의 라이센스를 참고해 주시기 바랍니다.\n",
      "\n",
      "    # Description\n",
      "    Author : e9t@github\n",
      "    Repository : https://github.com/e9t/nsmc\n",
      "    References : www.lucypark.kr/docs/2015-pyconkr/#39\n",
      "\n",
      "    Naver sentiment movie corpus v1.0\n",
      "    This is a movie review dataset in the Korean language.\n",
      "    Reviews were scraped from Naver Movies.\n",
      "\n",
      "    The dataset construction is based on the method noted in\n",
      "    [Large movie review dataset][^1] from Maas et al., 2011.\n",
      "\n",
      "    [^1]: http://ai.stanford.edu/~amaas/data/sentiment/\n",
      "\n",
      "    # License\n",
      "    CC0 1.0 Universal (CC0 1.0) Public Domain Dedication\n",
      "    Details in https://creativecommons.org/publicdomain/zero/1.0/\n",
      "\n",
      "[Korpora] Corpus `nsmc` is already installed at C:\\Users\\KDP-48\\Korpora\\nsmc\\ratings_train.txt\n",
      "[Korpora] Corpus `nsmc` is already installed at C:\\Users\\KDP-48\\Korpora\\nsmc\\ratings_test.txt\n"
     ]
    }
   ],
   "source": [
    "import pandas as pd\n",
    "from Korpora import Korpora\n",
    "from konlpy.tag import Okt\n",
    "\n",
    "\n",
    "corpus = Korpora.load(\"nsmc\")\n",
    "corpus = pd.DataFrame(corpus.test)"
   ]
  },
  {
   "cell_type": "code",
   "execution_count": 2,
   "id": "cd387120",
   "metadata": {},
   "outputs": [],
   "source": [
    "tokenizer = Okt()\n",
    "tokens = [tokenizer.morphs(review) for review in corpus.text]"
   ]
  },
  {
   "cell_type": "code",
   "execution_count": 3,
   "id": "c121d6cd",
   "metadata": {},
   "outputs": [],
   "source": [
    "from gensim.models import Word2Vec\n",
    "\n",
    "\n",
    "word2vec = Word2Vec(\n",
    "    sentences=tokens,\n",
    "    vector_size=128,\n",
    "    window=5,\n",
    "    min_count=1,\n",
    "    sg=1,\n",
    "    epochs=3,\n",
    "    max_final_vocab=10000\n",
    ")"
   ]
  },
  {
   "cell_type": "code",
   "execution_count": 5,
   "id": "89b83369",
   "metadata": {},
   "outputs": [],
   "source": [
    "word2vec.save(\"../models/word2vec.model\")\n",
    "word2vec = Word2Vec.load(\"../models/word2vec.model\")"
   ]
  },
  {
   "cell_type": "code",
   "execution_count": 6,
   "id": "82db1c00",
   "metadata": {},
   "outputs": [
    {
     "name": "stdout",
     "output_type": "stream",
     "text": [
      "[-0.21091034 -0.37215143  0.41972739  0.32188898  0.0677628  -0.10428534\n",
      " -0.06075874 -0.21778153 -0.6429971   0.4063367  -0.02284293 -0.390566\n",
      " -0.13268864  0.10928528  0.04618903 -0.0642839  -0.27727     0.2852839\n",
      " -0.17417486  0.11104319  0.63847804  0.20264867 -0.21911728 -0.05203475\n",
      " -0.2262265   0.01539186 -0.26695326 -0.01436143  0.19248591 -0.18941745\n",
      " -0.32601225  0.17517667  0.53637075  0.01616979 -0.05794773  0.01868717\n",
      "  0.18377551 -0.1537056  -0.01028345 -0.13729511  0.17035139  0.16001906\n",
      "  0.02290586 -0.44103962 -0.50967443  0.09993282 -0.677017    0.04388885\n",
      "  0.07748698 -0.03051814  0.5642813   0.07881954  0.2041268   0.28107405\n",
      " -0.3639884  -0.31285176 -0.0276575   0.05231698 -0.12819615  0.04528815\n",
      " -0.05952307 -0.13924818  0.23173867  0.30033907 -0.45492092  0.07027625\n",
      "  0.05144402  0.25631607  0.45674843 -0.3692066  -0.24672115 -0.28358203\n",
      " -0.40932506  0.12492052 -0.14466606 -0.16208345 -0.19542877 -0.3916903\n",
      " -0.11028482  0.0999072  -0.2914164   0.00620181  0.3906405   0.43972576\n",
      "  0.40604353  0.01043265  0.33988422 -0.63245225 -0.02133917  0.01924966\n",
      " -0.11054714  0.14836702 -0.07572675  0.14316165  0.32692826  0.1202766\n",
      " -0.14005299 -0.16575006 -0.40996566 -0.6912984  -0.3714253  -0.21925953\n",
      "  0.17740537 -0.55273026  0.08001112  0.29888093  0.5462249   0.18586302\n",
      "  0.09844091 -0.22404285  0.3894302  -0.41087726 -0.21237195  0.21730472\n",
      "  0.07896197 -0.27430788  0.56427246  0.29661706 -0.00109943  0.4129307\n",
      " -0.06950833 -0.3692283   0.35266432 -0.09042473  0.06131201  0.02678066\n",
      " -0.5268464  -0.15105452]\n",
      "[('캐스팅', 0.7808980941772461), ('연기력', 0.7793840169906616), ('연기자', 0.7175485491752625), ('조연', 0.7175145149230957), ('몸매', 0.7163791060447693)]\n",
      "0.7793839\n"
     ]
    }
   ],
   "source": [
    "word = \"연기\"\n",
    "print(word2vec.wv[word])\n",
    "print(word2vec.wv.most_similar(word, topn=5))\n",
    "print(word2vec.wv.similarity(w1=word, w2=\"연기력\"))"
   ]
  },
  {
   "cell_type": "code",
   "execution_count": null,
   "id": "e256bf5a",
   "metadata": {},
   "outputs": [],
   "source": []
  }
 ],
 "metadata": {
  "kernelspec": {
   "display_name": "TORCH_TEXT_38",
   "language": "python",
   "name": "python3"
  },
  "language_info": {
   "codemirror_mode": {
    "name": "ipython",
    "version": 3
   },
   "file_extension": ".py",
   "mimetype": "text/x-python",
   "name": "python",
   "nbconvert_exporter": "python",
   "pygments_lexer": "ipython3",
   "version": "3.8.19"
  }
 },
 "nbformat": 4,
 "nbformat_minor": 5
}
