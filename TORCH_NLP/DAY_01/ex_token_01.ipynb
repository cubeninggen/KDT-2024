{
 "cells": [
  {
   "cell_type": "markdown",
   "metadata": {},
   "source": [
    "#### 자연어 처리를 위한 전처리\n",
    "- 토큰화(Tokenizer):의미단위로 최소화\n",
    "    * 단어단위 토큰화\n",
    "    * 문장단위 토큰화\n",
    "    * 단어와 구두점 토큰화"
   ]
  },
  {
   "cell_type": "code",
   "execution_count": 1,
   "metadata": {},
   "outputs": [],
   "source": [
    "#### 모듈로딩\n",
    "from nltk.tokenize import word_tokenize, sent_tokenize, wordpunct_tokenize\n"
   ]
  },
  {
   "cell_type": "code",
   "execution_count": 2,
   "metadata": {},
   "outputs": [],
   "source": [
    "#### 임시데이터\n",
    "text='Good Luck~!!! Happy New Year 2025 !'"
   ]
  },
  {
   "cell_type": "code",
   "execution_count": 3,
   "metadata": {},
   "outputs": [
    {
     "name": "stdout",
     "output_type": "stream",
     "text": [
      "['Good', 'Luck~', '!', '!', '!', 'Happy', 'New', 'Year', '2025', '!']\n"
     ]
    }
   ],
   "source": [
    "#### [1] 단어단위 토큰화\n",
    "result=word_tokenize(text)\n",
    "print(result)"
   ]
  },
  {
   "cell_type": "code",
   "execution_count": 4,
   "metadata": {},
   "outputs": [
    {
     "name": "stdout",
     "output_type": "stream",
     "text": [
      "['Good Luck~!!!', 'Happy New Year 2025 !']\n"
     ]
    }
   ],
   "source": [
    "#### [2] 문장단위 토큰화\n",
    "result=sent_tokenize(text)\n",
    "print(result)"
   ]
  },
  {
   "cell_type": "code",
   "execution_count": 5,
   "metadata": {},
   "outputs": [
    {
     "name": "stdout",
     "output_type": "stream",
     "text": [
      "['Good', 'Luck', '~!!!', 'Happy', 'New', 'Year', '2025', '!']\n"
     ]
    }
   ],
   "source": [
    "#### [3] 단어와 구두점 토큰화\n",
    "result=wordpunct_tokenize(text)\n",
    "print(result)"
   ]
  },
  {
   "cell_type": "markdown",
   "metadata": {},
   "source": [
    "##### 품사태깅"
   ]
  },
  {
   "cell_type": "code",
   "execution_count": 6,
   "metadata": {},
   "outputs": [],
   "source": [
    "from nltk.tag import pos_tag"
   ]
  },
  {
   "cell_type": "code",
   "execution_count": 7,
   "metadata": {},
   "outputs": [
    {
     "name": "stdout",
     "output_type": "stream",
     "text": [
      "['I', 'am', 'actively', 'looking', 'for', 'Ph.D.', 'students', '.', 'and', 'you', 'are', 'a', 'Ph.D', 'student', '.']\n"
     ]
    }
   ],
   "source": [
    "text=\"I am actively looking for Ph.D. students. and you are a Ph.D student.\"\n",
    "\n",
    "result=word_tokenize(text)\n",
    "print(result)"
   ]
  },
  {
   "cell_type": "code",
   "execution_count": 8,
   "metadata": {},
   "outputs": [
    {
     "data": {
      "text/plain": [
       "[('I', 'PRP'),\n",
       " ('am', 'VBP'),\n",
       " ('actively', 'RB'),\n",
       " ('looking', 'VBG'),\n",
       " ('for', 'IN'),\n",
       " ('Ph.D.', 'NNP'),\n",
       " ('students', 'NNS'),\n",
       " ('.', '.'),\n",
       " ('and', 'CC'),\n",
       " ('you', 'PRP'),\n",
       " ('are', 'VBP'),\n",
       " ('a', 'DT'),\n",
       " ('Ph.D', 'NNP'),\n",
       " ('student', 'NN'),\n",
       " ('.', '.')]"
      ]
     },
     "execution_count": 8,
     "metadata": {},
     "output_type": "execute_result"
    }
   ],
   "source": [
    "pos_tag(result)"
   ]
  },
  {
   "cell_type": "markdown",
   "metadata": {},
   "source": [
    "##### 어간추출"
   ]
  },
  {
   "cell_type": "code",
   "execution_count": 10,
   "metadata": {},
   "outputs": [],
   "source": [
    "# 단어사전에 존제하는 어간으로 추출 즉, 표제어 추출\n",
    "from nltk.stem import WordNetLemmatizer\n",
    "words = ['policy', 'doing', 'organization', 'have', 'going', 'love', 'lives', 'fly',\n",
    "'dies', 'watched', 'has', 'starting']"
   ]
  },
  {
   "cell_type": "code",
   "execution_count": 13,
   "metadata": {},
   "outputs": [
    {
     "data": {
      "text/plain": [
       "['policy',\n",
       " 'doing',\n",
       " 'organization',\n",
       " 'have',\n",
       " 'going',\n",
       " 'love',\n",
       " 'life',\n",
       " 'fly',\n",
       " 'dy',\n",
       " 'watched',\n",
       " 'ha',\n",
       " 'starting']"
      ]
     },
     "execution_count": 13,
     "metadata": {},
     "output_type": "execute_result"
    }
   ],
   "source": [
    "# 표제어 추출 (기본 기준 : 명사)\n",
    "[WordNetLemmatizer().lemmatize(w) for w in words]"
   ]
  },
  {
   "cell_type": "code",
   "execution_count": 14,
   "metadata": {},
   "outputs": [
    {
     "data": {
      "text/plain": [
       "['policy',\n",
       " 'do',\n",
       " 'organization',\n",
       " 'have',\n",
       " 'go',\n",
       " 'love',\n",
       " 'live',\n",
       " 'fly',\n",
       " 'die',\n",
       " 'watch',\n",
       " 'have',\n",
       " 'start']"
      ]
     },
     "execution_count": 14,
     "metadata": {},
     "output_type": "execute_result"
    }
   ],
   "source": [
    "# 표제어 추출 (동사기준)\n",
    "[WordNetLemmatizer().lemmatize(w,pos='v') for w in words]"
   ]
  },
  {
   "cell_type": "code",
   "execution_count": 15,
   "metadata": {},
   "outputs": [],
   "source": [
    "# 단어사전에 존제하지 않을 수 있는 어간으로 추출\n",
    "# 단어의 형태학적 측면에서 어간 추출하는 방식\n",
    "from nltk.stem import PorterStemmer,LancasterStemmer"
   ]
  },
  {
   "cell_type": "code",
   "execution_count": 27,
   "metadata": {},
   "outputs": [
    {
     "name": "stdout",
     "output_type": "stream",
     "text": [
      "['policy', 'doing', 'organization', 'have', 'going', 'love', 'lives', 'fly', 'dies', 'watched', 'has', 'starting']\n",
      "\n",
      "polici do organ have go love live fli die watch ha start "
     ]
    }
   ],
   "source": [
    "# Porter 알고리즘 기반으로 형태적 측면으로 어간추출\n",
    "print(words)\n",
    "print()\n",
    "for _ in [PorterStemmer().stem(w) for w in words]:print(_,end=' ')"
   ]
  },
  {
   "cell_type": "code",
   "execution_count": 26,
   "metadata": {},
   "outputs": [
    {
     "name": "stdout",
     "output_type": "stream",
     "text": [
      "['policy', 'doing', 'organization', 'have', 'going', 'love', 'lives', 'fly', 'dies', 'watched', 'has', 'starting']\n",
      "\n",
      "policy doing org hav going lov liv fly die watch has start "
     ]
    }
   ],
   "source": [
    "# Lancaster 알고리즘 기반으로 형태적 측면으로 어간추출\n",
    "print(words)\n",
    "print()\n",
    "for _ in [LancasterStemmer().stem(w) for w in words]:print(_,end=' ')"
   ]
  },
  {
   "cell_type": "code",
   "execution_count": null,
   "metadata": {},
   "outputs": [],
   "source": []
  }
 ],
 "metadata": {
  "kernelspec": {
   "display_name": "TORCH_TEXT_38",
   "language": "python",
   "name": "python3"
  },
  "language_info": {
   "codemirror_mode": {
    "name": "ipython",
    "version": 3
   },
   "file_extension": ".py",
   "mimetype": "text/x-python",
   "name": "python",
   "nbconvert_exporter": "python",
   "pygments_lexer": "ipython3",
   "version": "3.8.19"
  }
 },
 "nbformat": 4,
 "nbformat_minor": 2
}
