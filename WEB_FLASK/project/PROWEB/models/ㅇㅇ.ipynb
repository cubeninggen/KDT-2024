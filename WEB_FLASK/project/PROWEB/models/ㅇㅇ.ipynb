{
 "cells": [
  {
   "cell_type": "code",
   "execution_count": 1,
   "metadata": {},
   "outputs": [],
   "source": [
    "import models"
   ]
  },
  {
   "cell_type": "code",
   "execution_count": 2,
   "metadata": {},
   "outputs": [],
   "source": [
    "import torch.nn as nn\n",
    "#  PyTorch 모델 정의\n",
    "class IrisRegModel(nn.Module):\n",
    "    def __init__(self):\n",
    "        super().__init__()\n",
    "        # 1. 입력층 4 -> 16\n",
    "        self.in_layer = nn.Linear(4, 16)\n",
    "        \n",
    "        # 2~10. 은닉층 (LeakyReLU 포함)\n",
    "        self.hd_layer1 = nn.Linear(16, 32)\n",
    "        self.hd_layer2 = nn.Linear(32, 64)\n",
    "        self.hd_layer3 = nn.Linear(64, 128)\n",
    "        self.hd_layer4 = nn.Linear(128, 64)\n",
    "        self.hd_layer5 = nn.Linear(64, 32)\n",
    "        self.hd_layer6 = nn.Linear(32, 64)\n",
    "        self.hd_layer7 = nn.Linear(64, 32)\n",
    "        self.hd_layer8 = nn.Linear(32, 16)\n",
    "        self.hd_layer9 = nn.Linear(16, 8)\n",
    "        \n",
    "        # 11. 출력층 8 -> 1\n",
    "        self.out_layer = nn.Linear(8, 1)\n",
    "\n",
    "        # LeakyReLU (alpha=0.01 사용)\n",
    "        self.leaky_relu = nn.LeakyReLU(0.01)\n",
    "\n",
    "    def forward(self, input_data):\n",
    "        # 1. 입력층\n",
    "        y = self.leaky_relu(self.in_layer(input_data))\n",
    "        \n",
    "        # 2~10. 은닉층들에 LeakyReLU 적용\n",
    "        y = self.leaky_relu(self.hd_layer1(y))\n",
    "        y = self.leaky_relu(self.hd_layer2(y))\n",
    "        y = self.leaky_relu(self.hd_layer3(y))\n",
    "        y = self.leaky_relu(self.hd_layer4(y))\n",
    "        y = self.leaky_relu(self.hd_layer5(y))\n",
    "        y = self.leaky_relu(self.hd_layer6(y))\n",
    "        y = self.leaky_relu(self.hd_layer7(y))\n",
    "        y = self.leaky_relu(self.hd_layer8(y))\n",
    "        y = self.leaky_relu(self.hd_layer9(y))\n",
    "        \n",
    "        # 11. 출력층 (활성화 함수 없음, 회귀이므로)                                     q                                                                                                                               \n",
    "\n",
    "        \n",
    "        return self.out_layer(y)\n",
    " \n"
   ]
  },
  {
   "cell_type": "code",
   "execution_count": 3,
   "metadata": {},
   "outputs": [
    {
     "data": {
      "text/plain": [
       "tensor([[-0.2966]], grad_fn=<AddmmBackward0>)"
      ]
     },
     "execution_count": 3,
     "metadata": {},
     "output_type": "execute_result"
    }
   ],
   "source": [
    "import torch\n",
    "\n",
    "model=torch.load('best_model2.pth',weights_only=False)\n",
    "model(torch.FloatTensor([[1,2,3,4]]))"
   ]
  },
  {
   "cell_type": "code",
   "execution_count": null,
   "metadata": {},
   "outputs": [],
   "source": []
  }
 ],
 "metadata": {
  "kernelspec": {
   "display_name": "Python 3",
   "language": "python",
   "name": "python3"
  },
  "language_info": {
   "codemirror_mode": {
    "name": "ipython",
    "version": 3
   },
   "file_extension": ".py",
   "mimetype": "text/x-python",
   "name": "python",
   "nbconvert_exporter": "python",
   "pygments_lexer": "ipython3",
   "version": "3.8.20"
  }
 },
 "nbformat": 4,
 "nbformat_minor": 2
}
