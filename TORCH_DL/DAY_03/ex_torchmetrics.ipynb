{
 "cells": [
  {
   "cell_type": "markdown",
   "metadata": {},
   "source": [
    "#### Torchmetrics 패키지\n",
    "- pytorch에서 모델 성능평가 기능 제공 패키지\n",
    "- 추가 설치 필요\n",
    "    * pip : pip install torchmetrics\n",
    "    * conda : conda install -c conda-forge torchmetrics\n",
    "- 사용법\n",
    "    * 클레스방식 : 인스턴스 생성 후 사용 \n",
    "    * 함수방식 : 바로사용"
   ]
  },
  {
   "cell_type": "markdown",
   "metadata": {},
   "source": [
    "- [1] 회귀(Regression) 성능지표"
   ]
  },
  {
   "cell_type": "code",
   "execution_count": 11,
   "metadata": {},
   "outputs": [
    {
     "name": "stdout",
     "output_type": "stream",
     "text": [
      "tensor(0.9486)\n",
      "tensor(0.9486)\n",
      "tensor(0.9486)\n"
     ]
    }
   ],
   "source": [
    "import torch\n",
    "from torch import tensor\n",
    "from torchmetrics.functional.regression import r2_score,mean_squared_error,mean_absolute_error\n",
    "from torchmetrics.regression import R2Score,MeanSquaredError,MeanAbsoluteError\n",
    "\n",
    "# 클레스 방식 -----------------------------------------------------------\n",
    "# 데이터\n",
    "target = torch.tensor([3, -0.5, 2, 7])\n",
    "preds = torch.tensor([2.5, 0.0, 2, 8])\n",
    "\n",
    "# 성능평가 => R2Score : 0 ~ 1(좋음) 정답에 얼마나 근사하게 표현했는가\n",
    "r2score = R2Score()\n",
    "print(r2score(preds, target))\n",
    "print(R2Score()(preds, target))\n",
    "print(r2_score(preds, target))"
   ]
  },
  {
   "cell_type": "code",
   "execution_count": 13,
   "metadata": {},
   "outputs": [
    {
     "name": "stdout",
     "output_type": "stream",
     "text": [
      "tensor(0.8750)\n",
      "tensor(0.8750)\n",
      "tensor(0.8750)\n"
     ]
    }
   ],
   "source": [
    "#데이터\n",
    "target = tensor([2.5, 5.0, 4.0, 8.0])\n",
    "preds = tensor([3.0, 5.0, 2.5, 7.0])\n",
    "\n",
    "# 오차계산\n",
    "meansquarederror = MeanSquaredError()\n",
    "print(meansquarederror(preds, target))\n",
    "print(MeanSquaredError()(preds, target))\n",
    "print(mean_squared_error(preds, target))"
   ]
  },
  {
   "cell_type": "markdown",
   "metadata": {},
   "source": [
    "- 분류(Classification) 성능평가지표\n",
    "    * Accuracy  : 양성-양성, 음성-음성 => 불균형 데이터일 경우 신뢰성 없음\n",
    "    * Precision : 예측 양성으로 했고 정답도 양성인 것\n",
    "    * Recall    : 정답 양성인데 예측 양성\n",
    "    * F1-Score \n",
    "    * ConfusionMatrix\n",
    "    * ROC-AUC => 의료분야 / 2진분류"
   ]
  },
  {
   "cell_type": "code",
   "execution_count": 27,
   "metadata": {},
   "outputs": [
    {
     "name": "stdout",
     "output_type": "stream",
     "text": [
      "tensor(0.6667)\n",
      "tensor(0.6667)\n"
     ]
    }
   ],
   "source": [
    "from torchmetrics.functional.classification import f1_score,accuracy,precision,recall,binary_f1_score\n",
    "from torchmetrics.classification import F1Score,Accuracy,Precision,Recall,BinaryF1Score,MulticlassF1Score,MulticlassPrecision,BinaryPrecision\n",
    "\n",
    "#2진분류 => task='binary'\n",
    "target = tensor([0, 1, 0, 1, 0, 1])\n",
    "preds = tensor([0, 0, 1, 1, 0, 1])\n",
    "f1=F1Score(task='binary')\n",
    "print(f1(preds, target))\n",
    "metric = BinaryF1Score()\n",
    "print(metric(preds, target))\n"
   ]
  },
  {
   "cell_type": "code",
   "execution_count": 28,
   "metadata": {},
   "outputs": [
    {
     "name": "stdout",
     "output_type": "stream",
     "text": [
      "tensor(0.4333)\n",
      "tensor(0.4333)\n"
     ]
    }
   ],
   "source": [
    "#다중분류 => task='multiclass'\n",
    "target = tensor([0, 1, 2, 0, 2, 0])\n",
    "preds = tensor([0, 2, 1, 0, 2, 1])\n",
    "\n",
    "# F1Score => average='macro'\n",
    "f1=F1Score(task='multiclass',num_classes=3,average='macro')\n",
    "print(f1(preds, target))\n",
    "# MulticlassF1Score => average='macro'\n",
    "metric = MulticlassF1Score(num_classes=3)\n",
    "print(metric(preds, target))"
   ]
  },
  {
   "cell_type": "code",
   "execution_count": 29,
   "metadata": {},
   "outputs": [
    {
     "data": {
      "text/plain": [
       "tensor(0.6667)"
      ]
     },
     "execution_count": 29,
     "metadata": {},
     "output_type": "execute_result"
    }
   ],
   "source": [
    "target = tensor([0, 1, 0, 1, 0, 1])\n",
    "preds = tensor([0, 0, 1, 1, 0, 1])\n",
    "metric = BinaryPrecision()\n",
    "metric(preds, target)"
   ]
  },
  {
   "cell_type": "code",
   "execution_count": 32,
   "metadata": {},
   "outputs": [
    {
     "name": "stdout",
     "output_type": "stream",
     "text": [
      "tensor(0.8333)\n"
     ]
    }
   ],
   "source": [
    "target = tensor([2, 1, 0, 0])\n",
    "preds = tensor([2, 1, 0, 1])\n",
    "metric = MulticlassPrecision(num_classes=3)\n",
    "print(metric(preds, target))"
   ]
  },
  {
   "cell_type": "code",
   "execution_count": null,
   "metadata": {},
   "outputs": [],
   "source": []
  }
 ],
 "metadata": {
  "kernelspec": {
   "display_name": "TORCH_38",
   "language": "python",
   "name": "python3"
  },
  "language_info": {
   "codemirror_mode": {
    "name": "ipython",
    "version": 3
   },
   "file_extension": ".py",
   "mimetype": "text/x-python",
   "name": "python",
   "nbconvert_exporter": "python",
   "pygments_lexer": "ipython3",
   "version": "3.8.19"
  }
 },
 "nbformat": 4,
 "nbformat_minor": 2
}
