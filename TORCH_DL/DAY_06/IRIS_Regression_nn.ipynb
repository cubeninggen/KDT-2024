{
 "cells": [
  {
   "cell_type": "markdown",
   "metadata": {},
   "source": [
    "#### DNN기반 회귀 모델 구현 + 학습진행모니터링\n",
    "- 데이터셋   : iris.csv\n",
    "- 피쳐/속성  : 3개 Sepal_Length, Sepal-Width, Petal_Length\n",
    "- 타겟/라벨  : 1개 Petal_Width\n",
    "- 학습-방법  : 지도학습 > 회귀\n",
    "- 알고리즘   : 인공신경망(ANN) -> MLP, DNN : 은닉층이 많은 구성\n",
    "- 프레임워크 : Pytorch\n",
    "* * *\n",
    "- 모니터링\n",
    "    * 기준 : 검증데이터셋의loss또는score\n",
    "    * 평가 : 학습데이터셋의loss또는score와 비교해서 학습 중단 여부를 결정\n",
    "    * 선택 : 현제까지 진행된 모델의 파라미터(가중치,절편) 저장여부 또는 모델 전체 저장\n",
    "* * *"
   ]
  },
  {
   "cell_type": "markdown",
   "metadata": {},
   "source": [
    "[1] 모듈 로딩 및 데이터 준비"
   ]
  },
  {
   "cell_type": "code",
   "execution_count": 2,
   "metadata": {},
   "outputs": [],
   "source": [
    "import torch\n",
    "import torch.nn as nn\n",
    "import torch.nn.functional as F\n",
    "from torch.utils.data import Dataset,DataLoader\n",
    "import torch.optim as optim\n",
    "from torchmetrics.regression import R2Score,MeanSquaredError\n",
    "from torchinfo import summary\n",
    "import pandas as pd\n",
    "import matplotlib.pyplot as plt\n",
    "from sklearn.preprocessing import *\n",
    "from sklearn.model_selection import train_test_split"
   ]
  },
  {
   "cell_type": "code",
   "execution_count": 3,
   "metadata": {},
   "outputs": [
    {
     "name": "stdout",
     "output_type": "stream",
     "text": [
      "Pytorch.v 2.4.1\n",
      "Pandas.v 2.0.3\n"
     ]
    }
   ],
   "source": [
    "# 활용 패키지 버전 체크 ==> 사용자 정의 함수화 \n",
    "def verCHeck():\n",
    "    print(f'Pytorch.v {torch.__version__}')\n",
    "    print(f'Pandas.v {pd.__version__}')\n",
    "verCHeck()"
   ]
  },
  {
   "cell_type": "code",
   "execution_count": 4,
   "metadata": {},
   "outputs": [
    {
     "data": {
      "text/html": [
       "<div>\n",
       "<style scoped>\n",
       "    .dataframe tbody tr th:only-of-type {\n",
       "        vertical-align: middle;\n",
       "    }\n",
       "\n",
       "    .dataframe tbody tr th {\n",
       "        vertical-align: top;\n",
       "    }\n",
       "\n",
       "    .dataframe thead th {\n",
       "        text-align: right;\n",
       "    }\n",
       "</style>\n",
       "<table border=\"1\" class=\"dataframe\">\n",
       "  <thead>\n",
       "    <tr style=\"text-align: right;\">\n",
       "      <th></th>\n",
       "      <th>sepal.length</th>\n",
       "      <th>sepal.width</th>\n",
       "      <th>petal.length</th>\n",
       "      <th>petal.width</th>\n",
       "    </tr>\n",
       "  </thead>\n",
       "  <tbody>\n",
       "    <tr>\n",
       "      <th>0</th>\n",
       "      <td>5.1</td>\n",
       "      <td>3.5</td>\n",
       "      <td>1.4</td>\n",
       "      <td>0.2</td>\n",
       "    </tr>\n",
       "    <tr>\n",
       "      <th>1</th>\n",
       "      <td>4.9</td>\n",
       "      <td>3.0</td>\n",
       "      <td>1.4</td>\n",
       "      <td>0.2</td>\n",
       "    </tr>\n",
       "    <tr>\n",
       "      <th>2</th>\n",
       "      <td>4.7</td>\n",
       "      <td>3.2</td>\n",
       "      <td>1.3</td>\n",
       "      <td>0.2</td>\n",
       "    </tr>\n",
       "    <tr>\n",
       "      <th>3</th>\n",
       "      <td>4.6</td>\n",
       "      <td>3.1</td>\n",
       "      <td>1.5</td>\n",
       "      <td>0.2</td>\n",
       "    </tr>\n",
       "    <tr>\n",
       "      <th>4</th>\n",
       "      <td>5.0</td>\n",
       "      <td>3.6</td>\n",
       "      <td>1.4</td>\n",
       "      <td>0.2</td>\n",
       "    </tr>\n",
       "  </tbody>\n",
       "</table>\n",
       "</div>"
      ],
      "text/plain": [
       "   sepal.length  sepal.width  petal.length  petal.width\n",
       "0           5.1          3.5           1.4          0.2\n",
       "1           4.9          3.0           1.4          0.2\n",
       "2           4.7          3.2           1.3          0.2\n",
       "3           4.6          3.1           1.5          0.2\n",
       "4           5.0          3.6           1.4          0.2"
      ]
     },
     "execution_count": 4,
     "metadata": {},
     "output_type": "execute_result"
    }
   ],
   "source": [
    "### 데이터 로딩\n",
    "DATA_FILE='../data/iris.csv'\n",
    "irisDF=pd.read_csv(DATA_FILE,usecols=[0,1,2,3])\n",
    "irisDF.head()"
   ]
  },
  {
   "cell_type": "markdown",
   "metadata": {},
   "source": [
    "[2] 모델 클레스 설계 및 정의\n",
    "- 클레스목적 : iris 데이터를 학습 및 추론 목적\n",
    "- 클레스이름 : IrisRegModel\n",
    "- 부모클레스 : nn.Module\n",
    "- 매개__변수 : 층별 입출력 개수 고정하기 떄문에 필요 없음!\n",
    "- 속성__필드 : \n",
    "- 기능__역할 : _ _init_ _() : 모델 구조 설정, forward() : 순방향 학습 <= 오버라이딩(overriding)\n",
    "- 클레스 구조\n",
    "    * 입력층 : 입력 3개(피쳐)  출력 10개(퍼셉트론/뉴런 10개 존제)\n",
    "    * 은닉층 : 입력 10개       출력 30개(퍼셉트론/뉴런 30개 존제)\n",
    "    * 출력층 : 입력 30개       출력 1개(너비값)\n",
    "\n",
    "- 활성화함수\n",
    "    * 클레스 형태 ==> nn.MESLoss,nn.ReLU ==>_ _init_ _()함수\n",
    "    * 함수 형태 ==> torch.nn.functional 아래"
   ]
  },
  {
   "cell_type": "code",
   "execution_count": 5,
   "metadata": {},
   "outputs": [],
   "source": [
    "class IrisRegModel(nn.Module):\n",
    "    # 모델 구조 구성 및 인스턴스 생성 메서드\n",
    "    def __init__(self):\n",
    "        super().__init__()\n",
    "        self.in_layer=nn.Linear(3,10)\n",
    "        self.hd_layer=nn.Linear(10,30)\n",
    "        self.out_layer=nn.Linear(30,1)\n",
    "\n",
    "    #순방향 학습 진행 매서드\n",
    "    def forward(self,input_data):\n",
    "        # 입력층 \n",
    "        y=F.relu(self.in_layer(input_data))\n",
    "        # 은닉층 : 10개의 숫자 값(>=0)\n",
    "        y=F.relu(self.hd_layer(y))\n",
    "        # 출력층 : 30개의 숫자 값(>=0) 회귀이므로 바로 반환\n",
    "        return self.out_layer(y)"
   ]
  },
  {
   "cell_type": "code",
   "execution_count": 6,
   "metadata": {},
   "outputs": [
    {
     "name": "stdout",
     "output_type": "stream",
     "text": [
      "IrisRegModel(\n",
      "  (in_layer): Linear(in_features=3, out_features=10, bias=True)\n",
      "  (hd_layer): Linear(in_features=10, out_features=30, bias=True)\n",
      "  (out_layer): Linear(in_features=30, out_features=1, bias=True)\n",
      ")\n"
     ]
    }
   ],
   "source": [
    "## 모델 인스턴스 생성\n",
    "model=IrisRegModel()\n",
    "print(model)"
   ]
  },
  {
   "cell_type": "code",
   "execution_count": 7,
   "metadata": {},
   "outputs": [
    {
     "data": {
      "text/plain": [
       "==========================================================================================\n",
       "Layer (type:depth-idx)                   Output Shape              Param #\n",
       "==========================================================================================\n",
       "IrisRegModel                             [100000, 1]               --\n",
       "├─Linear: 1-1                            [100000, 10]              40\n",
       "├─Linear: 1-2                            [100000, 30]              330\n",
       "├─Linear: 1-3                            [100000, 1]               31\n",
       "==========================================================================================\n",
       "Total params: 401\n",
       "Trainable params: 401\n",
       "Non-trainable params: 0\n",
       "Total mult-adds (M): 40.10\n",
       "==========================================================================================\n",
       "Input size (MB): 1.20\n",
       "Forward/backward pass size (MB): 32.80\n",
       "Params size (MB): 0.00\n",
       "Estimated Total Size (MB): 34.00\n",
       "=========================================================================================="
      ]
     },
     "execution_count": 7,
     "metadata": {},
     "output_type": "execute_result"
    }
   ],
   "source": [
    "#모델 사용 메모리 정보 확인\n",
    "summary(model,input_size=(100000,3))"
   ]
  },
  {
   "cell_type": "markdown",
   "metadata": {},
   "source": [
    "[3] 데이터셋 클레스 설계 및 정의\n",
    "- 데이터__셋 : iris.csv\n",
    "- 피쳐__개수 : 3개\n",
    "- 타겟__개수 : 1개\n",
    "- 클래스이름 : IrisDataset\n",
    "- 부모클레스 : utils.data.Dataset\n",
    "- 속성__필드 : featureDF,targetDF,n_rows,n_features\n",
    "- 필수메서드\n",
    "    * _ _init_ _(self) : 데이터셋 저장 및 전처리, 개발자가필요한 속성 설정\n",
    "    * _ _len_ _(self)  : 데이터의 개수반환\n",
    "    * _ _getitem_ _(self): 특정???피쳐와 타겟 반환"
   ]
  },
  {
   "cell_type": "code",
   "execution_count": 8,
   "metadata": {},
   "outputs": [],
   "source": [
    "class IrisDataset(Dataset):\n",
    "    \n",
    "    def __init__(self,featureDF,targetDF):\n",
    "        self.featureDF=featureDF\n",
    "        self.targetDF=targetDF\n",
    "        self.n_rows=featureDF.shape[0]\n",
    "        self.n_features=featureDF.shape[1]\n",
    "    \n",
    "    def __len__(self):\n",
    "        return self.n_rows\n",
    "    \n",
    "    def __getitem__(self, index):\n",
    "        # 텐서화\n",
    "        featureTS=torch.FloatTensor(self.featureDF.iloc[index].values)\n",
    "        targetTS=torch.FloatTensor(self.targetDF.iloc[index].values)\n",
    "        # 피쳐와 타겟 반환\n",
    "        return featureTS,targetTS"
   ]
  },
  {
   "cell_type": "code",
   "execution_count": 9,
   "metadata": {},
   "outputs": [],
   "source": [
    "## 데이터셋 인스턴스 생성 \n",
    "# DF에서 피쳐와 타겟 추출\n",
    "featureDF=irisDF[irisDF.columns[:-1]]\n",
    "targetDF=irisDF[irisDF.columns[-1:]]\n",
    "# 커스텀 데이터셋 인스턴스 생성\n",
    "irisDS=IrisDataset(featureDF,targetDF)"
   ]
  },
  {
   "cell_type": "markdown",
   "metadata": {},
   "source": [
    "[4] 학습준비\n",
    "- 학습횟수 : EPOCH \n",
    "- 배치크기 : BATCH_SIZE \n",
    "- 위치지정 : DEVICE \n",
    "- 학습률 : LR 가중치와 절편 업데이트 시 경사 하강법으로 업데이트 간격 설정 0.001~0.1"
   ]
  },
  {
   "cell_type": "code",
   "execution_count": 16,
   "metadata": {},
   "outputs": [],
   "source": [
    "### 학습 진행 관련 설정\n",
    "EPOCH=10\n",
    "BATCH_SIZE=10\n",
    "BACH_CNT=irisDF.shape[0]/BATCH_SIZE\n",
    "DEVICE='cuda' if torch.cuda.is_available() else 'cpu'\n",
    "LR=0.001"
   ]
  },
  {
   "cell_type": "markdown",
   "metadata": {},
   "source": [
    "- 인스턴스/객체 : 모델, 데이터셋, 최적화, (손실함수 ,성능지표)"
   ]
  },
  {
   "cell_type": "code",
   "execution_count": 17,
   "metadata": {},
   "outputs": [
    {
     "name": "stdout",
     "output_type": "stream",
     "text": [
      "(84, 3),(38, 3),(28, 3)\n",
      "(84, 1),(38, 1),(28, 1)\n"
     ]
    }
   ],
   "source": [
    "# 모델 인스턴스\n",
    "model=IrisRegModel()\n",
    "# 데이터셋 인스턴스\n",
    "X_train,X_test,y_train,y_test=train_test_split(featureDF,targetDF,random_state=1)\n",
    "X_train,X_val,y_train,y_val=train_test_split(X_train,y_train,random_state=1)\n",
    "print(f'{X_train.shape},{X_test.shape},{X_val.shape}')\n",
    "print(f'{y_train.shape},{y_test.shape},{y_val.shape}')\n",
    "trainDS=IrisDataset(X_train,y_train)\n",
    "valDS=IrisDataset(X_val,y_val)\n",
    "testDS=IrisDataset(X_test,y_test)\n",
    "# 데이터 로더 인스턴스\n",
    "trainDL=DataLoader(trainDS,batch_size=BATCH_SIZE)"
   ]
  },
  {
   "cell_type": "code",
   "execution_count": 18,
   "metadata": {},
   "outputs": [
    {
     "name": "stdout",
     "output_type": "stream",
     "text": [
      "torch.Size([10, 3]) torch.Size([10, 1])\n",
      "torch.Size([10, 3]) torch.Size([10, 1])\n",
      "torch.Size([10, 3]) torch.Size([10, 1])\n",
      "torch.Size([10, 3]) torch.Size([10, 1])\n",
      "torch.Size([10, 3]) torch.Size([10, 1])\n",
      "torch.Size([10, 3]) torch.Size([10, 1])\n",
      "torch.Size([10, 3]) torch.Size([10, 1])\n",
      "torch.Size([10, 3]) torch.Size([10, 1])\n",
      "torch.Size([4, 3]) torch.Size([4, 1])\n"
     ]
    }
   ],
   "source": [
    "## [테스트]데이터로더\n",
    "for feature,target in trainDL:\n",
    "    print(feature.shape,target.shape)"
   ]
  },
  {
   "cell_type": "code",
   "execution_count": 19,
   "metadata": {},
   "outputs": [],
   "source": [
    "# 최적화 인스턴스 => W,b텐서 즉, model.paramiters()전달\n",
    "optimizer=optim.Adam(model.parameters(),lr=LR)\n",
    "# 손실함수 인스턴스 => 회귀, MSE,MAE,RMSE ...\n",
    "reqLoss=nn.MSELoss()"
   ]
  },
  {
   "cell_type": "markdown",
   "metadata": {},
   "source": [
    "[5]학습진행"
   ]
  },
  {
   "cell_type": "code",
   "execution_count": 20,
   "metadata": {},
   "outputs": [],
   "source": [
    "## 학습의 효과 확인 손실값과 성능평가값 저장 필요\n",
    "LOSS_HISTORY,SCORE_HISTORY=[[],[]],[[],[]]\n",
    "CNT=len(trainDL)\n",
    "\n",
    "## 학습 모니터링/스캐줄링 설정 \n",
    "# => LOSS_HISTORY,SCORE_HISTORY 활용\n",
    "# => 임계기준 : 10번\n",
    "BREAK_CNT=0\n",
    "LIMIT_VALUE = 10 \n",
    "\n",
    "for epoch in range(EPOCH):\n",
    "    # 학습모드로 모델 설정\n",
    "    model.train()\n",
    "    # 배치 크기 만큼 데이터 로딩해서 학습 진행\n",
    "    loss_total,score_total=0,0\n",
    "    for featureTS,targetTS in trainDL:\n",
    "        # 학습진행\n",
    "        pre_y=model(featureTS)\n",
    "        # 손실계산\n",
    "        loss=reqLoss(pre_y,targetTS)\n",
    "        loss_total+=loss\n",
    "        #성능평가 계산\n",
    "        score=R2Score()(pre_y,targetTS)\n",
    "        score_total+=score\n",
    "        # 최적화진행\n",
    "        optimizer.zero_grad()\n",
    "        loss.backward()\n",
    "        optimizer.step()\n",
    "    # IF 에포크당 검증 한다면\n",
    "    # 모델 검증모드\n",
    "    model.eval()\n",
    "    with torch.no_grad():\n",
    "        # 검증 데이터셋\n",
    "        val_featureTS=torch.FloatTensor(valDS.featureDF.values)\n",
    "        val_targetTS=torch.FloatTensor(valDS.targetDF.values)\n",
    "        # 평가\n",
    "        pre_val=model(val_featureTS)\n",
    "        # 손실\n",
    "        loss_val=reqLoss(pre_val,val_targetTS)\n",
    "        # 성능평가\n",
    "        score_val=R2Score()(pre_val,val_targetTS)\n",
    "    \n",
    "    # 에포크당 손실값과 성능 평가값 저장\n",
    "    LOSS_HISTORY[0].append(loss_total/BATCH_SIZE)\n",
    "    SCORE_HISTORY[0].append(score_total/BATCH_SIZE)\n",
    "    LOSS_HISTORY[1].append(loss_val)\n",
    "    SCORE_HISTORY[1].append(score_val)\n",
    "\n",
    "    # 학습 진행 모니터링/스캐줄링 - 검증 DS 기준\n",
    "    # Loss OR Score 둘 중 하나 택 1\n",
    "    # Loss기준\n",
    "    if len(LOSS_HISTORY[0])>=2:\n",
    "        if LOSS_HISTORY[1][-1] >= LOSS_HISTORY[1][-2]:BREAK_CNT+=1\n",
    "    \n",
    "    # Score기준\n",
    "    # if len(SCORE_HISTORY[0])>=2:\n",
    "    #     if SCORE_HISTORY[1][-1] <= SCORE_HISTORY[1][-2]:BREAK_CNT+=1\n",
    "    \n",
    "    # 학습 중단 여부 결정\n",
    "    if BREAK_CNT>LIMIT_VALUE:\n",
    "        print('성능 및 손실 개선이 없어서 학습 중단')"
   ]
  },
  {
   "cell_type": "code",
   "execution_count": 21,
   "metadata": {},
   "outputs": [
    {
     "name": "stdout",
     "output_type": "stream",
     "text": [
      "LOSS_HISTORY : [tensor(3.4532, grad_fn=<DivBackward0>), tensor(2.5264, grad_fn=<DivBackward0>), tensor(1.8868, grad_fn=<DivBackward0>), tensor(1.4131, grad_fn=<DivBackward0>), tensor(1.0360, grad_fn=<DivBackward0>), tensor(0.7382, grad_fn=<DivBackward0>), tensor(0.5124, grad_fn=<DivBackward0>), tensor(0.3577, grad_fn=<DivBackward0>), tensor(0.2696, grad_fn=<DivBackward0>), tensor(0.2282, grad_fn=<DivBackward0>)]\n",
      "SCORE_HISTORY : [tensor(-6.5150, grad_fn=<DivBackward0>), tensor(-4.5325, grad_fn=<DivBackward0>), tensor(-3.1573, grad_fn=<DivBackward0>), tensor(-2.1426, grad_fn=<DivBackward0>), tensor(-1.3339, grad_fn=<DivBackward0>), tensor(-0.6915, grad_fn=<DivBackward0>), tensor(-0.2002, grad_fn=<DivBackward0>), tensor(0.1417, grad_fn=<DivBackward0>), tensor(0.3412, grad_fn=<DivBackward0>), tensor(0.4368, grad_fn=<DivBackward0>)]\n"
     ]
    }
   ],
   "source": [
    "print(f'LOSS_HISTORY : {LOSS_HISTORY[0]}')\n",
    "print(f'SCORE_HISTORY : {SCORE_HISTORY[0]}')"
   ]
  },
  {
   "cell_type": "markdown",
   "metadata": {},
   "source": [
    "- 모델 저장 방법\n",
    "- 방법1 : 모델 파라미터만 저장\n",
    "- 방법2 모델 설계 구조 및 파라미터까지 모두 저장"
   ]
  },
  {
   "cell_type": "code",
   "execution_count": 22,
   "metadata": {},
   "outputs": [
    {
     "data": {
      "text/plain": [
       "OrderedDict([('in_layer.weight',\n",
       "              tensor([[ 0.2403,  0.5714, -0.3053],\n",
       "                      [-0.0578,  0.4003,  0.4421],\n",
       "                      [-0.4849,  0.1960, -0.0106],\n",
       "                      [-0.1423,  0.4512, -0.5267],\n",
       "                      [ 0.3295,  0.4348,  0.3856],\n",
       "                      [ 0.3270, -0.4480,  0.3895],\n",
       "                      [ 0.3625, -0.3213,  0.4316],\n",
       "                      [-0.2632, -0.0022,  0.2684],\n",
       "                      [ 0.2481, -0.4552, -0.3676],\n",
       "                      [ 0.2356,  0.3284, -0.2316]])),\n",
       "             ('in_layer.bias',\n",
       "              tensor([ 0.2537, -0.4799,  0.2504,  0.4054, -0.0306,  0.1120, -0.3036, -0.2650,\n",
       "                      -0.1504, -0.3051])),\n",
       "             ('hd_layer.weight',\n",
       "              tensor([[-0.1266,  0.0596,  0.1455,  0.1971, -0.0957, -0.0125,  0.0678, -0.0548,\n",
       "                        0.1368,  0.1904],\n",
       "                      [ 0.2887,  0.3399,  0.2809,  0.0533,  0.0451,  0.0415,  0.0397, -0.0475,\n",
       "                        0.2907,  0.0940],\n",
       "                      [ 0.0025,  0.1506, -0.2976,  0.3144, -0.3058, -0.0968, -0.0239, -0.2658,\n",
       "                        0.0563, -0.2808],\n",
       "                      [-0.2647, -0.2429,  0.1320,  0.1376,  0.1170, -0.2175, -0.1516,  0.1375,\n",
       "                        0.2491, -0.2915],\n",
       "                      [ 0.1246,  0.2371, -0.1296,  0.0585, -0.1730, -0.2184, -0.0121, -0.0518,\n",
       "                        0.2912, -0.0712],\n",
       "                      [-0.1904,  0.2384,  0.1852,  0.1311, -0.0305,  0.2889,  0.0035, -0.1550,\n",
       "                       -0.1158,  0.0359],\n",
       "                      [-0.0925,  0.1271, -0.0974, -0.2085, -0.0545,  0.1582, -0.0374,  0.0126,\n",
       "                        0.0488, -0.2248],\n",
       "                      [ 0.2982,  0.0873, -0.0240, -0.2557, -0.2894, -0.3078, -0.3009,  0.1536,\n",
       "                        0.1330, -0.0758],\n",
       "                      [ 0.0391, -0.3059, -0.2065, -0.0347, -0.2405, -0.0353,  0.2393,  0.2109,\n",
       "                        0.0271,  0.1514],\n",
       "                      [-0.2672, -0.0808, -0.2976,  0.2206, -0.1600,  0.0705,  0.1910,  0.0084,\n",
       "                        0.2969, -0.1859],\n",
       "                      [ 0.3273, -0.0311, -0.0045,  0.2230, -0.0657,  0.3614,  0.2222, -0.1865,\n",
       "                       -0.0607,  0.0740],\n",
       "                      [-0.2308,  0.1784, -0.0579, -0.0563, -0.2984, -0.1906, -0.1642, -0.0532,\n",
       "                       -0.1352,  0.2679],\n",
       "                      [ 0.1878,  0.0218, -0.1788, -0.1756,  0.1835,  0.0317, -0.0025, -0.1654,\n",
       "                       -0.0726, -0.1085],\n",
       "                      [-0.1984,  0.1457, -0.2069, -0.2302,  0.1795, -0.2508, -0.1373,  0.2085,\n",
       "                       -0.0389, -0.0570],\n",
       "                      [ 0.2827,  0.2865,  0.0730,  0.1743, -0.2472, -0.3017,  0.2611, -0.3027,\n",
       "                       -0.0196,  0.0955],\n",
       "                      [ 0.0773,  0.0778, -0.2987,  0.1079,  0.2535,  0.1100, -0.0021, -0.1653,\n",
       "                       -0.2124,  0.0593],\n",
       "                      [ 0.1757, -0.2015,  0.2817,  0.0758, -0.1814, -0.2743, -0.0072,  0.3047,\n",
       "                        0.0623, -0.1381],\n",
       "                      [ 0.2474, -0.2323,  0.0069,  0.2710,  0.0526, -0.2478, -0.1376, -0.1401,\n",
       "                       -0.2871, -0.2060],\n",
       "                      [-0.3016, -0.0740,  0.2223,  0.2866,  0.0518,  0.0736, -0.1696,  0.0828,\n",
       "                       -0.2570,  0.2832],\n",
       "                      [-0.3311, -0.3083, -0.0960, -0.0499,  0.1657, -0.1263, -0.1812,  0.1065,\n",
       "                       -0.0281,  0.2990],\n",
       "                      [ 0.2350,  0.0316,  0.2272, -0.1925,  0.2420, -0.2608,  0.0295,  0.1425,\n",
       "                        0.2629, -0.0522],\n",
       "                      [-0.0846,  0.1793,  0.1484,  0.1444,  0.3601,  0.1199,  0.3459,  0.1174,\n",
       "                        0.2218, -0.1388],\n",
       "                      [ 0.3377, -0.1763,  0.2856, -0.1442,  0.2715,  0.0004, -0.0717, -0.0950,\n",
       "                       -0.2056, -0.1508],\n",
       "                      [-0.0131,  0.1360, -0.2873,  0.1977,  0.0873, -0.3253, -0.3309,  0.0968,\n",
       "                       -0.2092, -0.1978],\n",
       "                      [ 0.1666,  0.0026,  0.1954, -0.1628,  0.0767, -0.0946, -0.3059,  0.1802,\n",
       "                        0.0936, -0.2988],\n",
       "                      [ 0.1226, -0.1335,  0.0778, -0.0478,  0.1287,  0.2743,  0.2735,  0.0689,\n",
       "                       -0.0223,  0.2084],\n",
       "                      [ 0.2125, -0.2799,  0.2038,  0.0057, -0.1092,  0.0403, -0.0022, -0.0273,\n",
       "                        0.0046,  0.1518],\n",
       "                      [-0.0312,  0.2986, -0.2023, -0.1220, -0.3093,  0.0464, -0.0247, -0.0630,\n",
       "                        0.1945, -0.1721],\n",
       "                      [-0.0966, -0.2215, -0.2198,  0.1580, -0.0717, -0.0287,  0.1864, -0.2457,\n",
       "                       -0.1604,  0.1315],\n",
       "                      [ 0.2853,  0.0779,  0.1046, -0.0702, -0.1865, -0.0712,  0.0008, -0.2184,\n",
       "                       -0.0155,  0.1409]])),\n",
       "             ('hd_layer.bias',\n",
       "              tensor([ 0.2299, -0.1896, -0.1818, -0.0226, -0.0855,  0.0222, -0.2547,  0.1568,\n",
       "                      -0.1471, -0.0155, -0.0627,  0.0920, -0.0547, -0.1364, -0.2956, -0.1269,\n",
       "                       0.0177, -0.2855, -0.0895,  0.2887,  0.1607,  0.1451,  0.0879,  0.1359,\n",
       "                      -0.0688,  0.3186, -0.2925, -0.1638,  0.1178, -0.0249])),\n",
       "             ('out_layer.weight',\n",
       "              tensor([[-0.0887,  0.1077,  0.1294, -0.1245, -0.1417,  0.0979, -0.1305,  0.1550,\n",
       "                       -0.0954, -0.0736,  0.0601,  0.0874, -0.0390, -0.1336, -0.1248, -0.0929,\n",
       "                        0.1503,  0.0071,  0.1666, -0.0257, -0.0803,  0.1741,  0.2227,  0.0073,\n",
       "                       -0.1195,  0.1176, -0.1308, -0.1499, -0.1030, -0.1198]])),\n",
       "             ('out_layer.bias', tensor([0.1970]))])"
      ]
     },
     "execution_count": 22,
     "metadata": {},
     "output_type": "execute_result"
    }
   ],
   "source": [
    "### 학습된 모델 파라미터 값 확인\n",
    "model.state_dict()"
   ]
  },
  {
   "cell_type": "markdown",
   "metadata": {},
   "source": [
    "- [방법1]모델 파라미터 즉, 층별 가중치와 절편들"
   ]
  },
  {
   "cell_type": "code",
   "execution_count": 24,
   "metadata": {},
   "outputs": [],
   "source": [
    "### models 폴더아레 프로젝트 폴더아레 모델 파일 저장\n",
    "import os\n",
    "# 저장경로\n",
    "SAVE_PATH='../models/iris/'\n",
    "# 저장파일명\n",
    "SAVE_FILE='model_train_wbs.pth'"
   ]
  },
  {
   "cell_type": "code",
   "execution_count": 26,
   "metadata": {},
   "outputs": [],
   "source": [
    "# 경로상 폴더 존제여부 체크\n",
    "if not os.path.exists(SAVE_PATH):\n",
    "    os.makedirs(SAVE_PATH)"
   ]
  },
  {
   "cell_type": "code",
   "execution_count": 28,
   "metadata": {},
   "outputs": [],
   "source": [
    "#모델 저장\n",
    "torch.save(model.state_dict(),SAVE_PATH+SAVE_FILE)"
   ]
  },
  {
   "cell_type": "code",
   "execution_count": 29,
   "metadata": {},
   "outputs": [
    {
     "name": "stdout",
     "output_type": "stream",
     "text": [
      "<class 'collections.OrderedDict'>\n"
     ]
    }
   ],
   "source": [
    "# 모델 즉, 가중치와 절편 로딩\n",
    "# [1] 가중치와 절편 객체로 로딩\n",
    "# [2] 모델의 state_dict\n",
    "\n",
    "# 읽기\n",
    "wbTS=torch.load(SAVE_PATH+SAVE_FILE,weights_only=True)\n",
    "print(type(wbTS))"
   ]
  },
  {
   "cell_type": "code",
   "execution_count": 30,
   "metadata": {},
   "outputs": [
    {
     "data": {
      "text/plain": [
       "<All keys matched successfully>"
      ]
     },
     "execution_count": 30,
     "metadata": {},
     "output_type": "execute_result"
    }
   ],
   "source": [
    "# 모델 인스턴스에 저장\n",
    "model2=IrisRegModel()\n",
    "model2.load_state_dict(wbTS)"
   ]
  },
  {
   "cell_type": "code",
   "execution_count": 31,
   "metadata": {},
   "outputs": [
    {
     "name": "stdout",
     "output_type": "stream",
     "text": [
      "IrisRegModel(\n",
      "  (in_layer): Linear(in_features=3, out_features=10, bias=True)\n",
      "  (hd_layer): Linear(in_features=10, out_features=30, bias=True)\n",
      "  (out_layer): Linear(in_features=30, out_features=1, bias=True)\n",
      ")\n"
     ]
    }
   ],
   "source": [
    "print(model2)"
   ]
  },
  {
   "cell_type": "code",
   "execution_count": null,
   "metadata": {},
   "outputs": [],
   "source": []
  }
 ],
 "metadata": {
  "kernelspec": {
   "display_name": "TORCH_38",
   "language": "python",
   "name": "python3"
  },
  "language_info": {
   "codemirror_mode": {
    "name": "ipython",
    "version": 3
   },
   "file_extension": ".py",
   "mimetype": "text/x-python",
   "name": "python",
   "nbconvert_exporter": "python",
   "pygments_lexer": "ipython3",
   "version": "3.8.19"
  }
 },
 "nbformat": 4,
 "nbformat_minor": 2
}
