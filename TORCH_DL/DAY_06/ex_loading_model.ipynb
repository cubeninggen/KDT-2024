{
 "cells": [
  {
   "cell_type": "markdown",
   "metadata": {},
   "source": [
    "#### 제정 된 모델 활용\n",
    "- 모델 파일 종류\n",
    "    * 가중치 및 절편 저장파일 => 동일한 구조 모델 인스턴스 생성후 사용 가능\n",
    "    * "
   ]
  },
  {
   "cell_type": "code",
   "execution_count": 10,
   "metadata": {},
   "outputs": [],
   "source": [
    "import torch\n",
    "import torch.nn as nn\n",
    "import torch.nn.functional as F\n",
    "from torchinfo import summary\n"
   ]
  },
  {
   "cell_type": "code",
   "execution_count": 2,
   "metadata": {},
   "outputs": [],
   "source": [
    "### models 폴더아레 프로젝트 폴더아레 모델 파일 저장\n",
    "import os\n",
    "# 저장경로\n",
    "SAVE_PATH='../models/iris/'\n",
    "# 저장파일명\n",
    "SAVE_FILE=SAVE_PATH+'model_train_wbs.pth'\n",
    "# 모델 구조및 파라미터 모두 저장\n",
    "SAVE_MODEL=SAVE_PATH+'model_all.pth'"
   ]
  },
  {
   "cell_type": "code",
   "execution_count": 7,
   "metadata": {},
   "outputs": [],
   "source": [
    "class IrisRegModel(nn.Module):\n",
    "    # 모델 구조 구성 및 인스턴스 생성 메서드\n",
    "    def __init__(self):\n",
    "        super().__init__()\n",
    "        self.in_layer=nn.Linear(3,10)\n",
    "        self.hd_layer=nn.Linear(10,30)\n",
    "        self.out_layer=nn.Linear(30,1)\n",
    "\n",
    "    #순방향 학습 진행 매서드\n",
    "    def forward(self,input_data):\n",
    "        # 입력층 \n",
    "        y=F.relu(self.in_layer(input_data))\n",
    "        # 은닉층 : 10개의 숫자 값(>=0)\n",
    "        y=F.relu(self.hd_layer(y))\n",
    "        # 출력층 : 30개의 숫자 값(>=0) 회귀이므로 바로 반환\n",
    "        return self.out_layer(y)"
   ]
  },
  {
   "cell_type": "markdown",
   "metadata": {},
   "source": [
    "[2]모델 로딩 - 모델 전체 파일 사용"
   ]
  },
  {
   "cell_type": "code",
   "execution_count": 9,
   "metadata": {},
   "outputs": [],
   "source": [
    "irisModel=torch.load(SAVE_MODEL,weights_only=False)"
   ]
  },
  {
   "cell_type": "code",
   "execution_count": 11,
   "metadata": {},
   "outputs": [
    {
     "data": {
      "text/plain": [
       "=================================================================\n",
       "Layer (type:depth-idx)                   Param #\n",
       "=================================================================\n",
       "IrisRegModel                             --\n",
       "├─Linear: 1-1                            40\n",
       "├─Linear: 1-2                            330\n",
       "├─Linear: 1-3                            31\n",
       "=================================================================\n",
       "Total params: 401\n",
       "Trainable params: 401\n",
       "Non-trainable params: 0\n",
       "================================================================="
      ]
     },
     "execution_count": 11,
     "metadata": {},
     "output_type": "execute_result"
    }
   ],
   "source": [
    "summary(irisModel)"
   ]
  },
  {
   "cell_type": "markdown",
   "metadata": {},
   "source": [
    "[3] 예측"
   ]
  },
  {
   "cell_type": "code",
   "execution_count": 18,
   "metadata": {},
   "outputs": [],
   "source": [
    "data=[float(x) for x in input('SL, SW, PL : ').split(',')]"
   ]
  },
  {
   "cell_type": "code",
   "execution_count": 19,
   "metadata": {},
   "outputs": [
    {
     "data": {
      "text/plain": [
       "(torch.Size([1, 3]), tensor([[0.1200, 1.3400, 2.7600]]))"
      ]
     },
     "execution_count": 19,
     "metadata": {},
     "output_type": "execute_result"
    }
   ],
   "source": [
    "dataTS=torch.FloatTensor(data).reshape(1,-1)\n",
    "dataTS.shape,dataTS"
   ]
  },
  {
   "cell_type": "code",
   "execution_count": 20,
   "metadata": {},
   "outputs": [],
   "source": [
    "irisModel.eval()\n",
    "with torch.no_grad():\n",
    "    pre_val=irisModel(dataTS)"
   ]
  },
  {
   "cell_type": "code",
   "execution_count": 21,
   "metadata": {},
   "outputs": [
    {
     "data": {
      "text/plain": [
       "tensor([[0.0437]])"
      ]
     },
     "execution_count": 21,
     "metadata": {},
     "output_type": "execute_result"
    }
   ],
   "source": [
    "pre_val"
   ]
  },
  {
   "cell_type": "code",
   "execution_count": null,
   "metadata": {},
   "outputs": [],
   "source": []
  }
 ],
 "metadata": {
  "kernelspec": {
   "display_name": "TORCH_38",
   "language": "python",
   "name": "python3"
  },
  "language_info": {
   "codemirror_mode": {
    "name": "ipython",
    "version": 3
   },
   "file_extension": ".py",
   "mimetype": "text/x-python",
   "name": "python",
   "nbconvert_exporter": "python",
   "pygments_lexer": "ipython3",
   "version": "3.8.19"
  }
 },
 "nbformat": 4,
 "nbformat_minor": 2
}
