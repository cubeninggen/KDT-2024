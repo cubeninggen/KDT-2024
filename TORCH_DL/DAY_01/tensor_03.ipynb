{
 "cells": [
  {
   "cell_type": "markdown",
   "metadata": {},
   "source": [
    "#### Tensor 이해"
   ]
  },
  {
   "cell_type": "code",
   "execution_count": 2,
   "metadata": {},
   "outputs": [],
   "source": [
    "import torch"
   ]
  },
  {
   "cell_type": "markdown",
   "metadata": {},
   "source": [
    "- 타입지정 Tensor 클레스 활용\n",
    "    * 데이터 타입을 설정 후 생성\n",
    "    * 데이터 사이즈 설정한 텐서 생성 시\n",
    "    * 데이터의 자료형 변환한 텐서 생성 시 사용 "
   ]
  },
  {
   "cell_type": "code",
   "execution_count": 13,
   "metadata": {},
   "outputs": [
    {
     "name": "stdout",
     "output_type": "stream",
     "text": [
      "tensor([0, 2, 3], dtype=torch.int8)\n",
      "tensor([0, 2, 3], dtype=torch.int8)\n"
     ]
    },
    {
     "name": "stderr",
     "output_type": "stream",
     "text": [
      "C:\\Users\\KDP-48\\AppData\\Local\\Temp\\ipykernel_1984\\1513439104.py:5: DeprecationWarning: an integer is required (got type float).  Implicit conversion to integers using __int__ is deprecated, and may be removed in a future version of Python.\n",
      "  dataTS1=torch.CharTensor(data)\n",
      "C:\\Users\\KDP-48\\AppData\\Local\\Temp\\ipykernel_1984\\1513439104.py:6: DeprecationWarning: an integer is required (got type float).  Implicit conversion to integers using __int__ is deprecated, and may be removed in a future version of Python.\n",
      "  dataTS11=torch.tensor(data,dtype=torch.int8)\n"
     ]
    }
   ],
   "source": [
    "### 정수형 탠서 생성\n",
    "data=[0.,2.8,3.1]\n",
    "\n",
    "### 1byte int tensor \n",
    "dataTS1=torch.CharTensor(data)\n",
    "dataTS11=torch.tensor(data,dtype=torch.int8)\n",
    "print(dataTS1,dataTS11,sep='\\n')"
   ]
  },
  {
   "cell_type": "code",
   "execution_count": 14,
   "metadata": {},
   "outputs": [
    {
     "name": "stdout",
     "output_type": "stream",
     "text": [
      "tensor([0, 2, 3], dtype=torch.int16)\n",
      "tensor([0, 2, 3], dtype=torch.int16)\n"
     ]
    },
    {
     "name": "stderr",
     "output_type": "stream",
     "text": [
      "C:\\Users\\KDP-48\\AppData\\Local\\Temp\\ipykernel_1984\\1758236226.py:2: DeprecationWarning: an integer is required (got type float).  Implicit conversion to integers using __int__ is deprecated, and may be removed in a future version of Python.\n",
      "  dataTS1=torch.ShortTensor(data)\n",
      "C:\\Users\\KDP-48\\AppData\\Local\\Temp\\ipykernel_1984\\1758236226.py:3: DeprecationWarning: an integer is required (got type float).  Implicit conversion to integers using __int__ is deprecated, and may be removed in a future version of Python.\n",
      "  dataTS11=torch.tensor(data,dtype=torch.int16)\n"
     ]
    }
   ],
   "source": [
    "### 2byte int tensor \n",
    "dataTS1=torch.ShortTensor(data)\n",
    "dataTS11=torch.tensor(data,dtype=torch.int16)\n",
    "print(dataTS1,dataTS11,sep='\\n')"
   ]
  },
  {
   "cell_type": "code",
   "execution_count": 15,
   "metadata": {},
   "outputs": [
    {
     "name": "stdout",
     "output_type": "stream",
     "text": [
      "tensor([False,  True,  True])\n",
      "tensor([False,  True,  True])\n"
     ]
    }
   ],
   "source": [
    "### Boolean Tensor\n",
    "dataTS1=torch.BoolTensor(data)\n",
    "dataTS11=torch.tensor(data,dtype=torch.bool)\n",
    "print(dataTS1,dataTS11,sep='\\n')"
   ]
  },
  {
   "cell_type": "code",
   "execution_count": 16,
   "metadata": {},
   "outputs": [
    {
     "name": "stdout",
     "output_type": "stream",
     "text": [
      "tensor([0.0000, 2.8000, 3.1000], dtype=torch.float64)\n",
      "tensor([0.0000, 2.8000, 3.1000], dtype=torch.float64)\n"
     ]
    }
   ],
   "source": [
    "### Float Tensor\n",
    "dataTS1=torch.DoubleTensor(data)\n",
    "dataTS11=torch.tensor(data,dtype=torch.float64)\n",
    "print(dataTS1,dataTS11,sep='\\n')"
   ]
  },
  {
   "cell_type": "markdown",
   "metadata": {},
   "source": [
    "- Tensor 저장 및 실행 위치 설정 ==> 속성 device 설정"
   ]
  },
  {
   "cell_type": "code",
   "execution_count": 21,
   "metadata": {},
   "outputs": [
    {
     "data": {
      "text/plain": [
       "'cpu'"
      ]
     },
     "execution_count": 21,
     "metadata": {},
     "output_type": "execute_result"
    }
   ],
   "source": [
    "### 저장 및 실행 위치 => CPU/GPU\n",
    "DEVICE= 'cuda' if torch.cuda.is_available() else 'cpu'\n",
    "DEVICE"
   ]
  },
  {
   "cell_type": "code",
   "execution_count": 22,
   "metadata": {},
   "outputs": [
    {
     "name": "stdout",
     "output_type": "stream",
     "text": [
      "tensor([0.0000, 2.8000, 3.1000], dtype=torch.float64)\n",
      "tensor([0.0000, 2.8000, 3.1000], dtype=torch.float64)\n"
     ]
    }
   ],
   "source": [
    "### Float Tensor\n",
    "dataTS1=torch.DoubleTensor(data)\n",
    "dataTS11=torch.tensor(data,dtype=torch.float64,device=DEVICE)\n",
    "print(dataTS1,dataTS11,sep='\\n')"
   ]
  },
  {
   "cell_type": "code",
   "execution_count": null,
   "metadata": {},
   "outputs": [],
   "source": []
  }
 ],
 "metadata": {
  "kernelspec": {
   "display_name": "TORCH_38",
   "language": "python",
   "name": "python3"
  },
  "language_info": {
   "codemirror_mode": {
    "name": "ipython",
    "version": 3
   },
   "file_extension": ".py",
   "mimetype": "text/x-python",
   "name": "python",
   "nbconvert_exporter": "python",
   "pygments_lexer": "ipython3",
   "version": "3.8.19"
  }
 },
 "nbformat": 4,
 "nbformat_minor": 2
}
