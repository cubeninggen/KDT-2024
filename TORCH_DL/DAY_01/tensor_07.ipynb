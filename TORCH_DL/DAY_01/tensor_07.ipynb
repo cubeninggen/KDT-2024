{
 "cells": [
  {
   "cell_type": "markdown",
   "metadata": {},
   "source": [
    "#### Tensor의 모양/형태/shape 변경과 View Tensor"
   ]
  },
  {
   "cell_type": "code",
   "execution_count": 1,
   "metadata": {},
   "outputs": [],
   "source": [
    "import torch\n",
    "import numpy as np"
   ]
  },
  {
   "cell_type": "code",
   "execution_count": 2,
   "metadata": {},
   "outputs": [
    {
     "name": "stdout",
     "output_type": "stream",
     "text": [
      "tensor([ 1,  2,  3,  4,  5,  6,  7,  8,  9, 10, 11, 12, 13, 14, 15, 16, 17, 18,\n",
      "        19, 20])\n",
      "1\n",
      "(1,)\n"
     ]
    }
   ],
   "source": [
    "dataTS=torch.arange(1,21)\n",
    "print(dataTS,dataTS.ndim,dataTS.stride(),sep='\\n')"
   ]
  },
  {
   "cell_type": "code",
   "execution_count": 10,
   "metadata": {},
   "outputs": [
    {
     "name": "stdout",
     "output_type": "stream",
     "text": [
      "tensor([[77,  2,  3,  4,  5],\n",
      "        [ 6,  7,  8,  9, 10],\n",
      "        [11, 12, 13, 14, 15],\n",
      "        [16, 17, 18, 19, 20]])\n",
      "2\n",
      "(5, 1)\n",
      "is_contiguous() : True\n"
     ]
    }
   ],
   "source": [
    "# 1D => 2D 형태/모양/shape 변경\n",
    "dataTS2=dataTS.reshape((-1,5))\n",
    "print(dataTS2,dataTS2.ndim,dataTS2.stride(),sep='\\n')\n",
    "print(f'is_contiguous() : {dataTS2.is_contiguous()}')"
   ]
  },
  {
   "cell_type": "code",
   "execution_count": 11,
   "metadata": {},
   "outputs": [
    {
     "name": "stdout",
     "output_type": "stream",
     "text": [
      " 77\n",
      " 2\n",
      " 3\n",
      " 4\n",
      " 5\n",
      " 6\n",
      " 7\n",
      " 8\n",
      " 9\n",
      " 10\n",
      " 11\n",
      " 12\n",
      " 13\n",
      " 14\n",
      " 15\n",
      " 16\n",
      " 17\n",
      " 18\n",
      " 19\n",
      " 20\n",
      "[torch.storage.TypedStorage(dtype=torch.int64, device=cpu) of size 20]\n",
      "is_contiguous() : True\n"
     ]
    }
   ],
   "source": [
    "print(dataTS2.storage())\n",
    "print(f'is_contiguous() : {dataTS2.is_contiguous()}')"
   ]
  },
  {
   "cell_type": "code",
   "execution_count": 5,
   "metadata": {},
   "outputs": [],
   "source": [
    "dataTS2[0][0]=77"
   ]
  },
  {
   "cell_type": "code",
   "execution_count": 6,
   "metadata": {},
   "outputs": [
    {
     "data": {
      "text/plain": [
       "(tensor([77,  2,  3,  4,  5,  6,  7,  8,  9, 10, 11, 12, 13, 14, 15, 16, 17, 18,\n",
       "         19, 20]),\n",
       " tensor([[77,  2,  3,  4,  5],\n",
       "         [ 6,  7,  8,  9, 10],\n",
       "         [11, 12, 13, 14, 15],\n",
       "         [16, 17, 18, 19, 20]]))"
      ]
     },
     "execution_count": 6,
     "metadata": {},
     "output_type": "execute_result"
    }
   ],
   "source": [
    "dataTS,dataTS2"
   ]
  },
  {
   "cell_type": "code",
   "execution_count": 12,
   "metadata": {},
   "outputs": [
    {
     "name": "stdout",
     "output_type": "stream",
     "text": [
      "tensor([[77,  2],\n",
      "        [ 3,  4],\n",
      "        [ 5,  6],\n",
      "        [ 7,  8],\n",
      "        [ 9, 10],\n",
      "        [11, 12],\n",
      "        [13, 14],\n",
      "        [15, 16],\n",
      "        [17, 18],\n",
      "        [19, 20]])\n",
      "2\n",
      "(2, 1)\n",
      "is_contiguous() : True\n"
     ]
    }
   ],
   "source": [
    "dataTS22=dataTS2.reshape((-1,2))\n",
    "print(dataTS22,dataTS22.ndim,dataTS22.stride(),sep='\\n')\n",
    "print(f'is_contiguous() : {dataTS2.is_contiguous()}')"
   ]
  },
  {
   "cell_type": "code",
   "execution_count": 22,
   "metadata": {},
   "outputs": [
    {
     "name": "stdout",
     "output_type": "stream",
     "text": [
      " 77\n",
      " 2\n",
      " 3\n",
      " 4\n",
      " 5\n",
      " 6\n",
      " 7\n",
      " 8\n",
      " 9\n",
      " 10\n",
      " 11\n",
      " 12\n",
      " 13\n",
      " 14\n",
      " 15\n",
      " 16\n",
      " 17\n",
      " 18\n",
      " 19\n",
      " 20\n",
      "[torch.storage.TypedStorage(dtype=torch.int64, device=cpu) of size 20]\n",
      "is_contiguous() : False\n",
      "None\n",
      " 77\n",
      " 3\n",
      " 5\n",
      " 7\n",
      " 9\n",
      " 11\n",
      " 13\n",
      " 15\n",
      " 17\n",
      " 19\n",
      " 2\n",
      " 4\n",
      " 6\n",
      " 8\n",
      " 10\n",
      " 12\n",
      " 14\n",
      " 16\n",
      " 18\n",
      " 20\n",
      "[torch.storage.TypedStorage(dtype=torch.int64, device=cpu) of size 20]\n",
      "is_contiguous() : True\n"
     ]
    }
   ],
   "source": [
    "## 불연속적 ==> 연속적으로 변환 \n",
    "dataTS23=dataTS22.T\n",
    "print(dataTS23.storage())\n",
    "print(print(f'is_contiguous() : {dataTS23.is_contiguous()}'))\n",
    "\n",
    "dTS=dataTS23.contiguous()\n",
    "print(dTS.storage())\n",
    "print(f'is_contiguous() : {dTS.is_contiguous()}')"
   ]
  },
  {
   "cell_type": "code",
   "execution_count": null,
   "metadata": {},
   "outputs": [],
   "source": []
  }
 ],
 "metadata": {
  "kernelspec": {
   "display_name": "TORCH_38",
   "language": "python",
   "name": "python3"
  },
  "language_info": {
   "codemirror_mode": {
    "name": "ipython",
    "version": 3
   },
   "file_extension": ".py",
   "mimetype": "text/x-python",
   "name": "python",
   "nbconvert_exporter": "python",
   "pygments_lexer": "ipython3",
   "version": "3.8.19"
  }
 },
 "nbformat": 4,
 "nbformat_minor": 2
}
