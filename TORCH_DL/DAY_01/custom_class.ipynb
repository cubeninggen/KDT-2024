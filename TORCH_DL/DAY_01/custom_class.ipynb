{
 "cells": [
  {
   "cell_type": "markdown",
   "metadata": {},
   "source": [
    "#### 사용자정의 클레스와 상속"
   ]
  },
  {
   "cell_type": "markdown",
   "metadata": {},
   "source": [
    "- 사용자 정의 클레스 : 개발자 필요에 의해서 생성한 클레스"
   ]
  },
  {
   "cell_type": "code",
   "execution_count": 2,
   "metadata": {},
   "outputs": [],
   "source": [
    "#-------------------------------------------------------------\n",
    "# 저장데이터 : 사람 정보 저장 클레스\n",
    "# 클레스이름 : Person\n",
    "# 클레스속성 : name, age, gender\n",
    "# 클레스기능 : eat(),sleep()\n",
    "#-------------------------------------------------------------\n",
    "class Person:\n",
    "    #클레스 변수/속성 : 겍체인스턴스 생성없이 사용 가능\n",
    "    born='대한민국'\n",
    "\n",
    "    # 인스턴스 생성해주는 매서드\n",
    "    # 인스턴스 생성시 자동호출 즉, 콜백매서드\n",
    "    def __init__(self,name,age,gender):\n",
    "        print('__init__()')\n",
    "        self.name=name\n",
    "        self.age=age\n",
    "        self.gender=gender\n",
    "\n",
    "    # 인스턴스 메서드\n",
    "    def eat(self,food):\n",
    "        print(f'{self.name} {food} 먹는다.')\n",
    "\n",
    "    def sleep(self,where):\n",
    "        print(f'{where}에서 잔다.')\n",
    "\n",
    "    # 정적 메서드\n",
    "    @staticmethod\n",
    "    def test(msg):\n",
    "        print(msg)"
   ]
  },
  {
   "cell_type": "code",
   "execution_count": 3,
   "metadata": {},
   "outputs": [
    {
     "name": "stdout",
     "output_type": "stream",
     "text": [
      "__init__()\n"
     ]
    }
   ],
   "source": [
    "# 인스턴스/겍체 생성 \n",
    "kim=Person('마징가',10,'남자')"
   ]
  },
  {
   "cell_type": "code",
   "execution_count": 4,
   "metadata": {},
   "outputs": [
    {
     "data": {
      "text/plain": [
       "'대한민국'"
      ]
     },
     "execution_count": 4,
     "metadata": {},
     "output_type": "execute_result"
    }
   ],
   "source": [
    "# 클레스 속성 : 겍체/인스턴스 생성없이 바로 사용 가능\n",
    "Person.born"
   ]
  },
  {
   "cell_type": "markdown",
   "metadata": {},
   "source": [
    "- 상속(Inheritance)\n",
    "    * 기존 클레스의 속성과 메서드 재사용\n",
    "    * 추가 속성 및 메서드로 확장"
   ]
  },
  {
   "cell_type": "code",
   "execution_count": 5,
   "metadata": {},
   "outputs": [],
   "source": [
    "#-------------------------------------------------------------\n",
    "# 저장데이터 : 사람 정보 저장 클레스\n",
    "# 클레스이름 : Person <=Sub Class\n",
    "# 클레스속성 : name, age, gender, group, position\n",
    "# 클레스기능 : eat(),sleep(),extinguish()\n",
    "# 부모클레스 : Person <=Super Class\n",
    "#-------------------------------------------------------------\n",
    "class Fierman(Person):\n",
    "    \n",
    "    # 인스턴스 생성해주는 매서드\n",
    "    # 인스턴스 생성시 자동호출 즉, 콜백매서드\n",
    "    def __init__(self,name,age,gender,group,position):\n",
    "        # super class\n",
    "        super().__init__(name,age,gender)\n",
    "        # sub class\n",
    "        self.group=group\n",
    "        self.position=position\n",
    "\n",
    "    # 인스턴스 메서드\n",
    "    def extinguish(self,where):\n",
    "        print(f'{self.name}은 {where}에서 불을 끄고 있다.')\n",
    "\n",
    "    # 오버라이딩(Overriding)\n",
    "    # 부모클레스로부터 상속받은 메서드 중에서 변경하고 싶은 메서드\n",
    "    # 구현부만 변경\n",
    "    def eat(self,food):\n",
    "        print(f'{self.name} {food} 데워서 먹는다.')"
   ]
  },
  {
   "cell_type": "code",
   "execution_count": 6,
   "metadata": {},
   "outputs": [
    {
     "name": "stdout",
     "output_type": "stream",
     "text": [
      "__init__()\n"
     ]
    }
   ],
   "source": [
    "park=Fierman('홍길동',30,'남자','대구','소방서')"
   ]
  },
  {
   "cell_type": "code",
   "execution_count": 7,
   "metadata": {},
   "outputs": [
    {
     "name": "stdout",
     "output_type": "stream",
     "text": [
      "방에서 잔다.\n"
     ]
    }
   ],
   "source": [
    "# 오버라이딩\n",
    "park.sleep('방')"
   ]
  },
  {
   "cell_type": "code",
   "execution_count": 8,
   "metadata": {},
   "outputs": [
    {
     "name": "stdout",
     "output_type": "stream",
     "text": [
      "마징가 빵 먹는다.\n"
     ]
    }
   ],
   "source": [
    "\n",
    "kim.eat('빵')"
   ]
  },
  {
   "cell_type": "code",
   "execution_count": 9,
   "metadata": {},
   "outputs": [
    {
     "name": "stdout",
     "output_type": "stream",
     "text": [
      "홍길동 빵 데워서 먹는다.\n"
     ]
    }
   ],
   "source": [
    "# 오버라이딩\n",
    "park.eat('빵')"
   ]
  },
  {
   "cell_type": "code",
   "execution_count": 10,
   "metadata": {},
   "outputs": [
    {
     "name": "stdout",
     "output_type": "stream",
     "text": [
      "홍길동은 달성군에서 불을 끄고 있다.\n"
     ]
    }
   ],
   "source": [
    "\n",
    "park.extinguish('달성군')"
   ]
  },
  {
   "cell_type": "code",
   "execution_count": null,
   "metadata": {},
   "outputs": [],
   "source": []
  }
 ],
 "metadata": {
  "kernelspec": {
   "display_name": "TORCH_38",
   "language": "python",
   "name": "python3"
  },
  "language_info": {
   "codemirror_mode": {
    "name": "ipython",
    "version": 3
   },
   "file_extension": ".py",
   "mimetype": "text/x-python",
   "name": "python",
   "nbconvert_exporter": "python",
   "pygments_lexer": "ipython3",
   "version": "3.8.19"
  }
 },
 "nbformat": 4,
 "nbformat_minor": 2
}
