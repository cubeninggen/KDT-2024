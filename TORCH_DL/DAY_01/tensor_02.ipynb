{
 "cells": [
  {
   "cell_type": "markdown",
   "metadata": {},
   "source": [
    "#### Tensor 이해\n"
   ]
  },
  {
   "cell_type": "code",
   "execution_count": 1,
   "metadata": {},
   "outputs": [],
   "source": [
    "import torch\n"
   ]
  },
  {
   "cell_type": "markdown",
   "metadata": {},
   "source": [
    "- Tensor 생성 [2] torch.rand()"
   ]
  },
  {
   "cell_type": "code",
   "execution_count": 8,
   "metadata": {},
   "outputs": [
    {
     "data": {
      "text/plain": [
       "(tensor([0.7576, 0.2793, 0.4031]),\n",
       " tensor([[0.7347, 0.0293, 0.7999],\n",
       "         [0.3971, 0.7544, 0.5695]]),\n",
       " tensor([[[0.4388, 0.6387, 0.5247],\n",
       "          [0.6826, 0.3051, 0.4635]],\n",
       " \n",
       "         [[0.4550, 0.5725, 0.4980],\n",
       "          [0.9371, 0.6556, 0.3138]]]))"
      ]
     },
     "execution_count": 8,
     "metadata": {},
     "output_type": "execute_result"
    }
   ],
   "source": [
    "# 0<= ~<1 범위의 임의의 숫자 1개 추출 => rand(*size)\n",
    "# rand(*size) : 가변인자 ==> 0 to n dim \n",
    "torch.manual_seed(1)\n",
    "\n",
    "dataTS1=torch.rand(3)        # 1D Vector\n",
    "dataTS2=torch.rand(2,3)      # 2D Matrix\n",
    "dataTS3=torch.rand(2,2,3)    # 3D 3D Tensor\n",
    "dataTS1, dataTS2, dataTS3"
   ]
  },
  {
   "cell_type": "markdown",
   "metadata": {},
   "source": [
    "- Tensor 생성 [3] torch.randn()"
   ]
  },
  {
   "cell_type": "code",
   "execution_count": 9,
   "metadata": {},
   "outputs": [
    {
     "data": {
      "text/plain": [
       "(tensor([-0.6919, -0.4043,  0.2222]),\n",
       " tensor([[ 0.5773, -1.7637,  0.2264],\n",
       "         [-0.2355,  0.3019, -0.2770]]),\n",
       " tensor([[[ 0.4771, -0.1103,  0.2913],\n",
       "          [ 0.5848,  0.2149, -0.4090]],\n",
       " \n",
       "         [[-0.1663,  0.6696,  0.1177],\n",
       "          [-0.3584,  0.6513, -1.0273]]]))"
      ]
     },
     "execution_count": 9,
     "metadata": {},
     "output_type": "execute_result"
    }
   ],
   "source": [
    "dataTS1=torch.randn(3)        # 1D Vector\n",
    "dataTS2=torch.randn(2,3)      # 2D Matrix\n",
    "dataTS3=torch.randn(2,2,3)    # 3D 3D Tensor\n",
    "dataTS1, dataTS2, dataTS3"
   ]
  },
  {
   "cell_type": "markdown",
   "metadata": {},
   "source": [
    "- Tensor생성 [4] torch.randint()"
   ]
  },
  {
   "cell_type": "code",
   "execution_count": 15,
   "metadata": {},
   "outputs": [
    {
     "data": {
      "text/plain": [
       "tensor([[3, 3, 1, 4, 2],\n",
       "        [4, 4, 2, 1, 4],\n",
       "        [1, 4, 1, 3, 1]])"
      ]
     },
     "execution_count": 15,
     "metadata": {},
     "output_type": "execute_result"
    }
   ],
   "source": [
    "dataTS1=torch.randint(1,5,(3,5))   # randint(min<=,<max,(행,열))\n",
    "dataTS1"
   ]
  },
  {
   "cell_type": "code",
   "execution_count": 16,
   "metadata": {},
   "outputs": [
    {
     "data": {
      "text/plain": [
       "tensor([[26,  1, 45, 43,  7, 23],\n",
       "        [ 1, 17, 37, 44, 38, 11],\n",
       "        [ 1, 45, 22, 45, 35, 25],\n",
       "        [21, 32, 25,  2, 36, 33]])"
      ]
     },
     "execution_count": 16,
     "metadata": {},
     "output_type": "execute_result"
    }
   ],
   "source": [
    "# 2D Vector\n",
    "dataTS1=torch.randint(1,46,(4,6))\n",
    "dataTS1"
   ]
  },
  {
   "cell_type": "code",
   "execution_count": null,
   "metadata": {},
   "outputs": [],
   "source": []
  }
 ],
 "metadata": {
  "kernelspec": {
   "display_name": "TORCH_38",
   "language": "python",
   "name": "python3"
  },
  "language_info": {
   "codemirror_mode": {
    "name": "ipython",
    "version": 3
   },
   "file_extension": ".py",
   "mimetype": "text/x-python",
   "name": "python",
   "nbconvert_exporter": "python",
   "pygments_lexer": "ipython3",
   "version": "3.8.19"
  }
 },
 "nbformat": 4,
 "nbformat_minor": 2
}
