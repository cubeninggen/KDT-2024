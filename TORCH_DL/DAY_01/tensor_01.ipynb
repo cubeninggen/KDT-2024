{
 "cells": [
  {
   "cell_type": "markdown",
   "metadata": {},
   "source": [
    "#### Tensor 이해 - 생성\n",
    "- Tensor란? \n",
    "    * pytorch에서 데이터를 저장하는 객체\n",
    "    * 모델에서 입력/출력 데이터 형태"
   ]
  },
  {
   "cell_type": "code",
   "execution_count": 1,
   "metadata": {},
   "outputs": [
    {
     "name": "stdout",
     "output_type": "stream",
     "text": [
      "torch v.2.4.1\n"
     ]
    }
   ],
   "source": [
    "import torch\n",
    "print(f'torch v.{torch.__version__}')\n",
    "#----------------------------------------------------\n",
    "# 텐서 속성 출력 함수\n",
    "#----------------------------------------------------\n",
    "def printInfo(obj,obj_name):\n",
    "    print(f'\\n[{obj_name}]')\n",
    "    print(f'shape  : {obj.shape}')\n",
    "    print(f'ndom   : {obj.ndim}차원')\n",
    "    print(f'dtype  : {obj.dtype}')\n",
    "    print(f'device : {obj.device}')\n",
    "    print(f'data   :\\n{obj.data}')\n"
   ]
  },
  {
   "cell_type": "markdown",
   "metadata": {},
   "source": [
    "- 텐서생성 [1] torch.tencor()"
   ]
  },
  {
   "cell_type": "code",
   "execution_count": null,
   "metadata": {},
   "outputs": [],
   "source": [
    "# 데이터 1개 즉, 스칼라 \n",
    "dataTF=torch.tensor(10)                     #기본 int64\n",
    "printInfo(dataTF,'dataTF')\n",
    "\n",
    "dataTF=torch.tensor(10,dtype=torch.uint8)   # uint8 설정\n",
    "printInfo(dataTF,'dataTF')"
   ]
  },
  {
   "cell_type": "code",
   "execution_count": null,
   "metadata": {},
   "outputs": [],
   "source": [
    "# 데이터 1개 즉, 백터 1D \n",
    "dataTF=torch.tensor([10])                     #기본 int64\n",
    "printInfo(dataTF,'dataTF')\n",
    "\n",
    "dataTF=torch.tensor([10],dtype=torch.uint8)   # uint8 설정\n",
    "printInfo(dataTF,'dataTF')"
   ]
  },
  {
   "cell_type": "code",
   "execution_count": null,
   "metadata": {},
   "outputs": [],
   "source": [
    "# 데이터 1개 즉, 행렬 2D \n",
    "dataTF=torch.tensor([[10]])                     #기본 int64\n",
    "printInfo(dataTF,'dataTF')\n",
    "\n",
    "dataTF=torch.tensor([[10],[20]],dtype=torch.uint8)   # uint8 설정\n",
    "printInfo(dataTF,'dataTF')"
   ]
  },
  {
   "cell_type": "code",
   "execution_count": null,
   "metadata": {},
   "outputs": [],
   "source": [
    "# 데이터 1개 즉, 행렬 2D \n",
    "dataTF=torch.tensor([[[[10]]]])                     #기본 int64\n",
    "printInfo(dataTF,'dataTF')\n",
    "\n",
    "dataTF=torch.tensor([[[[10],[20]]]],dtype=torch.uint8)   # uint8 설정\n",
    "printInfo(dataTF,'dataTF')"
   ]
  },
  {
   "cell_type": "code",
   "execution_count": null,
   "metadata": {},
   "outputs": [],
   "source": []
  }
 ],
 "metadata": {
  "kernelspec": {
   "display_name": "TORCH_38",
   "language": "python",
   "name": "python3"
  },
  "language_info": {
   "codemirror_mode": {
    "name": "ipython",
    "version": 3
   },
   "file_extension": ".py",
   "mimetype": "text/x-python",
   "name": "python",
   "nbconvert_exporter": "python",
   "pygments_lexer": "ipython3",
   "version": "3.8.19"
  }
 },
 "nbformat": 4,
 "nbformat_minor": 2
}
