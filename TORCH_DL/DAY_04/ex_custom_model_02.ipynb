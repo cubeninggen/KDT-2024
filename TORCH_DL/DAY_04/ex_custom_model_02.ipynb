{
 "cells": [
  {
   "cell_type": "markdown",
   "metadata": {},
   "source": [
    "#### 사용자 정의 모델 클레스\n",
    "- 부모 클레스 : nn.Module\n",
    "- 필수 오버라이딩\n",
    "    * _ _init_ _() : 모델 층 구성 즉,설계\n",
    "    * forward() : 순방향 학습 진행 코드 구현\n",
    "- 동적 모델\n",
    "    * container 모듈 중 nn.ModuleList() 사용해서 동적으로 Layer 추가\n",
    "        - forward 기능 미 제공\n",
    "        - layer 인스턴스 요소 사이에 연관성 없음\n",
    "        - layer 인스턴스 요소는 인덱싱으로 접근"
   ]
  },
  {
   "cell_type": "code",
   "execution_count": 17,
   "metadata": {},
   "outputs": [],
   "source": [
    "import torch                                # 텐서\n",
    "import torch.nn as nn                       # 인공신경망\n",
    "import torch.nn.functional as F             # 인공신경망 함수 (손실함수, 활성화함수 etc...)\n",
    "import torch.optim as optim                 # 최적화 관련 모듈 (가중치, 절편 빠르게 찾아주는 알고리즘)\n",
    "from torchinfo import summary               # 모델 구조 및 정보 관련 모듈\n",
    "from torchmetrics.regression import *       # 회귀 성능 지표 관련 모듈\n",
    "from torchmetrics.classification import *   # 분류 성능 지표 관련 모듈"
   ]
  },
  {
   "cell_type": "code",
   "execution_count": 18,
   "metadata": {},
   "outputs": [],
   "source": [
    "# 렌덤 고정\n",
    "torch.manual_seed(1)\n",
    "# 텐서 저장 및 실행 위치 설정\n",
    "DEVICE='cuda' if torch.cuda.is_available() else 'cpu'"
   ]
  },
  {
   "cell_type": "markdown",
   "metadata": {},
   "source": [
    "- 모델 설계 - 동적모델 <hr>\n",
    "    * 목표: 은닉층의 개수가 동적인 모델\n",
    "    * 조건 \n",
    "        * 입력층과 출력층 개수 동적 => 입력층의 입력값, 출력층의 출력값 \n",
    "        * 은닉층의 개수 동적 + 퍼셉트론 개수 고정 => 은닉층의 개수, 퍼셉트론 수"
   ]
  },
  {
   "cell_type": "code",
   "execution_count": 19,
   "metadata": {},
   "outputs": [],
   "source": [
    "# 모델이름 : DynamicModel\n",
    "# 부모클레스 : nnModule\n",
    "# 매개변수 : in_in,out_out,h_inout,h_cnt\n",
    "class DynamicModel(nn.Module):\n",
    "\n",
    "    # 모델 구조 설계 함수 즉, 생성자 메서드\n",
    "    def __init__(self,in_in,out_out,h_inout,h_cnt):\n",
    "        super().__init__()\n",
    "        self.in_layer=nn.Linear(in_in,h_inout)\n",
    "        self.h_layers=nn.ModuleList([nn.Linear(h_inout,h_inout)for _ in range(h_cnt)])\n",
    "        self.out_layer=nn.Linear(h_inout,out_out)\n",
    "\n",
    "    # 학습 진행 콜백 메서드\n",
    "    def forward(self,x):\n",
    "        # 입력층\n",
    "        y=self.in_layer(x)      # y = x1w1 + x2w2 + x3w3 + b\n",
    "        y=F.relu(y)             # 0 <= y\n",
    "        # 은닉층\n",
    "        for linear in self.h_layers:\n",
    "            y=linear(y)\n",
    "            y=F.relu(y)\n",
    "        # 출력층\n",
    "        return self.out_layer(y)"
   ]
  },
  {
   "cell_type": "code",
   "execution_count": 20,
   "metadata": {},
   "outputs": [],
   "source": [
    "m1=DynamicModel(3,2,5,10)"
   ]
  },
  {
   "cell_type": "code",
   "execution_count": 21,
   "metadata": {},
   "outputs": [
    {
     "name": "stdout",
     "output_type": "stream",
     "text": [
      "DynamicModel(\n",
      "  (in_layer): Linear(in_features=3, out_features=5, bias=True)\n",
      "  (h_layers): ModuleList(\n",
      "    (0-9): 10 x Linear(in_features=5, out_features=5, bias=True)\n",
      "  )\n",
      "  (out_layer): Linear(in_features=5, out_features=2, bias=True)\n",
      ")\n"
     ]
    }
   ],
   "source": [
    "print(m1)"
   ]
  },
  {
   "cell_type": "code",
   "execution_count": 22,
   "metadata": {},
   "outputs": [
    {
     "name": "stdout",
     "output_type": "stream",
     "text": [
      "in_layer.weight torch.Size([5, 3])\n",
      "in_layer.bias torch.Size([5])\n",
      "h_layers.0.weight torch.Size([5, 5])\n",
      "h_layers.0.bias torch.Size([5])\n",
      "h_layers.1.weight torch.Size([5, 5])\n",
      "h_layers.1.bias torch.Size([5])\n",
      "h_layers.2.weight torch.Size([5, 5])\n",
      "h_layers.2.bias torch.Size([5])\n",
      "h_layers.3.weight torch.Size([5, 5])\n",
      "h_layers.3.bias torch.Size([5])\n",
      "h_layers.4.weight torch.Size([5, 5])\n",
      "h_layers.4.bias torch.Size([5])\n",
      "h_layers.5.weight torch.Size([5, 5])\n",
      "h_layers.5.bias torch.Size([5])\n",
      "h_layers.6.weight torch.Size([5, 5])\n",
      "h_layers.6.bias torch.Size([5])\n",
      "h_layers.7.weight torch.Size([5, 5])\n",
      "h_layers.7.bias torch.Size([5])\n",
      "h_layers.8.weight torch.Size([5, 5])\n",
      "h_layers.8.bias torch.Size([5])\n",
      "h_layers.9.weight torch.Size([5, 5])\n",
      "h_layers.9.bias torch.Size([5])\n",
      "out_layer.weight torch.Size([2, 5])\n",
      "out_layer.bias torch.Size([2])\n"
     ]
    }
   ],
   "source": [
    "for name,param in m1.named_parameters():\n",
    "    print(name,param.shape)"
   ]
  },
  {
   "cell_type": "markdown",
   "metadata": {},
   "source": [
    "- 학습진행"
   ]
  },
  {
   "cell_type": "code",
   "execution_count": 23,
   "metadata": {},
   "outputs": [],
   "source": [
    "## 임시 데이터 생성\n",
    "dataTS=torch.FloatTensor([[1,3,5],[2,4,6],[3,5,7],[4,6,8]])     # 2D (4,3)\n",
    "targetTS=torch.FloatTensor([[7,9],[8,10],[9,11],[10,12]])     # 2D (4,2)"
   ]
  },
  {
   "cell_type": "code",
   "execution_count": 25,
   "metadata": {},
   "outputs": [
    {
     "name": "stdout",
     "output_type": "stream",
     "text": [
      "tensor([[0.1237, 0.0215],\n",
      "        [0.1237, 0.0215],\n",
      "        [0.1237, 0.0215],\n",
      "        [0.1237, 0.0215]], grad_fn=<AddmmBackward0>)\n",
      "torch.Size([4, 2])\n"
     ]
    }
   ],
   "source": [
    "pre_y=m1(dataTS)\n",
    "print(pre_y,pre_y.shape,sep='\\n')"
   ]
  },
  {
   "cell_type": "code",
   "execution_count": null,
   "metadata": {},
   "outputs": [],
   "source": []
  }
 ],
 "metadata": {
  "kernelspec": {
   "display_name": "TORCH_38",
   "language": "python",
   "name": "python3"
  },
  "language_info": {
   "codemirror_mode": {
    "name": "ipython",
    "version": 3
   },
   "file_extension": ".py",
   "mimetype": "text/x-python",
   "name": "python",
   "nbconvert_exporter": "python",
   "pygments_lexer": "ipython3",
   "version": "3.8.19"
  }
 },
 "nbformat": 4,
 "nbformat_minor": 2
}
