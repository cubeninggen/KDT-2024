{
 "cells": [
  {
   "cell_type": "markdown",
   "metadata": {},
   "source": [
    "#### iris 데이터셋 활용 꽃잎 너비 예측 모델\n",
    "- 데이터셋 : iris.csv 에서 2개 Feacure사용\n",
    "- 구현 프레임워크 : Pytorch"
   ]
  },
  {
   "cell_type": "markdown",
   "metadata": {},
   "source": [
    "- [1] 모듈로딩 및 데이터 준비"
   ]
  },
  {
   "cell_type": "code",
   "execution_count": 12,
   "metadata": {},
   "outputs": [
    {
     "data": {
      "text/html": [
       "<div>\n",
       "<style scoped>\n",
       "    .dataframe tbody tr th:only-of-type {\n",
       "        vertical-align: middle;\n",
       "    }\n",
       "\n",
       "    .dataframe tbody tr th {\n",
       "        vertical-align: top;\n",
       "    }\n",
       "\n",
       "    .dataframe thead th {\n",
       "        text-align: right;\n",
       "    }\n",
       "</style>\n",
       "<table border=\"1\" class=\"dataframe\">\n",
       "  <thead>\n",
       "    <tr style=\"text-align: right;\">\n",
       "      <th></th>\n",
       "      <th>sepal.length</th>\n",
       "      <th>sepal.width</th>\n",
       "      <th>petal.length</th>\n",
       "      <th>petal.width</th>\n",
       "    </tr>\n",
       "  </thead>\n",
       "  <tbody>\n",
       "    <tr>\n",
       "      <th>0</th>\n",
       "      <td>5.1</td>\n",
       "      <td>3.5</td>\n",
       "      <td>1.4</td>\n",
       "      <td>0.2</td>\n",
       "    </tr>\n",
       "    <tr>\n",
       "      <th>1</th>\n",
       "      <td>4.9</td>\n",
       "      <td>3.0</td>\n",
       "      <td>1.4</td>\n",
       "      <td>0.2</td>\n",
       "    </tr>\n",
       "    <tr>\n",
       "      <th>2</th>\n",
       "      <td>4.7</td>\n",
       "      <td>3.2</td>\n",
       "      <td>1.3</td>\n",
       "      <td>0.2</td>\n",
       "    </tr>\n",
       "    <tr>\n",
       "      <th>3</th>\n",
       "      <td>4.6</td>\n",
       "      <td>3.1</td>\n",
       "      <td>1.5</td>\n",
       "      <td>0.2</td>\n",
       "    </tr>\n",
       "    <tr>\n",
       "      <th>4</th>\n",
       "      <td>5.0</td>\n",
       "      <td>3.6</td>\n",
       "      <td>1.4</td>\n",
       "      <td>0.2</td>\n",
       "    </tr>\n",
       "  </tbody>\n",
       "</table>\n",
       "</div>"
      ],
      "text/plain": [
       "   sepal.length  sepal.width  petal.length  petal.width\n",
       "0           5.1          3.5           1.4          0.2\n",
       "1           4.9          3.0           1.4          0.2\n",
       "2           4.7          3.2           1.3          0.2\n",
       "3           4.6          3.1           1.5          0.2\n",
       "4           5.0          3.6           1.4          0.2"
      ]
     },
     "execution_count": 12,
     "metadata": {},
     "output_type": "execute_result"
    }
   ],
   "source": [
    "import torch                         # 텐서 및 수치 계산 함수 관련 모듈\n",
    "import torch.nn as nn                # 인공신경망 관련 모듈\n",
    "import torch.nn.functional as F      # 손실, 거리등  함수관련 모듈\n",
    "import torch.optim as optimizer      # \n",
    "import pandas as pd\n",
    "from sklearn.model_selection import train_test_split\n",
    "\n",
    "torch.manual_seed(1)\n",
    "\n",
    "DATA_FILE='../data/iris.csv'\n",
    "irisDF=pd.read_csv(DATA_FILE,usecols=[0,1,2,3])\n",
    "irisDF.head()"
   ]
  },
  {
   "cell_type": "markdown",
   "metadata": {},
   "source": [
    "[2] 모델 준비\n",
    "- 학습방법 : 지도학습 > 회귀\n",
    "- 알고리즘 : 선형관계 >> 선형모델 ==> nn.Linear"
   ]
  },
  {
   "cell_type": "code",
   "execution_count": 13,
   "metadata": {},
   "outputs": [],
   "source": [
    "# in_features : sepal.length, sepal.width, petal.length 3개\n",
    "# out_features : petal.width 1개\n",
    "model=nn.Linear(3,1)"
   ]
  },
  {
   "cell_type": "code",
   "execution_count": 14,
   "metadata": {},
   "outputs": [
    {
     "name": "stdout",
     "output_type": "stream",
     "text": [
      "[weight] Parameter containing:\n",
      "tensor([[ 0.2975, -0.2548, -0.1119]], requires_grad=True)\n",
      "\n",
      "[bias] Parameter containing:\n",
      "tensor([0.2710], requires_grad=True)\n",
      "\n"
     ]
    }
   ],
   "source": [
    "# 가중치와 절편 확인\n",
    "for name,param in model.named_parameters():\n",
    "    print(f'[{name}] {param}\\n')"
   ]
  },
  {
   "cell_type": "markdown",
   "metadata": {},
   "source": [
    "[3]최적화 인스턴스 준비"
   ]
  },
  {
   "cell_type": "code",
   "execution_count": 15,
   "metadata": {},
   "outputs": [],
   "source": [
    "### 모델의 가중치와 절편을 절편을 최적화 ==> dlstmxjstmdp wjsekf\n",
    "adam_optim=optimizer.Adam(model.parameters(),lr=0.1)"
   ]
  },
  {
   "cell_type": "markdown",
   "metadata": {},
   "source": [
    "[4]학습 ==> 개발자가 구현"
   ]
  },
  {
   "cell_type": "markdown",
   "metadata": {},
   "source": [
    "- [4-1] 데이터셋 Tensor화 진행 : 데이터 준비시 진행하거나 또는 학습 전 진행"
   ]
  },
  {
   "cell_type": "code",
   "execution_count": 16,
   "metadata": {},
   "outputs": [
    {
     "data": {
      "text/plain": [
       "torch.Size([150, 3])"
      ]
     },
     "execution_count": 16,
     "metadata": {},
     "output_type": "execute_result"
    }
   ],
   "source": [
    "featureTS=torch.from_numpy(irisDF[irisDF.columns[:-1]].values).float()\n",
    "featureTS.shape"
   ]
  },
  {
   "cell_type": "code",
   "execution_count": 17,
   "metadata": {},
   "outputs": [
    {
     "data": {
      "text/plain": [
       "torch.Size([150, 1])"
      ]
     },
     "execution_count": 17,
     "metadata": {},
     "output_type": "execute_result"
    }
   ],
   "source": [
    "targetTS=torch.from_numpy(irisDF[['petal.width']].values).float()\n",
    "targetTS.shape"
   ]
  },
  {
   "cell_type": "code",
   "execution_count": 18,
   "metadata": {},
   "outputs": [
    {
     "name": "stdout",
     "output_type": "stream",
     "text": [
      "[FEATURE] TRAIN torch.Size([96, 3]), TEST torch.Size([30, 3]), VAL torch.Size([24, 3])\n",
      "[TARGET]  TRAIN torch.Size([96, 1]), TEST torch.Size([30, 1]), VAL torch.Size([24, 1])\n"
     ]
    }
   ],
   "source": [
    "# Train & Test\n",
    "X_train,X_test,y_train,y_test=train_test_split(featureTS,targetTS,test_size=0.2)\n",
    "\n",
    "# Train & Valid\n",
    "X_train,X_val,y_train,y_val=train_test_split(X_train,y_train,test_size=0.2)\n",
    "\n",
    "print(f'[FEATURE] TRAIN {X_train.shape}, TEST {X_test.shape}, VAL {X_val.shape}')\n",
    "print(f'[TARGET]  TRAIN {y_train.shape}, TEST {y_test.shape}, VAL {y_val.shape}')"
   ]
  },
  {
   "cell_type": "markdown",
   "metadata": {},
   "source": [
    "- [4-2] 학습진행\n",
    "    * 학습횟수 결정 ==> 에포크 설정\n",
    "    * 학습결과 저장 ==> 손실저장 변수"
   ]
  },
  {
   "cell_type": "code",
   "execution_count": 19,
   "metadata": {},
   "outputs": [],
   "source": [
    "## 테스트/검증 함수 \n",
    "# ==> 가중치, 절편 엡데이트 X, 최적화 미진행\n",
    "# ==> 현제 가중치와 절편값으로 테스트 진행\n",
    "def testing(testTS,targetTS,kind='Val'):\n",
    "    with torch.no_grad():      # 가중치 및 절편 업데이트 진행 X\n",
    "        #(1)학습진행 - forward\n",
    "        pre_y=model(testTS)\n",
    "        #(2)오차계산 - 손실함수\n",
    "        loss=F.mse_loss(pre_y,targetTS)\n",
    "        #(4)학습결과 출력 및 저장\n",
    "        print(f'[{kind}] LOSS : {loss}')\n",
    "\n",
    "    return loss"
   ]
  },
  {
   "cell_type": "code",
   "execution_count": 20,
   "metadata": {},
   "outputs": [
    {
     "name": "stdout",
     "output_type": "stream",
     "text": [
      "pre_y.shape : torch.Size([96, 1])\n",
      "[Val] LOSS : 1.1241704225540161\n",
      "[0/10] LOSS : 0.6348679661750793\n",
      "pre_y.shape : torch.Size([96, 1])\n",
      "[Val] LOSS : 0.49967333674430847\n",
      "[1/10] LOSS : 1.2737704515457153\n",
      "pre_y.shape : torch.Size([96, 1])\n",
      "[Val] LOSS : 0.4549461901187897\n",
      "[2/10] LOSS : 0.561482846736908\n",
      "pre_y.shape : torch.Size([96, 1])\n",
      "[Val] LOSS : 0.7931000590324402\n",
      "[3/10] LOSS : 0.39520809054374695\n",
      "pre_y.shape : torch.Size([96, 1])\n",
      "[Val] LOSS : 0.6511217951774597\n",
      "[4/10] LOSS : 0.6682211756706238\n",
      "pre_y.shape : torch.Size([96, 1])\n",
      "[Val] LOSS : 0.3093029260635376\n",
      "[5/10] LOSS : 0.5446659326553345\n",
      "pre_y.shape : torch.Size([96, 1])\n",
      "[Val] LOSS : 0.2068769335746765\n",
      "[6/10] LOSS : 0.25901880860328674\n",
      "pre_y.shape : torch.Size([96, 1])\n",
      "[Val] LOSS : 0.3091997802257538\n",
      "[7/10] LOSS : 0.20892281830310822\n",
      "pre_y.shape : torch.Size([96, 1])\n",
      "[Val] LOSS : 0.31738463044166565\n",
      "[8/10] LOSS : 0.3371942937374115\n",
      "pre_y.shape : torch.Size([96, 1])\n",
      "[Val] LOSS : 0.19247877597808838\n",
      "[9/10] LOSS : 0.34477663040161133\n"
     ]
    }
   ],
   "source": [
    "EPOCH=10\n",
    "\n",
    "# 모델 학습 함수\n",
    "def training(featureTS,targetTS,valTS,valTargetTS):\n",
    "    loss_history=[[],[]]\n",
    "    for epoch in range(EPOCH):\n",
    "        #(1)학습진행 - forward\n",
    "        pre_y=model(featureTS)\n",
    "        print(f'pre_y.shape : {pre_y.shape}')\n",
    "        #(2)오차계산 - 손실함수\n",
    "        loss=F.mse_loss(pre_y,targetTS)\n",
    "        loss_history[0].append(loss.item())\n",
    "        #(3)최적화 - 가중치,절편 업데이트 backward\n",
    "        adam_optim.zero_grad()\n",
    "        loss.backward()\n",
    "        adam_optim.step()\n",
    "        #(4)검증 - 모델이\n",
    "        val_loss=testing(valTS,valTargetTS)\n",
    "        loss_history[1].append(val_loss.item())\n",
    "        #(4)학습결과 출력 및 저장\n",
    "        print(f'[{epoch}/{EPOCH}] LOSS : {loss}')\n",
    "\n",
    "    return loss_history\n",
    "# 모델 학습 진행\n",
    "loss=training(X_train,y_train,X_val,y_val)\n"
   ]
  },
  {
   "cell_type": "code",
   "execution_count": 21,
   "metadata": {},
   "outputs": [
    {
     "data": {
      "text/plain": [
       "[[0.6348679661750793,\n",
       "  1.2737704515457153,\n",
       "  0.561482846736908,\n",
       "  0.39520809054374695,\n",
       "  0.6682211756706238,\n",
       "  0.5446659326553345,\n",
       "  0.25901880860328674,\n",
       "  0.20892281830310822,\n",
       "  0.3371942937374115,\n",
       "  0.34477663040161133],\n",
       " [1.1241704225540161,\n",
       "  0.49967333674430847,\n",
       "  0.4549461901187897,\n",
       "  0.7931000590324402,\n",
       "  0.6511217951774597,\n",
       "  0.3093029260635376,\n",
       "  0.2068769335746765,\n",
       "  0.3091997802257538,\n",
       "  0.31738463044166565,\n",
       "  0.19247877597808838]]"
      ]
     },
     "execution_count": 21,
     "metadata": {},
     "output_type": "execute_result"
    }
   ],
   "source": [
    "loss"
   ]
  },
  {
   "cell_type": "code",
   "execution_count": 22,
   "metadata": {},
   "outputs": [
    {
     "data": {
      "image/png": "[encoded data removed]",
      "text/plain": [
       "<Figure size 640x480 with 1 Axes>"
      ]
     },
     "metadata": {},
     "output_type": "display_data"
    }
   ],
   "source": [
    "# 학습 후 로스 시각화\n",
    "import matplotlib.pyplot as plt\n",
    "plt.plot(range(1,11),loss[0],label='Train')\n",
    "plt.plot(range(1,11),loss[1],label='Val')\n",
    "plt.title('Train & Val')\n",
    "plt.grid()\n",
    "plt.xlabel('Epoch')\n",
    "plt.ylabel('Loss')\n",
    "plt.legend()\n",
    "plt.show()"
   ]
  },
  {
   "cell_type": "code",
   "execution_count": null,
   "metadata": {},
   "outputs": [],
   "source": []
  }
 ],
 "metadata": {
  "kernelspec": {
   "display_name": "TORCH_38",
   "language": "python",
   "name": "python3"
  },
  "language_info": {
   "codemirror_mode": {
    "name": "ipython",
    "version": 3
   },
   "file_extension": ".py",
   "mimetype": "text/x-python",
   "name": "python",
   "nbconvert_exporter": "python",
   "pygments_lexer": "ipython3",
   "version": "3.8.19"
  }
 },
 "nbformat": 4,
 "nbformat_minor": 2
}
