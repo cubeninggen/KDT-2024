{
 "cells": [
  {
   "cell_type": "markdown",
   "metadata": {},
   "source": [
    "#### 결정트리 알고리즘 기반 모델\n",
    "- 데이터셋의 피쳐(특성)을 기준으로  데이터를 분류하는 알고리즘\n",
    "- 질문하는 방식으로 Yes/No 결과에 따라 데이터셋 분리가 됨\n",
    "- 장점 : 스케일링이나 정규화 불필요 ==> 성능의 영향이 없음, 쉬운알고리즘\n",
    "- 단점 : 과대적합 ===> 해결을 위한 많은 하이퍼파라미터 존제!!\n",
    "- 다른 ML 알고리즘에 비해 성능이 좋지않음==> 단! 여러개의 DT 가 모이면 성능 강해짐\n",
    "    * 앙상블에 주로 사용됨"
   ]
  },
  {
   "cell_type": "markdown",
   "metadata": {},
   "source": [
    "[1] 모듈로딩및 준비"
   ]
  },
  {
   "cell_type": "code",
   "execution_count": 38,
   "metadata": {},
   "outputs": [],
   "source": [
    "# 모듈로딩\n",
    "import pandas as pd\n",
    "import numpy as np\n",
    "from sklearn.datasets import load_iris\n",
    "\n",
    "# 데이터 로딩\n",
    "featureDF, targetSR=load_iris(as_frame=True,return_X_y=True)"
   ]
  },
  {
   "cell_type": "markdown",
   "metadata": {},
   "source": [
    "[2] 학습용 데이터셋 준비"
   ]
  },
  {
   "cell_type": "code",
   "execution_count": 39,
   "metadata": {},
   "outputs": [],
   "source": [
    "from sklearn.model_selection import train_test_split\n",
    "from sklearn.tree import DecisionTreeClassifier\n",
    "\n",
    "X_train,X_test,y_train,y_test=train_test_split(featureDF,targetSR,random_state=10,stratify=targetSR)"
   ]
  },
  {
   "cell_type": "markdown",
   "metadata": {},
   "source": [
    "[3]  학습 - 기본학습"
   ]
  },
  {
   "cell_type": "code",
   "execution_count": 40,
   "metadata": {},
   "outputs": [
    {
     "data": {
      "text/html": [
       "<style>#sk-container-id-5 {color: black;}#sk-container-id-5 pre{padding: 0;}#sk-container-id-5 div.sk-toggleable {background-color: white;}#sk-container-id-5 label.sk-toggleable__label {cursor: pointer;display: block;width: 100%;margin-bottom: 0;padding: 0.3em;box-sizing: border-box;text-align: center;}#sk-container-id-5 label.sk-toggleable__label-arrow:before {content: \"▸\";float: left;margin-right: 0.25em;color: #696969;}#sk-container-id-5 label.sk-toggleable__label-arrow:hover:before {color: black;}#sk-container-id-5 div.sk-estimator:hover label.sk-toggleable__label-arrow:before {color: black;}#sk-container-id-5 div.sk-toggleable__content {max-height: 0;max-width: 0;overflow: hidden;text-align: left;background-color: #f0f8ff;}#sk-container-id-5 div.sk-toggleable__content pre {margin: 0.2em;color: black;border-radius: 0.25em;background-color: #f0f8ff;}#sk-container-id-5 input.sk-toggleable__control:checked~div.sk-toggleable__content {max-height: 200px;max-width: 100%;overflow: auto;}#sk-container-id-5 input.sk-toggleable__control:checked~label.sk-toggleable__label-arrow:before {content: \"▾\";}#sk-container-id-5 div.sk-estimator input.sk-toggleable__control:checked~label.sk-toggleable__label {background-color: #d4ebff;}#sk-container-id-5 div.sk-label input.sk-toggleable__control:checked~label.sk-toggleable__label {background-color: #d4ebff;}#sk-container-id-5 input.sk-hidden--visually {border: 0;clip: rect(1px 1px 1px 1px);clip: rect(1px, 1px, 1px, 1px);height: 1px;margin: -1px;overflow: hidden;padding: 0;position: absolute;width: 1px;}#sk-container-id-5 div.sk-estimator {font-family: monospace;background-color: #f0f8ff;border: 1px dotted black;border-radius: 0.25em;box-sizing: border-box;margin-bottom: 0.5em;}#sk-container-id-5 div.sk-estimator:hover {background-color: #d4ebff;}#sk-container-id-5 div.sk-parallel-item::after {content: \"\";width: 100%;border-bottom: 1px solid gray;flex-grow: 1;}#sk-container-id-5 div.sk-label:hover label.sk-toggleable__label {background-color: #d4ebff;}#sk-container-id-5 div.sk-serial::before {content: \"\";position: absolute;border-left: 1px solid gray;box-sizing: border-box;top: 0;bottom: 0;left: 50%;z-index: 0;}#sk-container-id-5 div.sk-serial {display: flex;flex-direction: column;align-items: center;background-color: white;padding-right: 0.2em;padding-left: 0.2em;position: relative;}#sk-container-id-5 div.sk-item {position: relative;z-index: 1;}#sk-container-id-5 div.sk-parallel {display: flex;align-items: stretch;justify-content: center;background-color: white;position: relative;}#sk-container-id-5 div.sk-item::before, #sk-container-id-5 div.sk-parallel-item::before {content: \"\";position: absolute;border-left: 1px solid gray;box-sizing: border-box;top: 0;bottom: 0;left: 50%;z-index: -1;}#sk-container-id-5 div.sk-parallel-item {display: flex;flex-direction: column;z-index: 1;position: relative;background-color: white;}#sk-container-id-5 div.sk-parallel-item:first-child::after {align-self: flex-end;width: 50%;}#sk-container-id-5 div.sk-parallel-item:last-child::after {align-self: flex-start;width: 50%;}#sk-container-id-5 div.sk-parallel-item:only-child::after {width: 0;}#sk-container-id-5 div.sk-dashed-wrapped {border: 1px dashed gray;margin: 0 0.4em 0.5em 0.4em;box-sizing: border-box;padding-bottom: 0.4em;background-color: white;}#sk-container-id-5 div.sk-label label {font-family: monospace;font-weight: bold;display: inline-block;line-height: 1.2em;}#sk-container-id-5 div.sk-label-container {text-align: center;}#sk-container-id-5 div.sk-container {/* jupyter's `normalize.less` sets `[hidden] { display: none; }` but bootstrap.min.css set `[hidden] { display: none !important; }` so we also need the `!important` here to be able to override the default hidden behavior on the sphinx rendered scikit-learn.org. See: https://github.com/scikit-learn/scikit-learn/issues/21755 */display: inline-block !important;position: relative;}#sk-container-id-5 div.sk-text-repr-fallback {display: none;}</style><div id=\"sk-container-id-5\" class=\"sk-top-container\"><div class=\"sk-text-repr-fallback\"><pre>DecisionTreeClassifier(random_state=1)</pre><b>In a Jupyter environment, please rerun this cell to show the HTML representation or trust the notebook. <br />On GitHub, the HTML representation is unable to render, please try loading this page with nbviewer.org.</b></div><div class=\"sk-container\" hidden><div class=\"sk-item\"><div class=\"sk-estimator sk-toggleable\"><input class=\"sk-toggleable__control sk-hidden--visually\" id=\"sk-estimator-id-9\" type=\"checkbox\" checked><label for=\"sk-estimator-id-9\" class=\"sk-toggleable__label sk-toggleable__label-arrow\">DecisionTreeClassifier</label><div class=\"sk-toggleable__content\"><pre>DecisionTreeClassifier(random_state=1)</pre></div></div></div></div></div>"
      ],
      "text/plain": [
       "DecisionTreeClassifier(random_state=1)"
      ]
     },
     "execution_count": 40,
     "metadata": {},
     "output_type": "execute_result"
    }
   ],
   "source": [
    "# 모델 인스턴스 생성\n",
    "dt_model=DecisionTreeClassifier(random_state=1)\n",
    "dt_model.fit(X_train,y_train)"
   ]
  },
  {
   "cell_type": "code",
   "execution_count": 41,
   "metadata": {},
   "outputs": [
    {
     "name": "stdout",
     "output_type": "stream",
     "text": [
      "[dt_model.classes_] [0 1 2]\n",
      "[dt_model.n_classes_] 3개\n",
      "[dt_model.max_features_] 4개\n",
      "[dt_model.feature_importantces_] [0.05727497 0.         0.06844775 0.87427728]\n"
     ]
    }
   ],
   "source": [
    "# 모델 파라미터 : 학습fit() 후에 학습용 데이터셋을 기반으로 설정된 값들\n",
    "print(f'[dt_model.classes_] {dt_model.classes_}')\n",
    "print(f'[dt_model.n_classes_] {dt_model.n_classes_}개')\n",
    "print(f'[dt_model.max_features_] {dt_model.max_features_}개')\n",
    "print(f'[dt_model.feature_importantces_] {dt_model.feature_importances_}')"
   ]
  },
  {
   "cell_type": "markdown",
   "metadata": {},
   "source": [
    "- 성능체크"
   ]
  },
  {
   "cell_type": "code",
   "execution_count": 42,
   "metadata": {},
   "outputs": [],
   "source": [
    "# 학습용 데이터셋에 대한 성능 \n",
    "train_score=dt_model.score(X_train,y_train)\n",
    "# 테스트용 데이터셋에 대한 성능 \n",
    "test_score=dt_model.score(X_test,y_test)"
   ]
  },
  {
   "cell_type": "code",
   "execution_count": 43,
   "metadata": {},
   "outputs": [
    {
     "name": "stdout",
     "output_type": "stream",
     "text": [
      "train_score : test_score = 1.0 : 0.9736842105263158\n"
     ]
    }
   ],
   "source": [
    "print(f'train_score : test_score = {train_score} : {test_score}')"
   ]
  },
  {
   "cell_type": "markdown",
   "metadata": {},
   "source": [
    "[4] 교차검증 => 데이터셋 부족 해결 및 과대적합을 회피"
   ]
  },
  {
   "cell_type": "code",
   "execution_count": 44,
   "metadata": {},
   "outputs": [],
   "source": [
    "from sklearn.model_selection import StratifiedKFold,cross_validate"
   ]
  },
  {
   "cell_type": "code",
   "execution_count": 45,
   "metadata": {},
   "outputs": [],
   "source": [
    "# 교차검증 준비 ==> 모델 인스턴스, trainDS, cv=5 [defalut]\n",
    "dt_model2=DecisionTreeClassifier(random_state=1)\n",
    "result=cross_validate(dt_model2,X_train,y_train,return_train_score=True,return_estimator=True)"
   ]
  },
  {
   "cell_type": "code",
   "execution_count": 46,
   "metadata": {},
   "outputs": [
    {
     "data": {
      "text/html": [
       "<div>\n",
       "<style scoped>\n",
       "    .dataframe tbody tr th:only-of-type {\n",
       "        vertical-align: middle;\n",
       "    }\n",
       "\n",
       "    .dataframe tbody tr th {\n",
       "        vertical-align: top;\n",
       "    }\n",
       "\n",
       "    .dataframe thead th {\n",
       "        text-align: right;\n",
       "    }\n",
       "</style>\n",
       "<table border=\"1\" class=\"dataframe\">\n",
       "  <thead>\n",
       "    <tr style=\"text-align: right;\">\n",
       "      <th></th>\n",
       "      <th>fit_time</th>\n",
       "      <th>score_time</th>\n",
       "      <th>estimator</th>\n",
       "      <th>test_score</th>\n",
       "      <th>train_score</th>\n",
       "    </tr>\n",
       "  </thead>\n",
       "  <tbody>\n",
       "    <tr>\n",
       "      <th>0</th>\n",
       "      <td>0.002511</td>\n",
       "      <td>0.002000</td>\n",
       "      <td>DecisionTreeClassifier(random_state=1)</td>\n",
       "      <td>0.956522</td>\n",
       "      <td>1.0</td>\n",
       "    </tr>\n",
       "    <tr>\n",
       "      <th>1</th>\n",
       "      <td>0.001980</td>\n",
       "      <td>0.002002</td>\n",
       "      <td>DecisionTreeClassifier(random_state=1)</td>\n",
       "      <td>0.956522</td>\n",
       "      <td>1.0</td>\n",
       "    </tr>\n",
       "    <tr>\n",
       "      <th>2</th>\n",
       "      <td>0.002518</td>\n",
       "      <td>0.000999</td>\n",
       "      <td>DecisionTreeClassifier(random_state=1)</td>\n",
       "      <td>0.954545</td>\n",
       "      <td>1.0</td>\n",
       "    </tr>\n",
       "    <tr>\n",
       "      <th>3</th>\n",
       "      <td>0.001997</td>\n",
       "      <td>0.001002</td>\n",
       "      <td>DecisionTreeClassifier(random_state=1)</td>\n",
       "      <td>0.863636</td>\n",
       "      <td>1.0</td>\n",
       "    </tr>\n",
       "    <tr>\n",
       "      <th>4</th>\n",
       "      <td>0.001604</td>\n",
       "      <td>0.000929</td>\n",
       "      <td>DecisionTreeClassifier(random_state=1)</td>\n",
       "      <td>0.909091</td>\n",
       "      <td>1.0</td>\n",
       "    </tr>\n",
       "  </tbody>\n",
       "</table>\n",
       "</div>"
      ],
      "text/plain": [
       "   fit_time  score_time                               estimator  test_score  \\\n",
       "0  0.002511    0.002000  DecisionTreeClassifier(random_state=1)    0.956522   \n",
       "1  0.001980    0.002002  DecisionTreeClassifier(random_state=1)    0.956522   \n",
       "2  0.002518    0.000999  DecisionTreeClassifier(random_state=1)    0.954545   \n",
       "3  0.001997    0.001002  DecisionTreeClassifier(random_state=1)    0.863636   \n",
       "4  0.001604    0.000929  DecisionTreeClassifier(random_state=1)    0.909091   \n",
       "\n",
       "   train_score  \n",
       "0          1.0  \n",
       "1          1.0  \n",
       "2          1.0  \n",
       "3          1.0  \n",
       "4          1.0  "
      ]
     },
     "execution_count": 46,
     "metadata": {},
     "output_type": "execute_result"
    }
   ],
   "source": [
    "# dict => DF\n",
    "resultDF=pd.DataFrame(result)\n",
    "resultDF"
   ]
  },
  {
   "cell_type": "markdown",
   "metadata": {},
   "source": [
    "[5] 성능 향상을 위한 튜닝 ==> 하이퍼파라미터 설정\n",
    "- 단점 : 과대적합\n",
    "    * max_depth, min_samples_leaf,... ==> 많음"
   ]
  },
  {
   "cell_type": "code",
   "execution_count": 47,
   "metadata": {},
   "outputs": [],
   "source": [
    "from sklearn.model_selection import GridSearchCV"
   ]
  },
  {
   "cell_type": "code",
   "execution_count": 48,
   "metadata": {},
   "outputs": [],
   "source": [
    "# 하이퍼파라미터 dict 생성\n",
    "params={'max_depth':[4,3,2,1],'min_samples_leaf':[5,3,2]}"
   ]
  },
  {
   "cell_type": "code",
   "execution_count": 49,
   "metadata": {},
   "outputs": [
    {
     "data": {
      "text/html": [
       "<style>#sk-container-id-6 {color: black;}#sk-container-id-6 pre{padding: 0;}#sk-container-id-6 div.sk-toggleable {background-color: white;}#sk-container-id-6 label.sk-toggleable__label {cursor: pointer;display: block;width: 100%;margin-bottom: 0;padding: 0.3em;box-sizing: border-box;text-align: center;}#sk-container-id-6 label.sk-toggleable__label-arrow:before {content: \"▸\";float: left;margin-right: 0.25em;color: #696969;}#sk-container-id-6 label.sk-toggleable__label-arrow:hover:before {color: black;}#sk-container-id-6 div.sk-estimator:hover label.sk-toggleable__label-arrow:before {color: black;}#sk-container-id-6 div.sk-toggleable__content {max-height: 0;max-width: 0;overflow: hidden;text-align: left;background-color: #f0f8ff;}#sk-container-id-6 div.sk-toggleable__content pre {margin: 0.2em;color: black;border-radius: 0.25em;background-color: #f0f8ff;}#sk-container-id-6 input.sk-toggleable__control:checked~div.sk-toggleable__content {max-height: 200px;max-width: 100%;overflow: auto;}#sk-container-id-6 input.sk-toggleable__control:checked~label.sk-toggleable__label-arrow:before {content: \"▾\";}#sk-container-id-6 div.sk-estimator input.sk-toggleable__control:checked~label.sk-toggleable__label {background-color: #d4ebff;}#sk-container-id-6 div.sk-label input.sk-toggleable__control:checked~label.sk-toggleable__label {background-color: #d4ebff;}#sk-container-id-6 input.sk-hidden--visually {border: 0;clip: rect(1px 1px 1px 1px);clip: rect(1px, 1px, 1px, 1px);height: 1px;margin: -1px;overflow: hidden;padding: 0;position: absolute;width: 1px;}#sk-container-id-6 div.sk-estimator {font-family: monospace;background-color: #f0f8ff;border: 1px dotted black;border-radius: 0.25em;box-sizing: border-box;margin-bottom: 0.5em;}#sk-container-id-6 div.sk-estimator:hover {background-color: #d4ebff;}#sk-container-id-6 div.sk-parallel-item::after {content: \"\";width: 100%;border-bottom: 1px solid gray;flex-grow: 1;}#sk-container-id-6 div.sk-label:hover label.sk-toggleable__label {background-color: #d4ebff;}#sk-container-id-6 div.sk-serial::before {content: \"\";position: absolute;border-left: 1px solid gray;box-sizing: border-box;top: 0;bottom: 0;left: 50%;z-index: 0;}#sk-container-id-6 div.sk-serial {display: flex;flex-direction: column;align-items: center;background-color: white;padding-right: 0.2em;padding-left: 0.2em;position: relative;}#sk-container-id-6 div.sk-item {position: relative;z-index: 1;}#sk-container-id-6 div.sk-parallel {display: flex;align-items: stretch;justify-content: center;background-color: white;position: relative;}#sk-container-id-6 div.sk-item::before, #sk-container-id-6 div.sk-parallel-item::before {content: \"\";position: absolute;border-left: 1px solid gray;box-sizing: border-box;top: 0;bottom: 0;left: 50%;z-index: -1;}#sk-container-id-6 div.sk-parallel-item {display: flex;flex-direction: column;z-index: 1;position: relative;background-color: white;}#sk-container-id-6 div.sk-parallel-item:first-child::after {align-self: flex-end;width: 50%;}#sk-container-id-6 div.sk-parallel-item:last-child::after {align-self: flex-start;width: 50%;}#sk-container-id-6 div.sk-parallel-item:only-child::after {width: 0;}#sk-container-id-6 div.sk-dashed-wrapped {border: 1px dashed gray;margin: 0 0.4em 0.5em 0.4em;box-sizing: border-box;padding-bottom: 0.4em;background-color: white;}#sk-container-id-6 div.sk-label label {font-family: monospace;font-weight: bold;display: inline-block;line-height: 1.2em;}#sk-container-id-6 div.sk-label-container {text-align: center;}#sk-container-id-6 div.sk-container {/* jupyter's `normalize.less` sets `[hidden] { display: none; }` but bootstrap.min.css set `[hidden] { display: none !important; }` so we also need the `!important` here to be able to override the default hidden behavior on the sphinx rendered scikit-learn.org. See: https://github.com/scikit-learn/scikit-learn/issues/21755 */display: inline-block !important;position: relative;}#sk-container-id-6 div.sk-text-repr-fallback {display: none;}</style><div id=\"sk-container-id-6\" class=\"sk-top-container\"><div class=\"sk-text-repr-fallback\"><pre>GridSearchCV(estimator=DecisionTreeClassifier(),\n",
       "             param_grid={&#x27;max_depth&#x27;: [4, 3, 2, 1],\n",
       "                         &#x27;min_samples_leaf&#x27;: [5, 3, 2]},\n",
       "             return_train_score=True)</pre><b>In a Jupyter environment, please rerun this cell to show the HTML representation or trust the notebook. <br />On GitHub, the HTML representation is unable to render, please try loading this page with nbviewer.org.</b></div><div class=\"sk-container\" hidden><div class=\"sk-item sk-dashed-wrapped\"><div class=\"sk-label-container\"><div class=\"sk-label sk-toggleable\"><input class=\"sk-toggleable__control sk-hidden--visually\" id=\"sk-estimator-id-10\" type=\"checkbox\" ><label for=\"sk-estimator-id-10\" class=\"sk-toggleable__label sk-toggleable__label-arrow\">GridSearchCV</label><div class=\"sk-toggleable__content\"><pre>GridSearchCV(estimator=DecisionTreeClassifier(),\n",
       "             param_grid={&#x27;max_depth&#x27;: [4, 3, 2, 1],\n",
       "                         &#x27;min_samples_leaf&#x27;: [5, 3, 2]},\n",
       "             return_train_score=True)</pre></div></div></div><div class=\"sk-parallel\"><div class=\"sk-parallel-item\"><div class=\"sk-item\"><div class=\"sk-label-container\"><div class=\"sk-label sk-toggleable\"><input class=\"sk-toggleable__control sk-hidden--visually\" id=\"sk-estimator-id-11\" type=\"checkbox\" ><label for=\"sk-estimator-id-11\" class=\"sk-toggleable__label sk-toggleable__label-arrow\">estimator: DecisionTreeClassifier</label><div class=\"sk-toggleable__content\"><pre>DecisionTreeClassifier()</pre></div></div></div><div class=\"sk-serial\"><div class=\"sk-item\"><div class=\"sk-estimator sk-toggleable\"><input class=\"sk-toggleable__control sk-hidden--visually\" id=\"sk-estimator-id-12\" type=\"checkbox\" ><label for=\"sk-estimator-id-12\" class=\"sk-toggleable__label sk-toggleable__label-arrow\">DecisionTreeClassifier</label><div class=\"sk-toggleable__content\"><pre>DecisionTreeClassifier()</pre></div></div></div></div></div></div></div></div></div></div>"
      ],
      "text/plain": [
       "GridSearchCV(estimator=DecisionTreeClassifier(),\n",
       "             param_grid={'max_depth': [4, 3, 2, 1],\n",
       "                         'min_samples_leaf': [5, 3, 2]},\n",
       "             return_train_score=True)"
      ]
     },
     "execution_count": 49,
     "metadata": {},
     "output_type": "execute_result"
    }
   ],
   "source": [
    "gscv=GridSearchCV(DecisionTreeClassifier(),param_grid=params,refit=True,return_train_score=True)\n",
    "gscv.fit(X_train,y_train)"
   ]
  },
  {
   "cell_type": "code",
   "execution_count": 50,
   "metadata": {},
   "outputs": [
    {
     "name": "stdout",
     "output_type": "stream",
     "text": [
      "[gscv.best_params_] {'max_depth': 4, 'min_samples_leaf': 2}\n",
      "[gscv.best_score_] 0.9371541501976285\n",
      "[gscv.best_estimator_] DecisionTreeClassifier(max_depth=4, min_samples_leaf=2)\n"
     ]
    },
    {
     "data": {
      "text/plain": [
       "Index(['mean_fit_time', 'std_fit_time', 'mean_score_time', 'std_score_time',\n",
       "       'param_max_depth', 'param_min_samples_leaf', 'params',\n",
       "       'split0_test_score', 'split1_test_score', 'split2_test_score',\n",
       "       'split3_test_score', 'split4_test_score', 'mean_test_score',\n",
       "       'std_test_score', 'rank_test_score', 'split0_train_score',\n",
       "       'split1_train_score', 'split2_train_score', 'split3_train_score',\n",
       "       'split4_train_score', 'mean_train_score', 'std_train_score'],\n",
       "      dtype='object')"
      ]
     },
     "execution_count": 50,
     "metadata": {},
     "output_type": "execute_result"
    }
   ],
   "source": [
    "# 모델 파라미터 확인\n",
    "print(f'[gscv.best_params_] {gscv.best_params_}')\n",
    "print(f'[gscv.best_score_] {gscv.best_score_}')\n",
    "print(f'[gscv.best_estimator_] {gscv.best_estimator_}')\n",
    "#print(f'[gscv.cv_results_]\\n {gscv.cv_results_}')\n",
    "cv_resultDF=pd.DataFrame(gscv.cv_results_)\n",
    "cv_resultDF.columns"
   ]
  },
  {
   "cell_type": "code",
   "execution_count": 51,
   "metadata": {},
   "outputs": [
    {
     "name": "stdout",
     "output_type": "stream",
     "text": [
      "[best_model.max_depth] 4\n",
      "[best_model.min_samples_leaf] 2\n"
     ]
    }
   ],
   "source": [
    "## 가장 좋은 모델\n",
    "best_model=gscv.best_estimator_\n",
    "print(f'[best_model.max_depth] {best_model.max_depth}')\n",
    "print(f'[best_model.min_samples_leaf] {best_model.min_samples_leaf}')"
   ]
  },
  {
   "cell_type": "code",
   "execution_count": 52,
   "metadata": {},
   "outputs": [
    {
     "data": {
      "text/plain": [
       "(array([0.01321873, 0.        , 0.59964451, 0.38713677]), 4)"
      ]
     },
     "execution_count": 52,
     "metadata": {},
     "output_type": "execute_result"
    }
   ],
   "source": [
    "# 피쳐 중요도 및 겟수\n",
    "best_model.feature_importances_,best_model.n_features_in_"
   ]
  },
  {
   "cell_type": "code",
   "execution_count": 53,
   "metadata": {},
   "outputs": [
    {
     "data": {
      "image/png": "[encoded data removed]",
      "text/plain": [
       "<Figure size 640x480 with 1 Axes>"
      ]
     },
     "metadata": {},
     "output_type": "display_data"
    }
   ],
   "source": [
    "import matplotlib.pyplot as plt\n",
    "plt.barh(range(best_model.n_features_in_),best_model.feature_importances_,align='center')\n",
    "plt.yticks(np.arange(best_model.n_features_in_),best_model.feature_names_in_)\n",
    "plt.xlabel('[Feature Importance]')\n",
    "plt.ylabel('feature')\n",
    "plt.show()"
   ]
  },
  {
   "cell_type": "markdown",
   "metadata": {},
   "source": [
    "- DT 그레프 시각화\n",
    "    * Graphviz 프로그램 설치 + python 용 패키지 설치"
   ]
  },
  {
   "cell_type": "code",
   "execution_count": 58,
   "metadata": {},
   "outputs": [],
   "source": [
    "## DT모델을 dot 포멧의 파일로 저장 ==> export_graphviz\n",
    "from sklearn.tree import export_graphviz\n",
    "export_graphviz(best_model,out_file='tree.dot',class_names=['setosa','versicolor','verginica'],feature_names=best_model.feature_names_in_,impurity=True,filled=True,rounded=True,rotate=True)"
   ]
  },
  {
   "cell_type": "code",
   "execution_count": 59,
   "metadata": {},
   "outputs": [
    {
     "data": {
      "image/svg+xml": [
       "<?xml version=\"1.0\" encoding=\"UTF-8\" standalone=\"no\"?>\n",
       "<!DOCTYPE svg PUBLIC \"-//W3C//DTD SVG 1.1//EN\"\n",
       " \"http://www.w3.org/Graphics/SVG/1.1/DTD/svg11.dtd\">\n",
       "<!-- Generated by graphviz version 12.1.0 (20240811.2233)\n",
       " -->\n",
       "<!-- Title: Tree Pages: 1 -->\n",
       "<svg width=\"925pt\" height=\"459pt\"\n",
       " viewBox=\"0.00 0.00 925.00 459.00\" xmlns=\"http://www.w3.org/2000/svg\" xmlns:xlink=\"http://www.w3.org/1999/xlink\">\n",
       "<g id=\"graph0\" class=\"graph\" transform=\"scale(1 1) rotate(0) translate(4 455)\">\n",
       "<title>Tree</title>\n",
       "<polygon fill=\"white\" stroke=\"none\" points=\"-4,4 -4,-455 921,-455 921,4 -4,4\"/>\n",
       "<!-- 0 -->\n",
       "<g id=\"node1\" class=\"node\">\n",
       "<title>0</title>\n",
       "<path fill=\"#fffdfc\" stroke=\"black\" d=\"M148,-265.88C148,-265.88 12,-265.88 12,-265.88 6,-265.88 0,-259.88 0,-253.88 0,-253.88 0,-191.12 0,-191.12 0,-185.12 6,-179.12 12,-179.12 12,-179.12 148,-179.12 148,-179.12 154,-179.12 160,-185.12 160,-191.12 160,-191.12 160,-253.88 160,-253.88 160,-259.88 154,-265.88 148,-265.88\"/>\n",
       "<text text-anchor=\"middle\" x=\"80\" y=\"-248.57\" font-family=\"Helvetica,sans-Serif\" font-size=\"14.00\">petal length (cm) &lt;= 2.7</text>\n",
       "<text text-anchor=\"middle\" x=\"80\" y=\"-232.82\" font-family=\"Helvetica,sans-Serif\" font-size=\"14.00\">gini = 0.667</text>\n",
       "<text text-anchor=\"middle\" x=\"80\" y=\"-217.07\" font-family=\"Helvetica,sans-Serif\" font-size=\"14.00\">samples = 112</text>\n",
       "<text text-anchor=\"middle\" x=\"80\" y=\"-201.32\" font-family=\"Helvetica,sans-Serif\" font-size=\"14.00\">value = [38, 37, 37]</text>\n",
       "<text text-anchor=\"middle\" x=\"80\" y=\"-185.57\" font-family=\"Helvetica,sans-Serif\" font-size=\"14.00\">class = setosa</text>\n",
       "</g>\n",
       "<!-- 1 -->\n",
       "<g id=\"node2\" class=\"node\">\n",
       "<title>1</title>\n",
       "<path fill=\"#e58139\" stroke=\"black\" d=\"M323.38,-307C323.38,-307 230.88,-307 230.88,-307 224.88,-307 218.88,-301 218.88,-295 218.88,-295 218.88,-248 218.88,-248 218.88,-242 224.88,-236 230.88,-236 230.88,-236 323.38,-236 323.38,-236 329.38,-236 335.38,-242 335.38,-248 335.38,-248 335.38,-295 335.38,-295 335.38,-301 329.38,-307 323.38,-307\"/>\n",
       "<text text-anchor=\"middle\" x=\"277.12\" y=\"-289.7\" font-family=\"Helvetica,sans-Serif\" font-size=\"14.00\">gini = 0.0</text>\n",
       "<text text-anchor=\"middle\" x=\"277.12\" y=\"-273.95\" font-family=\"Helvetica,sans-Serif\" font-size=\"14.00\">samples = 38</text>\n",
       "<text text-anchor=\"middle\" x=\"277.12\" y=\"-258.2\" font-family=\"Helvetica,sans-Serif\" font-size=\"14.00\">value = [38, 0, 0]</text>\n",
       "<text text-anchor=\"middle\" x=\"277.12\" y=\"-242.45\" font-family=\"Helvetica,sans-Serif\" font-size=\"14.00\">class = setosa</text>\n",
       "</g>\n",
       "<!-- 0&#45;&gt;1 -->\n",
       "<g id=\"edge1\" class=\"edge\">\n",
       "<title>0&#45;&gt;1</title>\n",
       "<path fill=\"none\" stroke=\"black\" d=\"M160.36,-242.43C176.07,-246.37 192.43,-250.48 207.74,-254.33\"/>\n",
       "<polygon fill=\"black\" stroke=\"black\" points=\"206.65,-257.66 217.2,-256.7 208.35,-250.87 206.65,-257.66\"/>\n",
       "<text text-anchor=\"middle\" x=\"197.22\" y=\"-264.49\" font-family=\"Helvetica,sans-Serif\" font-size=\"14.00\">True</text>\n",
       "</g>\n",
       "<!-- 2 -->\n",
       "<g id=\"node3\" class=\"node\">\n",
       "<title>2</title>\n",
       "<path fill=\"#ffffff\" stroke=\"black\" d=\"M346.25,-217.88C346.25,-217.88 208,-217.88 208,-217.88 202,-217.88 196,-211.88 196,-205.88 196,-205.88 196,-143.12 196,-143.12 196,-137.12 202,-131.12 208,-131.12 208,-131.12 346.25,-131.12 346.25,-131.12 352.25,-131.12 358.25,-137.12 358.25,-143.12 358.25,-143.12 358.25,-205.88 358.25,-205.88 358.25,-211.88 352.25,-217.88 346.25,-217.88\"/>\n",
       "<text text-anchor=\"middle\" x=\"277.12\" y=\"-200.57\" font-family=\"Helvetica,sans-Serif\" font-size=\"14.00\">petal width (cm) &lt;= 1.75</text>\n",
       "<text text-anchor=\"middle\" x=\"277.12\" y=\"-184.82\" font-family=\"Helvetica,sans-Serif\" font-size=\"14.00\">gini = 0.5</text>\n",
       "<text text-anchor=\"middle\" x=\"277.12\" y=\"-169.07\" font-family=\"Helvetica,sans-Serif\" font-size=\"14.00\">samples = 74</text>\n",
       "<text text-anchor=\"middle\" x=\"277.12\" y=\"-153.32\" font-family=\"Helvetica,sans-Serif\" font-size=\"14.00\">value = [0, 37, 37]</text>\n",
       "<text text-anchor=\"middle\" x=\"277.12\" y=\"-137.57\" font-family=\"Helvetica,sans-Serif\" font-size=\"14.00\">class = versicolor</text>\n",
       "</g>\n",
       "<!-- 0&#45;&gt;2 -->\n",
       "<g id=\"edge2\" class=\"edge\">\n",
       "<title>0&#45;&gt;2</title>\n",
       "<path fill=\"none\" stroke=\"black\" d=\"M160.36,-202.98C168.34,-201.01 176.49,-199.01 184.58,-197.02\"/>\n",
       "<polygon fill=\"black\" stroke=\"black\" points=\"185.22,-200.47 194.09,-194.68 183.55,-193.67 185.22,-200.47\"/>\n",
       "<text text-anchor=\"middle\" x=\"174.17\" y=\"-175.95\" font-family=\"Helvetica,sans-Serif\" font-size=\"14.00\">False</text>\n",
       "</g>\n",
       "<!-- 3 -->\n",
       "<g id=\"node4\" class=\"node\">\n",
       "<title>3</title>\n",
       "<path fill=\"#54e992\" stroke=\"black\" d=\"M549.75,-270.88C549.75,-270.88 406.25,-270.88 406.25,-270.88 400.25,-270.88 394.25,-264.88 394.25,-258.88 394.25,-258.88 394.25,-196.12 394.25,-196.12 394.25,-190.12 400.25,-184.12 406.25,-184.12 406.25,-184.12 549.75,-184.12 549.75,-184.12 555.75,-184.12 561.75,-190.12 561.75,-196.12 561.75,-196.12 561.75,-258.88 561.75,-258.88 561.75,-264.88 555.75,-270.88 549.75,-270.88\"/>\n",
       "<text text-anchor=\"middle\" x=\"478\" y=\"-253.57\" font-family=\"Helvetica,sans-Serif\" font-size=\"14.00\">petal length (cm) &lt;= 4.95</text>\n",
       "<text text-anchor=\"middle\" x=\"478\" y=\"-237.82\" font-family=\"Helvetica,sans-Serif\" font-size=\"14.00\">gini = 0.214</text>\n",
       "<text text-anchor=\"middle\" x=\"478\" y=\"-222.07\" font-family=\"Helvetica,sans-Serif\" font-size=\"14.00\">samples = 41</text>\n",
       "<text text-anchor=\"middle\" x=\"478\" y=\"-206.32\" font-family=\"Helvetica,sans-Serif\" font-size=\"14.00\">value = [0, 36, 5]</text>\n",
       "<text text-anchor=\"middle\" x=\"478\" y=\"-190.57\" font-family=\"Helvetica,sans-Serif\" font-size=\"14.00\">class = versicolor</text>\n",
       "</g>\n",
       "<!-- 2&#45;&gt;3 -->\n",
       "<g id=\"edge3\" class=\"edge\">\n",
       "<title>2&#45;&gt;3</title>\n",
       "<path fill=\"none\" stroke=\"black\" d=\"M358.73,-195.98C366.72,-198.11 374.89,-200.29 383,-202.45\"/>\n",
       "<polygon fill=\"black\" stroke=\"black\" points=\"381.99,-205.8 392.55,-205 383.79,-199.04 381.99,-205.8\"/>\n",
       "</g>\n",
       "<!-- 10 -->\n",
       "<g id=\"node11\" class=\"node\">\n",
       "<title>10</title>\n",
       "<path fill=\"#853fe6\" stroke=\"black\" d=\"M549.75,-165.88C549.75,-165.88 406.25,-165.88 406.25,-165.88 400.25,-165.88 394.25,-159.88 394.25,-153.88 394.25,-153.88 394.25,-91.12 394.25,-91.12 394.25,-85.12 400.25,-79.12 406.25,-79.12 406.25,-79.12 549.75,-79.12 549.75,-79.12 555.75,-79.12 561.75,-85.12 561.75,-91.12 561.75,-91.12 561.75,-153.88 561.75,-153.88 561.75,-159.88 555.75,-165.88 549.75,-165.88\"/>\n",
       "<text text-anchor=\"middle\" x=\"478\" y=\"-148.57\" font-family=\"Helvetica,sans-Serif\" font-size=\"14.00\">petal length (cm) &lt;= 4.85</text>\n",
       "<text text-anchor=\"middle\" x=\"478\" y=\"-132.82\" font-family=\"Helvetica,sans-Serif\" font-size=\"14.00\">gini = 0.059</text>\n",
       "<text text-anchor=\"middle\" x=\"478\" y=\"-117.08\" font-family=\"Helvetica,sans-Serif\" font-size=\"14.00\">samples = 33</text>\n",
       "<text text-anchor=\"middle\" x=\"478\" y=\"-101.33\" font-family=\"Helvetica,sans-Serif\" font-size=\"14.00\">value = [0, 1, 32]</text>\n",
       "<text text-anchor=\"middle\" x=\"478\" y=\"-85.58\" font-family=\"Helvetica,sans-Serif\" font-size=\"14.00\">class = verginica</text>\n",
       "</g>\n",
       "<!-- 2&#45;&gt;10 -->\n",
       "<g id=\"edge10\" class=\"edge\">\n",
       "<title>2&#45;&gt;10</title>\n",
       "<path fill=\"none\" stroke=\"black\" d=\"M358.73,-153.42C366.72,-151.33 374.89,-149.2 383,-147.08\"/>\n",
       "<polygon fill=\"black\" stroke=\"black\" points=\"383.76,-150.5 392.55,-144.58 381.99,-143.72 383.76,-150.5\"/>\n",
       "</g>\n",
       "<!-- 4 -->\n",
       "<g id=\"node5\" class=\"node\">\n",
       "<title>4</title>\n",
       "<path fill=\"#3fe685\" stroke=\"black\" d=\"M748.75,-373.88C748.75,-373.88 609.75,-373.88 609.75,-373.88 603.75,-373.88 597.75,-367.88 597.75,-361.88 597.75,-361.88 597.75,-299.12 597.75,-299.12 597.75,-293.12 603.75,-287.12 609.75,-287.12 609.75,-287.12 748.75,-287.12 748.75,-287.12 754.75,-287.12 760.75,-293.12 760.75,-299.12 760.75,-299.12 760.75,-361.88 760.75,-361.88 760.75,-367.88 754.75,-373.88 748.75,-373.88\"/>\n",
       "<text text-anchor=\"middle\" x=\"679.25\" y=\"-356.57\" font-family=\"Helvetica,sans-Serif\" font-size=\"14.00\">sepal length (cm) &lt;= 5.1</text>\n",
       "<text text-anchor=\"middle\" x=\"679.25\" y=\"-340.82\" font-family=\"Helvetica,sans-Serif\" font-size=\"14.00\">gini = 0.056</text>\n",
       "<text text-anchor=\"middle\" x=\"679.25\" y=\"-325.07\" font-family=\"Helvetica,sans-Serif\" font-size=\"14.00\">samples = 35</text>\n",
       "<text text-anchor=\"middle\" x=\"679.25\" y=\"-309.32\" font-family=\"Helvetica,sans-Serif\" font-size=\"14.00\">value = [0, 34, 1]</text>\n",
       "<text text-anchor=\"middle\" x=\"679.25\" y=\"-293.57\" font-family=\"Helvetica,sans-Serif\" font-size=\"14.00\">class = versicolor</text>\n",
       "</g>\n",
       "<!-- 3&#45;&gt;4 -->\n",
       "<g id=\"edge4\" class=\"edge\">\n",
       "<title>3&#45;&gt;4</title>\n",
       "<path fill=\"none\" stroke=\"black\" d=\"M562.06,-270.44C570.41,-274.75 578.92,-279.15 587.34,-283.51\"/>\n",
       "<polygon fill=\"black\" stroke=\"black\" points=\"585.73,-286.61 596.22,-288.1 588.94,-280.39 585.73,-286.61\"/>\n",
       "</g>\n",
       "<!-- 7 -->\n",
       "<g id=\"node8\" class=\"node\">\n",
       "<title>7</title>\n",
       "<path fill=\"#c09cf2\" stroke=\"black\" d=\"M748.38,-268.88C748.38,-268.88 610.12,-268.88 610.12,-268.88 604.12,-268.88 598.12,-262.88 598.12,-256.88 598.12,-256.88 598.12,-194.12 598.12,-194.12 598.12,-188.12 604.12,-182.12 610.12,-182.12 610.12,-182.12 748.38,-182.12 748.38,-182.12 754.38,-182.12 760.38,-188.12 760.38,-194.12 760.38,-194.12 760.38,-256.88 760.38,-256.88 760.38,-262.88 754.38,-268.88 748.38,-268.88\"/>\n",
       "<text text-anchor=\"middle\" x=\"679.25\" y=\"-251.57\" font-family=\"Helvetica,sans-Serif\" font-size=\"14.00\">petal width (cm) &lt;= 1.55</text>\n",
       "<text text-anchor=\"middle\" x=\"679.25\" y=\"-235.82\" font-family=\"Helvetica,sans-Serif\" font-size=\"14.00\">gini = 0.444</text>\n",
       "<text text-anchor=\"middle\" x=\"679.25\" y=\"-220.07\" font-family=\"Helvetica,sans-Serif\" font-size=\"14.00\">samples = 6</text>\n",
       "<text text-anchor=\"middle\" x=\"679.25\" y=\"-204.32\" font-family=\"Helvetica,sans-Serif\" font-size=\"14.00\">value = [0, 2, 4]</text>\n",
       "<text text-anchor=\"middle\" x=\"679.25\" y=\"-188.57\" font-family=\"Helvetica,sans-Serif\" font-size=\"14.00\">class = verginica</text>\n",
       "</g>\n",
       "<!-- 3&#45;&gt;7 -->\n",
       "<g id=\"edge7\" class=\"edge\">\n",
       "<title>3&#45;&gt;7</title>\n",
       "<path fill=\"none\" stroke=\"black\" d=\"M562.06,-226.67C570.11,-226.59 578.32,-226.5 586.45,-226.42\"/>\n",
       "<polygon fill=\"black\" stroke=\"black\" points=\"586.41,-229.92 596.37,-226.32 586.34,-222.92 586.41,-229.92\"/>\n",
       "</g>\n",
       "<!-- 5 -->\n",
       "<g id=\"node6\" class=\"node\">\n",
       "<title>5</title>\n",
       "<path fill=\"#ffffff\" stroke=\"black\" d=\"M905,-451C905,-451 808.75,-451 808.75,-451 802.75,-451 796.75,-445 796.75,-439 796.75,-439 796.75,-392 796.75,-392 796.75,-386 802.75,-380 808.75,-380 808.75,-380 905,-380 905,-380 911,-380 917,-386 917,-392 917,-392 917,-439 917,-439 917,-445 911,-451 905,-451\"/>\n",
       "<text text-anchor=\"middle\" x=\"856.88\" y=\"-433.7\" font-family=\"Helvetica,sans-Serif\" font-size=\"14.00\">gini = 0.5</text>\n",
       "<text text-anchor=\"middle\" x=\"856.88\" y=\"-417.95\" font-family=\"Helvetica,sans-Serif\" font-size=\"14.00\">samples = 2</text>\n",
       "<text text-anchor=\"middle\" x=\"856.88\" y=\"-402.2\" font-family=\"Helvetica,sans-Serif\" font-size=\"14.00\">value = [0, 1, 1]</text>\n",
       "<text text-anchor=\"middle\" x=\"856.88\" y=\"-386.45\" font-family=\"Helvetica,sans-Serif\" font-size=\"14.00\">class = versicolor</text>\n",
       "</g>\n",
       "<!-- 4&#45;&gt;5 -->\n",
       "<g id=\"edge5\" class=\"edge\">\n",
       "<title>4&#45;&gt;5</title>\n",
       "<path fill=\"none\" stroke=\"black\" d=\"M761.12,-369.64C769.48,-373.69 777.92,-377.77 786.14,-381.75\"/>\n",
       "<polygon fill=\"black\" stroke=\"black\" points=\"784.52,-384.85 795.04,-386.06 787.57,-378.55 784.52,-384.85\"/>\n",
       "</g>\n",
       "<!-- 6 -->\n",
       "<g id=\"node7\" class=\"node\">\n",
       "<title>6</title>\n",
       "<path fill=\"#39e581\" stroke=\"black\" d=\"M905,-362C905,-362 808.75,-362 808.75,-362 802.75,-362 796.75,-356 796.75,-350 796.75,-350 796.75,-303 796.75,-303 796.75,-297 802.75,-291 808.75,-291 808.75,-291 905,-291 905,-291 911,-291 917,-297 917,-303 917,-303 917,-350 917,-350 917,-356 911,-362 905,-362\"/>\n",
       "<text text-anchor=\"middle\" x=\"856.88\" y=\"-344.7\" font-family=\"Helvetica,sans-Serif\" font-size=\"14.00\">gini = 0.0</text>\n",
       "<text text-anchor=\"middle\" x=\"856.88\" y=\"-328.95\" font-family=\"Helvetica,sans-Serif\" font-size=\"14.00\">samples = 33</text>\n",
       "<text text-anchor=\"middle\" x=\"856.88\" y=\"-313.2\" font-family=\"Helvetica,sans-Serif\" font-size=\"14.00\">value = [0, 33, 0]</text>\n",
       "<text text-anchor=\"middle\" x=\"856.88\" y=\"-297.45\" font-family=\"Helvetica,sans-Serif\" font-size=\"14.00\">class = versicolor</text>\n",
       "</g>\n",
       "<!-- 4&#45;&gt;6 -->\n",
       "<g id=\"edge6\" class=\"edge\">\n",
       "<title>4&#45;&gt;6</title>\n",
       "<path fill=\"none\" stroke=\"black\" d=\"M761.12,-328.66C769.11,-328.48 777.17,-328.29 785.04,-328.11\"/>\n",
       "<polygon fill=\"black\" stroke=\"black\" points=\"784.98,-331.62 794.89,-327.89 784.82,-324.62 784.98,-331.62\"/>\n",
       "</g>\n",
       "<!-- 8 -->\n",
       "<g id=\"node9\" class=\"node\">\n",
       "<title>8</title>\n",
       "<path fill=\"#8139e5\" stroke=\"black\" d=\"M903.12,-265C903.12,-265 810.62,-265 810.62,-265 804.62,-265 798.62,-259 798.62,-253 798.62,-253 798.62,-206 798.62,-206 798.62,-200 804.62,-194 810.62,-194 810.62,-194 903.12,-194 903.12,-194 909.12,-194 915.12,-200 915.12,-206 915.12,-206 915.12,-253 915.12,-253 915.12,-259 909.12,-265 903.12,-265\"/>\n",
       "<text text-anchor=\"middle\" x=\"856.88\" y=\"-247.7\" font-family=\"Helvetica,sans-Serif\" font-size=\"14.00\">gini = 0.0</text>\n",
       "<text text-anchor=\"middle\" x=\"856.88\" y=\"-231.95\" font-family=\"Helvetica,sans-Serif\" font-size=\"14.00\">samples = 3</text>\n",
       "<text text-anchor=\"middle\" x=\"856.88\" y=\"-216.2\" font-family=\"Helvetica,sans-Serif\" font-size=\"14.00\">value = [0, 0, 3]</text>\n",
       "<text text-anchor=\"middle\" x=\"856.88\" y=\"-200.45\" font-family=\"Helvetica,sans-Serif\" font-size=\"14.00\">class = verginica</text>\n",
       "</g>\n",
       "<!-- 7&#45;&gt;8 -->\n",
       "<g id=\"edge8\" class=\"edge\">\n",
       "<title>7&#45;&gt;8</title>\n",
       "<path fill=\"none\" stroke=\"black\" d=\"M760.87,-227.34C769.55,-227.53 778.32,-227.73 786.84,-227.93\"/>\n",
       "<polygon fill=\"black\" stroke=\"black\" points=\"786.69,-231.43 796.77,-228.15 786.85,-224.43 786.69,-231.43\"/>\n",
       "</g>\n",
       "<!-- 9 -->\n",
       "<g id=\"node10\" class=\"node\">\n",
       "<title>9</title>\n",
       "<path fill=\"#9cf2c0\" stroke=\"black\" d=\"M905,-176C905,-176 808.75,-176 808.75,-176 802.75,-176 796.75,-170 796.75,-164 796.75,-164 796.75,-117 796.75,-117 796.75,-111 802.75,-105 808.75,-105 808.75,-105 905,-105 905,-105 911,-105 917,-111 917,-117 917,-117 917,-164 917,-164 917,-170 911,-176 905,-176\"/>\n",
       "<text text-anchor=\"middle\" x=\"856.88\" y=\"-158.7\" font-family=\"Helvetica,sans-Serif\" font-size=\"14.00\">gini = 0.444</text>\n",
       "<text text-anchor=\"middle\" x=\"856.88\" y=\"-142.95\" font-family=\"Helvetica,sans-Serif\" font-size=\"14.00\">samples = 3</text>\n",
       "<text text-anchor=\"middle\" x=\"856.88\" y=\"-127.2\" font-family=\"Helvetica,sans-Serif\" font-size=\"14.00\">value = [0, 2, 1]</text>\n",
       "<text text-anchor=\"middle\" x=\"856.88\" y=\"-111.45\" font-family=\"Helvetica,sans-Serif\" font-size=\"14.00\">class = versicolor</text>\n",
       "</g>\n",
       "<!-- 7&#45;&gt;9 -->\n",
       "<g id=\"edge9\" class=\"edge\">\n",
       "<title>7&#45;&gt;9</title>\n",
       "<path fill=\"none\" stroke=\"black\" d=\"M760.87,-186.48C769.39,-182.36 778.01,-178.19 786.39,-174.13\"/>\n",
       "<polygon fill=\"black\" stroke=\"black\" points=\"787.64,-177.41 795.12,-169.9 784.6,-171.11 787.64,-177.41\"/>\n",
       "</g>\n",
       "<!-- 11 -->\n",
       "<g id=\"node12\" class=\"node\">\n",
       "<title>11</title>\n",
       "<path fill=\"#ffffff\" stroke=\"black\" d=\"M727.38,-160C727.38,-160 631.12,-160 631.12,-160 625.12,-160 619.12,-154 619.12,-148 619.12,-148 619.12,-101 619.12,-101 619.12,-95 625.12,-89 631.12,-89 631.12,-89 727.38,-89 727.38,-89 733.38,-89 739.38,-95 739.38,-101 739.38,-101 739.38,-148 739.38,-148 739.38,-154 733.38,-160 727.38,-160\"/>\n",
       "<text text-anchor=\"middle\" x=\"679.25\" y=\"-142.7\" font-family=\"Helvetica,sans-Serif\" font-size=\"14.00\">gini = 0.5</text>\n",
       "<text text-anchor=\"middle\" x=\"679.25\" y=\"-126.95\" font-family=\"Helvetica,sans-Serif\" font-size=\"14.00\">samples = 2</text>\n",
       "<text text-anchor=\"middle\" x=\"679.25\" y=\"-111.2\" font-family=\"Helvetica,sans-Serif\" font-size=\"14.00\">value = [0, 1, 1]</text>\n",
       "<text text-anchor=\"middle\" x=\"679.25\" y=\"-95.45\" font-family=\"Helvetica,sans-Serif\" font-size=\"14.00\">class = versicolor</text>\n",
       "</g>\n",
       "<!-- 10&#45;&gt;11 -->\n",
       "<g id=\"edge11\" class=\"edge\">\n",
       "<title>10&#45;&gt;11</title>\n",
       "<path fill=\"none\" stroke=\"black\" d=\"M562.06,-123.33C577.05,-123.48 592.57,-123.64 607.19,-123.79\"/>\n",
       "<polygon fill=\"black\" stroke=\"black\" points=\"607.14,-127.29 617.18,-123.89 607.21,-120.29 607.14,-127.29\"/>\n",
       "</g>\n",
       "<!-- 12 -->\n",
       "<g id=\"node13\" class=\"node\">\n",
       "<title>12</title>\n",
       "<path fill=\"#8139e5\" stroke=\"black\" d=\"M725.5,-71C725.5,-71 633,-71 633,-71 627,-71 621,-65 621,-59 621,-59 621,-12 621,-12 621,-6 627,0 633,0 633,0 725.5,0 725.5,0 731.5,0 737.5,-6 737.5,-12 737.5,-12 737.5,-59 737.5,-59 737.5,-65 731.5,-71 725.5,-71\"/>\n",
       "<text text-anchor=\"middle\" x=\"679.25\" y=\"-53.7\" font-family=\"Helvetica,sans-Serif\" font-size=\"14.00\">gini = 0.0</text>\n",
       "<text text-anchor=\"middle\" x=\"679.25\" y=\"-37.95\" font-family=\"Helvetica,sans-Serif\" font-size=\"14.00\">samples = 31</text>\n",
       "<text text-anchor=\"middle\" x=\"679.25\" y=\"-22.2\" font-family=\"Helvetica,sans-Serif\" font-size=\"14.00\">value = [0, 0, 31]</text>\n",
       "<text text-anchor=\"middle\" x=\"679.25\" y=\"-6.45\" font-family=\"Helvetica,sans-Serif\" font-size=\"14.00\">class = verginica</text>\n",
       "</g>\n",
       "<!-- 10&#45;&gt;12 -->\n",
       "<g id=\"edge12\" class=\"edge\">\n",
       "<title>10&#45;&gt;12</title>\n",
       "<path fill=\"none\" stroke=\"black\" d=\"M562.06,-86.23C578.11,-79.23 594.75,-71.96 610.25,-65.19\"/>\n",
       "<polygon fill=\"black\" stroke=\"black\" points=\"611.63,-68.41 619.39,-61.2 608.83,-61.99 611.63,-68.41\"/>\n",
       "</g>\n",
       "</g>\n",
       "</svg>\n"
      ],
      "text/plain": [
       "<graphviz.sources.Source at 0x1909feb1160>"
      ]
     },
     "execution_count": 59,
     "metadata": {},
     "output_type": "execute_result"
    }
   ],
   "source": [
    "## (2) dot파일 출력\n",
    "import graphviz\n",
    "# 파일에서 데이터 읽어오기\n",
    "with open('tree.dot') as f:\n",
    "    dot_data=f.read()\n",
    "# 화면에 출력하기\n",
    "graphviz.Source(dot_data)"
   ]
  },
  {
   "cell_type": "markdown",
   "metadata": {},
   "source": [
    "[6] 세로운 데이터 예측"
   ]
  },
  {
   "cell_type": "code",
   "execution_count": 61,
   "metadata": {},
   "outputs": [
    {
     "data": {
      "text/plain": [
       "(1, 4)"
      ]
     },
     "execution_count": 61,
     "metadata": {},
     "output_type": "execute_result"
    }
   ],
   "source": [
    "new_data=featureDF.iloc[:1]+0.21\n",
    "new_data.shape"
   ]
  },
  {
   "cell_type": "code",
   "execution_count": 62,
   "metadata": {},
   "outputs": [
    {
     "data": {
      "text/plain": [
       "array([0])"
      ]
     },
     "execution_count": 62,
     "metadata": {},
     "output_type": "execute_result"
    }
   ],
   "source": [
    "best_model.predict(new_data)"
   ]
  },
  {
   "cell_type": "code",
   "execution_count": 63,
   "metadata": {},
   "outputs": [
    {
     "data": {
      "text/plain": [
       "array([[1., 0., 0.]])"
      ]
     },
     "execution_count": 63,
     "metadata": {},
     "output_type": "execute_result"
    }
   ],
   "source": [
    "best_model.predict_proba(new_data)"
   ]
  },
  {
   "cell_type": "code",
   "execution_count": null,
   "metadata": {},
   "outputs": [],
   "source": []
  }
 ],
 "metadata": {
  "kernelspec": {
   "display_name": "Python 3",
   "language": "python",
   "name": "python3"
  },
  "language_info": {
   "codemirror_mode": {
    "name": "ipython",
    "version": 3
   },
   "file_extension": ".py",
   "mimetype": "text/x-python",
   "name": "python",
   "nbconvert_exporter": "python",
   "pygments_lexer": "ipython3",
   "version": "3.8.19"
  }
 },
 "nbformat": 4,
 "nbformat_minor": 2
}
