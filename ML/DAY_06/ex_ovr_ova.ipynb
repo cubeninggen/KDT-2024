{
 "cells": [
  {
   "cell_type": "markdown",
   "metadata": {},
   "source": [
    "### 다중분류\n",
    "OvR / OvA (one vs Rest/ One vs All) 분류  \n",
    "\n",
    "OvA  \n",
    "\n",
    "[0,1,2,3,4] 5개 분류 => 2진분류기 5개  \n",
    "0 -> 0 vs [1,2,3,4] -> 2진분류 -> 0일확률  \n",
    "1 -> 1 vs [0,2,3,4] -> 2진분류 -> 1일확률  \n",
    "2 -> 2 vs [1,0,3,4] -> 2진분류 -> 2일확률  \n",
    "3 -> 3 vs [1,2,0,4] -> 2진분류 -> 3일확률  \n",
    "4 -> 4 vs [1,2,3,0] -> 2진분류 -> 4일확률   \n",
    "=> $ _nP_2 $ 번 분류"
   ]
  },
  {
   "cell_type": "markdown",
   "metadata": {},
   "source": [
    "OvO (One vs One) 분류  \n",
    "\n",
    "0 -> (0 vs 1) (0 vs 2) (0 vs 3) (0 vs 4)  \n",
    "1 -> (1 vs 2) (1 vs 3) (1 vs 3)    \n",
    "2 -> (2 vs 3) (2 vs 4)  \n",
    "3 -> (3 vs 4)  \n",
    " => $ _nC_2 번 분류$"
   ]
  },
  {
   "cell_type": "markdown",
   "metadata": {},
   "source": [
    "### 다중분류를 위한 OvR(OvA)\n",
    "- 분류 클래스 수 만큼 2진 분류기를 생성하여 다중 분류를 진행"
   ]
  },
  {
   "cell_type": "code",
   "execution_count": 49,
   "metadata": {},
   "outputs": [],
   "source": [
    "### 모듈로딩\n",
    "from sklearn.datasets import load_digits\n",
    "from sklearn.model_selection import train_test_split\n",
    "\n",
    "import pandas as pd\n",
    "import numpy as np\n",
    "\n",
    "# 판다스, 넘파이에 지수표기법 (과학적 표기법) 정지 설정\n",
    "pd.options.display.float_format='{:.5f}'.format\n",
    "np.set_printoptions(precision=5, suppress=True)\n",
    "\n"
   ]
  },
  {
   "cell_type": "markdown",
   "metadata": {},
   "source": [
    "- 데이터셋 load_digits\n",
    "    - 내장 데이터셋\n",
    "    - 이미지 데이터셋 => 8*8 크기 이미지 ==> 1D로 64개피쳐\n",
    "    - 이미지 라벨/타겟 => 숫자 0~9까지 즉, 총 10개 클래스\n",
    "    - 흑백이미지"
   ]
  },
  {
   "cell_type": "code",
   "execution_count": 50,
   "metadata": {},
   "outputs": [
    {
     "name": "stdout",
     "output_type": "stream",
     "text": [
      "(1797, 64) 2 (1797,) 1\n"
     ]
    }
   ],
   "source": [
    "# 데이터 로딩\n",
    "featureDF, targetSR =load_digits(as_frame=True,return_X_y=True)\n",
    "\n",
    "# 이미지 픽셀 : 0~255 범위\n",
    "featureDF=featureDF/255 \n",
    "\n",
    "print(featureDF.shape,featureDF.ndim,targetSR.shape,targetSR.ndim)"
   ]
  },
  {
   "cell_type": "code",
   "execution_count": 51,
   "metadata": {},
   "outputs": [
    {
     "data": {
      "text/plain": [
       "(   pixel_0_0  pixel_0_1  pixel_0_2  pixel_0_3  pixel_0_4  pixel_0_5  \\\n",
       " 0    0.00000    0.00000    0.01961    0.05098    0.03529    0.00392   \n",
       " \n",
       "    pixel_0_6  pixel_0_7  pixel_1_0  pixel_1_1  ...  pixel_6_6  pixel_6_7  \\\n",
       " 0    0.00000    0.00000    0.00000    0.00000  ...    0.00000    0.00000   \n",
       " \n",
       "    pixel_7_0  pixel_7_1  pixel_7_2  pixel_7_3  pixel_7_4  pixel_7_5  \\\n",
       " 0    0.00000    0.00000    0.02353    0.05098    0.03922    0.00000   \n",
       " \n",
       "    pixel_7_6  pixel_7_7  \n",
       " 0    0.00000    0.00000  \n",
       " \n",
       " [1 rows x 64 columns],\n",
       " 0    0\n",
       " 1    1\n",
       " 2    2\n",
       " 3    3\n",
       " 4    4\n",
       " Name: target, dtype: int32)"
      ]
     },
     "execution_count": 51,
     "metadata": {},
     "output_type": "execute_result"
    }
   ],
   "source": [
    "featureDF.head(1),targetSR.head()"
   ]
  },
  {
   "cell_type": "code",
   "execution_count": null,
   "metadata": {},
   "outputs": [],
   "source": []
  },
  {
   "cell_type": "code",
   "execution_count": 52,
   "metadata": {},
   "outputs": [
    {
     "data": {
      "text/plain": [
       "(8, 8)"
      ]
     },
     "execution_count": 52,
     "metadata": {},
     "output_type": "execute_result"
    }
   ],
   "source": [
    "## 이미지 데이터 시각화\n",
    "import matplotlib.pyplot as plt\n",
    "\n",
    "imgDATA=featureDF.iloc[0].to_numpy().reshape(-1,8)\n",
    "imgDATA.shape"
   ]
  },
  {
   "cell_type": "code",
   "execution_count": 53,
   "metadata": {},
   "outputs": [
    {
     "data": {
      "image/png": "[encoded data removed]",
      "text/plain": [
       "<Figure size 640x480 with 1 Axes>"
      ]
     },
     "metadata": {},
     "output_type": "display_data"
    }
   ],
   "source": [
    "plt.imshow(imgDATA,cmap='binary')\n",
    "plt.title(f'[IMAGE {targetSR[0]}]')\n",
    "plt.show()"
   ]
  },
  {
   "cell_type": "markdown",
   "metadata": {},
   "source": [
    "- 학습용 데이터셋 준비 : trainDS, testDS"
   ]
  },
  {
   "cell_type": "code",
   "execution_count": 54,
   "metadata": {},
   "outputs": [],
   "source": [
    "X_train,X_test,y_train,y_test=train_test_split(featureDF,targetSR,\n",
    "                                               stratify=targetSR,\n",
    "                                               random_state=10)"
   ]
  },
  {
   "cell_type": "markdown",
   "metadata": {},
   "source": [
    "- OvR(Over vs Rest) 또는 OvA(Over vs All)\n",
    "    - 클래스마다 이진 분류기 만들어서 가장 높은 결정점수 낸 클래스 선택"
   ]
  },
  {
   "cell_type": "code",
   "execution_count": 55,
   "metadata": {},
   "outputs": [
    {
     "data": {
      "text/html": [
       "<style>#sk-container-id-3 {color: black;}#sk-container-id-3 pre{padding: 0;}#sk-container-id-3 div.sk-toggleable {background-color: white;}#sk-container-id-3 label.sk-toggleable__label {cursor: pointer;display: block;width: 100%;margin-bottom: 0;padding: 0.3em;box-sizing: border-box;text-align: center;}#sk-container-id-3 label.sk-toggleable__label-arrow:before {content: \"▸\";float: left;margin-right: 0.25em;color: #696969;}#sk-container-id-3 label.sk-toggleable__label-arrow:hover:before {color: black;}#sk-container-id-3 div.sk-estimator:hover label.sk-toggleable__label-arrow:before {color: black;}#sk-container-id-3 div.sk-toggleable__content {max-height: 0;max-width: 0;overflow: hidden;text-align: left;background-color: #f0f8ff;}#sk-container-id-3 div.sk-toggleable__content pre {margin: 0.2em;color: black;border-radius: 0.25em;background-color: #f0f8ff;}#sk-container-id-3 input.sk-toggleable__control:checked~div.sk-toggleable__content {max-height: 200px;max-width: 100%;overflow: auto;}#sk-container-id-3 input.sk-toggleable__control:checked~label.sk-toggleable__label-arrow:before {content: \"▾\";}#sk-container-id-3 div.sk-estimator input.sk-toggleable__control:checked~label.sk-toggleable__label {background-color: #d4ebff;}#sk-container-id-3 div.sk-label input.sk-toggleable__control:checked~label.sk-toggleable__label {background-color: #d4ebff;}#sk-container-id-3 input.sk-hidden--visually {border: 0;clip: rect(1px 1px 1px 1px);clip: rect(1px, 1px, 1px, 1px);height: 1px;margin: -1px;overflow: hidden;padding: 0;position: absolute;width: 1px;}#sk-container-id-3 div.sk-estimator {font-family: monospace;background-color: #f0f8ff;border: 1px dotted black;border-radius: 0.25em;box-sizing: border-box;margin-bottom: 0.5em;}#sk-container-id-3 div.sk-estimator:hover {background-color: #d4ebff;}#sk-container-id-3 div.sk-parallel-item::after {content: \"\";width: 100%;border-bottom: 1px solid gray;flex-grow: 1;}#sk-container-id-3 div.sk-label:hover label.sk-toggleable__label {background-color: #d4ebff;}#sk-container-id-3 div.sk-serial::before {content: \"\";position: absolute;border-left: 1px solid gray;box-sizing: border-box;top: 0;bottom: 0;left: 50%;z-index: 0;}#sk-container-id-3 div.sk-serial {display: flex;flex-direction: column;align-items: center;background-color: white;padding-right: 0.2em;padding-left: 0.2em;position: relative;}#sk-container-id-3 div.sk-item {position: relative;z-index: 1;}#sk-container-id-3 div.sk-parallel {display: flex;align-items: stretch;justify-content: center;background-color: white;position: relative;}#sk-container-id-3 div.sk-item::before, #sk-container-id-3 div.sk-parallel-item::before {content: \"\";position: absolute;border-left: 1px solid gray;box-sizing: border-box;top: 0;bottom: 0;left: 50%;z-index: -1;}#sk-container-id-3 div.sk-parallel-item {display: flex;flex-direction: column;z-index: 1;position: relative;background-color: white;}#sk-container-id-3 div.sk-parallel-item:first-child::after {align-self: flex-end;width: 50%;}#sk-container-id-3 div.sk-parallel-item:last-child::after {align-self: flex-start;width: 50%;}#sk-container-id-3 div.sk-parallel-item:only-child::after {width: 0;}#sk-container-id-3 div.sk-dashed-wrapped {border: 1px dashed gray;margin: 0 0.4em 0.5em 0.4em;box-sizing: border-box;padding-bottom: 0.4em;background-color: white;}#sk-container-id-3 div.sk-label label {font-family: monospace;font-weight: bold;display: inline-block;line-height: 1.2em;}#sk-container-id-3 div.sk-label-container {text-align: center;}#sk-container-id-3 div.sk-container {/* jupyter's `normalize.less` sets `[hidden] { display: none; }` but bootstrap.min.css set `[hidden] { display: none !important; }` so we also need the `!important` here to be able to override the default hidden behavior on the sphinx rendered scikit-learn.org. See: https://github.com/scikit-learn/scikit-learn/issues/21755 */display: inline-block !important;position: relative;}#sk-container-id-3 div.sk-text-repr-fallback {display: none;}</style><div id=\"sk-container-id-3\" class=\"sk-top-container\"><div class=\"sk-text-repr-fallback\"><pre>OneVsRestClassifier(estimator=LogisticRegression(max_iter=1000))</pre><b>In a Jupyter environment, please rerun this cell to show the HTML representation or trust the notebook. <br />On GitHub, the HTML representation is unable to render, please try loading this page with nbviewer.org.</b></div><div class=\"sk-container\" hidden><div class=\"sk-item sk-dashed-wrapped\"><div class=\"sk-label-container\"><div class=\"sk-label sk-toggleable\"><input class=\"sk-toggleable__control sk-hidden--visually\" id=\"sk-estimator-id-7\" type=\"checkbox\" ><label for=\"sk-estimator-id-7\" class=\"sk-toggleable__label sk-toggleable__label-arrow\">OneVsRestClassifier</label><div class=\"sk-toggleable__content\"><pre>OneVsRestClassifier(estimator=LogisticRegression(max_iter=1000))</pre></div></div></div><div class=\"sk-parallel\"><div class=\"sk-parallel-item\"><div class=\"sk-item\"><div class=\"sk-label-container\"><div class=\"sk-label sk-toggleable\"><input class=\"sk-toggleable__control sk-hidden--visually\" id=\"sk-estimator-id-8\" type=\"checkbox\" ><label for=\"sk-estimator-id-8\" class=\"sk-toggleable__label sk-toggleable__label-arrow\">estimator: LogisticRegression</label><div class=\"sk-toggleable__content\"><pre>LogisticRegression(max_iter=1000)</pre></div></div></div><div class=\"sk-serial\"><div class=\"sk-item\"><div class=\"sk-estimator sk-toggleable\"><input class=\"sk-toggleable__control sk-hidden--visually\" id=\"sk-estimator-id-9\" type=\"checkbox\" ><label for=\"sk-estimator-id-9\" class=\"sk-toggleable__label sk-toggleable__label-arrow\">LogisticRegression</label><div class=\"sk-toggleable__content\"><pre>LogisticRegression(max_iter=1000)</pre></div></div></div></div></div></div></div></div></div></div>"
      ],
      "text/plain": [
       "OneVsRestClassifier(estimator=LogisticRegression(max_iter=1000))"
      ]
     },
     "execution_count": 55,
     "metadata": {},
     "output_type": "execute_result"
    }
   ],
   "source": [
    "# 모듈로딩\n",
    "from sklearn.multiclass import OneVsRestClassifier\n",
    "from sklearn.linear_model import LogisticRegression\n",
    "\n",
    "ovr_clf=OneVsRestClassifier(LogisticRegression(max_iter=1000))\n",
    "ovr_clf.fit(X_train,y_train)\n"
   ]
  },
  {
   "cell_type": "code",
   "execution_count": 56,
   "metadata": {},
   "outputs": [
    {
     "name": "stdout",
     "output_type": "stream",
     "text": [
      "ovr_clf.estimators_ : 10개\n",
      "ovr_clf.xlasses_ : [0 1 2 3 4 5 6 7 8 9]\n",
      "ovr_clf.n_classes_ : 10\n",
      "ovr_clf.label_binarizer__ : LabelBinarizer(sparse_output=True)\n"
     ]
    }
   ],
   "source": [
    "print(f'ovr_clf.estimators_ : {len(ovr_clf.estimators_)}개')\n",
    "print(f'ovr_clf.xlasses_ : {ovr_clf.classes_}')\n",
    "print(f'ovr_clf.n_classes_ : {ovr_clf.n_classes_}')\n",
    "print(f'ovr_clf.label_binarizer__ : {ovr_clf.label_binarizer_}')\n",
    "      "
   ]
  },
  {
   "cell_type": "code",
   "execution_count": 57,
   "metadata": {},
   "outputs": [
    {
     "name": "stdout",
     "output_type": "stream",
     "text": [
      "[0분류기] [[ 0.      -0.11721 -0.36198  0.63799 -0.25952 -1.28004 -0.54955 -0.05154\n",
      "  -0.00249 -0.45077  0.87553  0.67567  0.76106  1.42182 -0.37271 -0.04791\n",
      "  -0.00088  0.48397  1.73526 -0.56666 -1.82795  2.02796  0.6807  -0.023\n",
      "  -0.00023  1.17167  1.43124 -2.77339 -4.06945  0.62179  1.75117 -0.00104\n",
      "   0.       1.44042  1.66074 -3.35467 -4.16838 -0.18203  1.70005  0.\n",
      "  -0.00623  0.7534   2.70398 -2.23501 -2.41565  1.07409  0.9191  -0.01273\n",
      "  -0.00192  0.02321  2.27842  0.39121  0.56934  1.80144 -0.65105 -0.07935\n",
      "  -0.00034 -0.11269 -0.54517  0.61515  0.57433 -0.67434 -0.77261 -0.13441]] [-2.29468]\n",
      "[1분류기] [[ 0.      -0.14307 -1.13222 -1.18068 -0.86601  0.16924 -0.19531 -0.0615\n",
      "  -0.00363 -0.88195 -2.79276  0.17626  1.54147  0.32276 -0.31992 -0.05406\n",
      "  -0.00115 -0.63731 -1.21465  3.46826  3.13347 -0.13582 -0.45273 -0.02665\n",
      "  -0.00055 -0.06865  0.07015  2.40062  1.5889  -0.631   -0.8095  -0.00121\n",
      "   0.      -0.55857 -0.2603   1.11372  1.28959 -1.55166 -1.11288  0.\n",
      "  -0.0062  -0.57725 -0.73136  1.11708  2.29409 -1.13735 -1.31249 -0.01579\n",
      "  -0.00237 -0.27604 -1.06552  0.60753  1.78865 -0.34083 -0.70133  0.21716\n",
      "  -0.00053 -0.13509 -1.4495  -1.29175  0.55302  1.0494   0.49139  0.56623]] [-2.36198]\n",
      "[2분류기] [[ 0.       0.28426  1.81257  0.82849 -0.9648  -1.51285 -0.50799 -0.04378\n",
      "   0.00269  1.34321  1.39568  0.12608  1.04821 -1.278   -0.601   -0.03364\n",
      "   0.00213  0.76072 -0.78141 -1.11793  1.77155 -0.82402 -0.45976 -0.01291\n",
      "  -0.00031 -0.66386 -3.09067 -2.123    0.75933 -1.12401 -0.75979 -0.00056\n",
      "   0.      -0.85533 -2.64632 -0.3032   0.10272 -2.6763  -1.22318  0.\n",
      "  -0.00343 -0.37669 -0.66931  2.0892  -0.03413 -2.60021 -1.14148 -0.0068\n",
      "   0.00977  0.31471  1.53357  2.07148  1.38598  0.86416  1.46436  0.20046\n",
      "   0.00346  0.32092  1.88075  0.59458  0.49106  2.03073  2.63938  0.72906]] [-2.25165]\n",
      "[3분류기] [[ 0.       0.11424  1.1359   0.97724  1.1636   0.80415 -0.24811 -0.05121\n",
      "   0.00291  0.98238  0.86478 -1.04786  0.40916  1.55656  0.13427 -0.03485\n",
      "   0.00214 -0.26927 -2.78974 -1.53407  2.09942  0.45057 -0.44859 -0.01721\n",
      "  -0.0002  -0.89927 -3.26682  0.05232  1.65517 -1.04801 -0.98225 -0.00068\n",
      "   0.      -0.84791 -2.58499 -1.44488  0.96782  1.19961 -0.30661  0.\n",
      "  -0.00287 -0.3883  -2.12155 -2.67695 -1.34891  1.94841  1.28837 -0.01228\n",
      "  -0.00138  0.0443  -0.19449 -1.31466 -0.42873  1.8079   0.97342 -0.06622\n",
      "  -0.00031  0.04083  1.42822  1.10625  1.04653  0.79413 -0.38962 -0.18393]] [-2.27128]\n",
      "[4분류기] [[ 0.      -0.10443 -1.74603 -2.04838 -0.24687 -1.72134 -0.61596  0.00772\n",
      "  -0.00207 -0.63607 -2.78743  0.30192 -0.8397  -2.58782 -0.38584  0.08284\n",
      "  -0.00068 -0.70705  0.10278  1.68556 -0.69733 -0.85846  0.81982  0.12128\n",
      "   0.00324  0.81591  2.08509 -1.01519 -0.79709  1.25589  1.58975  0.00949\n",
      "   0.       2.6564   2.52475  0.08961  1.14194  2.26791  1.06467  0.\n",
      "   0.04072  2.14277  1.68627  2.11083  2.82427  0.91525 -0.78867 -0.01598\n",
      "   0.0051   0.22363 -1.94554 -1.01497  1.65878 -1.89685 -1.57168 -0.0922\n",
      "  -0.00037 -0.08046 -1.82398 -1.77719  0.08202 -2.06121 -0.85226 -0.14316]] [-2.10811]\n",
      "[5분류기] [[ 0.       0.32753  2.18216  0.44499  0.93267  2.97038  1.2082  -0.05173\n",
      "  -0.00353  0.83927  1.9652   0.00507 -0.95594 -1.05161  0.04383 -0.04021\n",
      "  -0.00121  1.3353   1.99011 -0.47991 -2.37455 -3.45384 -0.86707 -0.02685\n",
      "  -0.00049  1.39149  2.43167  1.51451 -0.27486 -1.33552 -0.87742 -0.00121\n",
      "   0.      -0.10619  0.05173 -0.43584 -0.79417 -0.47358 -0.47116  0.\n",
      "  -0.00428 -0.57541 -2.57678 -1.69283 -0.09582  0.03265 -0.47265 -0.01156\n",
      "  -0.00149  0.08677 -0.70151 -0.60692  0.69811 -0.62916 -1.1493  -0.09278\n",
      "  -0.00028  0.31799  2.30868  1.16931 -1.13471 -1.92702 -0.86334 -0.18044]] [-2.15939]\n",
      "[6분류기] [[ 0.      -0.12833 -1.68339 -0.15065 -0.72937 -1.63142 -0.47325 -0.04367\n",
      "  -0.00279 -0.80633 -1.28879  1.02344 -1.63222 -2.86037 -0.64499 -0.04121\n",
      "  -0.00091 -0.82006  1.05379  0.94644 -2.5678  -3.16147 -0.77068 -0.0239\n",
      "  -0.00039 -0.15575  1.83142 -0.12525 -2.32935 -2.27544 -1.02191 -0.00107\n",
      "   0.       0.32956  2.86895  1.75209  0.85664  0.7241  -0.06901  0.\n",
      "  -0.00754 -0.07985  3.05395  1.33056 -1.03593  0.67636  2.44478  0.09496\n",
      "  -0.00177 -0.2564   1.06342  1.27771 -1.79062  1.07444  2.9352   0.11245\n",
      "  -0.00028 -0.1181  -1.6469  -0.54513  1.22252  2.64281  0.89886 -0.17164]] [-2.29712]\n",
      "[7분류기] [[ 0.      -0.06687 -0.11236  0.66521  1.09794  2.25894  1.68036  0.39509\n",
      "  -0.0029  -0.46016  0.07805 -0.09913  0.30023  1.77424  1.49254  0.23808\n",
      "  -0.00092 -0.78183 -2.23979 -2.16082 -0.20646  1.47809  0.59519  0.02961\n",
      "  -0.00042 -0.8557  -2.15193 -1.34144  0.71689  1.97657  1.13404 -0.00149\n",
      "   0.      -0.30832  0.74249  1.89066  1.8321   1.37335  0.86198  0.\n",
      "  -0.00457 -0.12926 -0.5351   1.74021  1.27559 -1.67183 -1.01404 -0.01007\n",
      "  -0.00199 -0.24425 -1.84542  1.29762 -1.7126  -3.52696 -1.3998  -0.07336\n",
      "  -0.00042 -0.07244  0.2623  -0.02734 -4.14095 -2.73266 -0.81217 -0.1413 ]] [-2.10291]\n",
      "[8분류기] [[ 0.      -0.08997 -0.09352 -0.12744  0.17264  0.10447 -0.42798 -0.05712\n",
      "   0.01541 -0.05394  1.046   -0.20527 -0.55017  1.62115  0.29318 -0.04618\n",
      "   0.00277  0.31486  0.97934  0.08427  0.17178  1.85367  0.216   -0.02098\n",
      "  -0.00036 -0.49303 -0.08533  1.89468  1.52925 -0.26927 -0.80009 -0.00102\n",
      "   0.      -0.95357 -0.52862  2.32171  1.1677  -1.98048 -1.33344  0.\n",
      "  -0.0044  -0.28434  1.7817   0.76627  0.60554  0.30323 -0.98924 -0.01334\n",
      "  -0.00207  0.14084  1.62768 -0.76634 -0.64308  0.4714  -0.62602 -0.09874\n",
      "  -0.00045 -0.06937 -0.31191  0.36644  0.64486 -0.00582 -0.40109 -0.17003]] [-2.65985]\n",
      "[9분류기] [[ 0.      -0.08507  0.03877 -0.01973 -0.30018 -0.07821  0.13835 -0.04214\n",
      "  -0.00353  0.10522  0.83407 -0.96049 -0.05288  1.26223  0.38962 -0.02449\n",
      "  -0.00133  0.37307  1.29064 -0.37062  0.55884  2.73557  0.66961 -0.00226\n",
      "  -0.00025 -0.25029  0.73219  1.70034  1.43244  2.83206  0.64576 -0.00125\n",
      "   0.      -0.96286 -1.98672 -1.5217  -2.35725  1.14219  0.74427  0.\n",
      "  -0.00334 -0.60185 -2.7189  -2.65995 -2.12604  0.43037  0.95903  0.00206\n",
      "  -0.00138 -0.05053 -0.7022  -1.97174 -1.59049  0.40087  0.6511  -0.03094\n",
      "  -0.0003  -0.09759 -0.08266 -0.15271  0.60648  0.86476  0.0371  -0.1605 ]] [-2.19799]\n"
     ]
    }
   ],
   "source": [
    "\n",
    "for idx in range(ovr_clf.n_classes_):\n",
    "    print(F'[{idx}분류기]',ovr_clf.estimators_[idx].coef_,ovr_clf.estimators_[idx].intercept_)"
   ]
  },
  {
   "cell_type": "code",
   "execution_count": 73,
   "metadata": {},
   "outputs": [
    {
     "data": {
      "text/plain": [
       "array([[0.07877, 0.07785, 0.11759, 0.19225, 0.04654, 0.10645, 0.08302,\n",
       "        0.06987, 0.09086, 0.13678],\n",
       "       [0.11829, 0.06343, 0.07984, 0.15454, 0.06515, 0.10996, 0.05302,\n",
       "        0.08138, 0.09232, 0.18207]])"
      ]
     },
     "execution_count": 73,
     "metadata": {},
     "output_type": "execute_result"
    }
   ],
   "source": [
    "ovr_clf.predict_proba((X_test[:2]))"
   ]
  },
  {
   "cell_type": "markdown",
   "metadata": {},
   "source": [
    "확인 해보자 >_<"
   ]
  },
  {
   "cell_type": "code",
   "execution_count": 63,
   "metadata": {},
   "outputs": [
    {
     "data": {
      "image/png": "[encoded data removed]",
      "text/plain": [
       "<Figure size 640x480 with 1 Axes>"
      ]
     },
     "metadata": {},
     "output_type": "display_data"
    }
   ],
   "source": [
    "#문제 \n",
    "\n",
    "import numpy as np\n",
    "plt.imshow(np.array(X_test.iloc[1]).reshape(-1,8),cmap='binary')\n",
    "plt.show()"
   ]
  },
  {
   "cell_type": "code",
   "execution_count": 84,
   "metadata": {},
   "outputs": [
    {
     "name": "stderr",
     "output_type": "stream",
     "text": [
      "c:\\Users\\KDP-30\\anaconda3\\envs\\ML_38\\lib\\site-packages\\sklearn\\base.py:464: UserWarning: X does not have valid feature names, but LogisticRegression was fitted with feature names\n",
      "  warnings.warn(\n",
      "c:\\Users\\KDP-30\\anaconda3\\envs\\ML_38\\lib\\site-packages\\sklearn\\base.py:464: UserWarning: X does not have valid feature names, but LogisticRegression was fitted with feature names\n",
      "  warnings.warn(\n",
      "c:\\Users\\KDP-30\\anaconda3\\envs\\ML_38\\lib\\site-packages\\sklearn\\base.py:464: UserWarning: X does not have valid feature names, but LogisticRegression was fitted with feature names\n",
      "  warnings.warn(\n",
      "c:\\Users\\KDP-30\\anaconda3\\envs\\ML_38\\lib\\site-packages\\sklearn\\base.py:464: UserWarning: X does not have valid feature names, but LogisticRegression was fitted with feature names\n",
      "  warnings.warn(\n",
      "c:\\Users\\KDP-30\\anaconda3\\envs\\ML_38\\lib\\site-packages\\sklearn\\base.py:464: UserWarning: X does not have valid feature names, but LogisticRegression was fitted with feature names\n",
      "  warnings.warn(\n",
      "c:\\Users\\KDP-30\\anaconda3\\envs\\ML_38\\lib\\site-packages\\sklearn\\base.py:464: UserWarning: X does not have valid feature names, but LogisticRegression was fitted with feature names\n",
      "  warnings.warn(\n",
      "c:\\Users\\KDP-30\\anaconda3\\envs\\ML_38\\lib\\site-packages\\sklearn\\base.py:464: UserWarning: X does not have valid feature names, but LogisticRegression was fitted with feature names\n",
      "  warnings.warn(\n",
      "c:\\Users\\KDP-30\\anaconda3\\envs\\ML_38\\lib\\site-packages\\sklearn\\base.py:464: UserWarning: X does not have valid feature names, but LogisticRegression was fitted with feature names\n",
      "  warnings.warn(\n",
      "c:\\Users\\KDP-30\\anaconda3\\envs\\ML_38\\lib\\site-packages\\sklearn\\base.py:464: UserWarning: X does not have valid feature names, but LogisticRegression was fitted with feature names\n",
      "  warnings.warn(\n",
      "c:\\Users\\KDP-30\\anaconda3\\envs\\ML_38\\lib\\site-packages\\sklearn\\base.py:464: UserWarning: X does not have valid feature names, but LogisticRegression was fitted with feature names\n",
      "  warnings.warn(\n"
     ]
    },
    {
     "data": {
      "text/plain": [
       "array([[0.11829, 0.06343, 0.07984, 0.15454, 0.06515, 0.10996, 0.05302,\n",
       "        0.08138, 0.09232, 0.18207]])"
      ]
     },
     "execution_count": 84,
     "metadata": {},
     "output_type": "execute_result"
    }
   ],
   "source": [
    "# 모델적합도\n",
    "ovr_clf.predict_proba(np.array(X_test.iloc[1]).reshape(-1,64))"
   ]
  },
  {
   "cell_type": "code",
   "execution_count": 67,
   "metadata": {},
   "outputs": [
    {
     "name": "stderr",
     "output_type": "stream",
     "text": [
      "c:\\Users\\KDP-30\\anaconda3\\envs\\ML_38\\lib\\site-packages\\sklearn\\base.py:464: UserWarning: X does not have valid feature names, but LogisticRegression was fitted with feature names\n",
      "  warnings.warn(\n",
      "c:\\Users\\KDP-30\\anaconda3\\envs\\ML_38\\lib\\site-packages\\sklearn\\base.py:464: UserWarning: X does not have valid feature names, but LogisticRegression was fitted with feature names\n",
      "  warnings.warn(\n",
      "c:\\Users\\KDP-30\\anaconda3\\envs\\ML_38\\lib\\site-packages\\sklearn\\base.py:464: UserWarning: X does not have valid feature names, but LogisticRegression was fitted with feature names\n",
      "  warnings.warn(\n",
      "c:\\Users\\KDP-30\\anaconda3\\envs\\ML_38\\lib\\site-packages\\sklearn\\base.py:464: UserWarning: X does not have valid feature names, but LogisticRegression was fitted with feature names\n",
      "  warnings.warn(\n",
      "c:\\Users\\KDP-30\\anaconda3\\envs\\ML_38\\lib\\site-packages\\sklearn\\base.py:464: UserWarning: X does not have valid feature names, but LogisticRegression was fitted with feature names\n",
      "  warnings.warn(\n",
      "c:\\Users\\KDP-30\\anaconda3\\envs\\ML_38\\lib\\site-packages\\sklearn\\base.py:464: UserWarning: X does not have valid feature names, but LogisticRegression was fitted with feature names\n",
      "  warnings.warn(\n",
      "c:\\Users\\KDP-30\\anaconda3\\envs\\ML_38\\lib\\site-packages\\sklearn\\base.py:464: UserWarning: X does not have valid feature names, but LogisticRegression was fitted with feature names\n",
      "  warnings.warn(\n",
      "c:\\Users\\KDP-30\\anaconda3\\envs\\ML_38\\lib\\site-packages\\sklearn\\base.py:464: UserWarning: X does not have valid feature names, but LogisticRegression was fitted with feature names\n",
      "  warnings.warn(\n",
      "c:\\Users\\KDP-30\\anaconda3\\envs\\ML_38\\lib\\site-packages\\sklearn\\base.py:464: UserWarning: X does not have valid feature names, but LogisticRegression was fitted with feature names\n",
      "  warnings.warn(\n",
      "c:\\Users\\KDP-30\\anaconda3\\envs\\ML_38\\lib\\site-packages\\sklearn\\base.py:464: UserWarning: X does not have valid feature names, but LogisticRegression was fitted with feature names\n",
      "  warnings.warn(\n"
     ]
    },
    {
     "data": {
      "text/plain": [
       "array([9])"
      ]
     },
     "execution_count": 67,
     "metadata": {},
     "output_type": "execute_result"
    }
   ],
   "source": [
    "# 예측값\n",
    "ovr_clf.predict(np.array(X_test.iloc[1]).reshape(-1,64))"
   ]
  },
  {
   "cell_type": "code",
   "execution_count": 71,
   "metadata": {},
   "outputs": [
    {
     "data": {
      "text/plain": [
       "9"
      ]
     },
     "execution_count": 71,
     "metadata": {},
     "output_type": "execute_result"
    }
   ],
   "source": [
    "# 실제정답\n",
    "y_test.iloc[1]"
   ]
  },
  {
   "cell_type": "code",
   "execution_count": 75,
   "metadata": {},
   "outputs": [
    {
     "data": {
      "text/plain": [
       "0.88"
      ]
     },
     "execution_count": 75,
     "metadata": {},
     "output_type": "execute_result"
    }
   ],
   "source": [
    "ovr_clf.score(X_test,y_test)"
   ]
  },
  {
   "cell_type": "code",
   "execution_count": null,
   "metadata": {},
   "outputs": [],
   "source": []
  }
 ],
 "metadata": {
  "kernelspec": {
   "display_name": "ML_38",
   "language": "python",
   "name": "python3"
  },
  "language_info": {
   "codemirror_mode": {
    "name": "ipython",
    "version": 3
   },
   "file_extension": ".py",
   "mimetype": "text/x-python",
   "name": "python",
   "nbconvert_exporter": "python",
   "pygments_lexer": "ipython3",
   "version": "3.8.19"
  }
 },
 "nbformat": 4,
 "nbformat_minor": 2
}
