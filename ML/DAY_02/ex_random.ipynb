{
 "cells": [
  {
   "cell_type": "markdown",
   "metadata": {},
   "source": [
    "#### 임의의 숫자 즉, 난수 추출\n",
    "- random 모듈 존제\n",
    "- 0.0~1.0 실수 추출\n",
    "- n ~ m 정수 추출\n",
    "- random값 고정 ==> seed 기능"
   ]
  },
  {
   "cell_type": "code",
   "execution_count": 2,
   "metadata": {},
   "outputs": [],
   "source": [
    "import random"
   ]
  },
  {
   "cell_type": "code",
   "execution_count": 13,
   "metadata": {},
   "outputs": [
    {
     "name": "stdout",
     "output_type": "stream",
     "text": [
      "60\n",
      "13\n",
      "54\n",
      "85\n",
      "30\n",
      "74\n",
      "57\n",
      "100\n",
      "61\n",
      "34\n"
     ]
    }
   ],
   "source": [
    "# 정수\n",
    "for _ in range(10):\n",
    "    print(random.randint(1,100))"
   ]
  },
  {
   "cell_type": "code",
   "execution_count": 52,
   "metadata": {},
   "outputs": [
    {
     "name": "stdout",
     "output_type": "stream",
     "text": [
      "0.21784631376950991\n",
      "0.3554669474792327\n",
      "0.968813388664999\n",
      "0.18850163089050076\n",
      "0.8622965034704138\n",
      "0.5312451051630381\n",
      "0.07486637979898325\n",
      "0.811221242183946\n",
      "0.017287214496327974\n",
      "0.8372092651616604\n"
     ]
    }
   ],
   "source": [
    "# 실수\n",
    "for _ in range(10):\n",
    "    print(random.random())"
   ]
  },
  {
   "cell_type": "code",
   "execution_count": 55,
   "metadata": {},
   "outputs": [
    {
     "name": "stdout",
     "output_type": "stream",
     "text": [
      "0.5714025946899135\n",
      "0.4288890546751146\n",
      "0.5780913011344704\n",
      "0.20609823213950174\n",
      "0.81332125135732\n",
      "0.8235888725334455\n",
      "0.6534725339011758\n",
      "0.16022955651881965\n",
      "0.5206693596399246\n",
      "0.32777281162209315\n"
     ]
    }
   ],
   "source": [
    "# fix seed\n",
    "random.seed(10)\n",
    "for _ in range(10):\n",
    "    print(random.random())"
   ]
  },
  {
   "cell_type": "code",
   "execution_count": 56,
   "metadata": {},
   "outputs": [],
   "source": [
    "X=[[1],[3],[5],[8],[12],[56],[9],[10],[20],[31],[22],[93]]\n",
    "y=[1,2,3,4,5,6,7,8,9,10,11,12]"
   ]
  },
  {
   "cell_type": "code",
   "execution_count": 58,
   "metadata": {},
   "outputs": [
    {
     "name": "stdout",
     "output_type": "stream",
     "text": [
      "X : [[1], [3], [5], [8], [12], [56], [9], [10], [20], [31], [22], [93]]\n",
      "X_train :[[56], [93], [20], [22], [8], [3], [1], [12], [31]]\n",
      "X_test : [[5], [9], [10]]\n"
     ]
    }
   ],
   "source": [
    "from sklearn.model_selection import train_test_split\n",
    "# 섞기\n",
    "X_train, X_test, y_train, y_test = train_test_split(X,y,random_state=10)\n",
    "\n",
    "print(f'X : {X}')\n",
    "print(f'X_train :{X_train}')\n",
    "print(f'X_test : {X_test}')"
   ]
  },
  {
   "cell_type": "code",
   "execution_count": 59,
   "metadata": {},
   "outputs": [
    {
     "name": "stdout",
     "output_type": "stream",
     "text": [
      "X : [[1], [3], [5], [8], [12], [56], [9], [10], [20], [31], [22], [93]]\n",
      "X_train :[[1], [3], [5], [8], [12], [56], [9], [10], [20]]\n",
      "X_test : [[31], [22], [93]]\n"
     ]
    }
   ],
   "source": [
    "# 섞기\n",
    "X_train, X_test, y_train, y_test = train_test_split(X,y,shuffle=False)\n",
    "\n",
    "print(f'X : {X}')\n",
    "print(f'X_train :{X_train}')\n",
    "print(f'X_test : {X_test}')"
   ]
  },
  {
   "cell_type": "code",
   "execution_count": null,
   "metadata": {},
   "outputs": [],
   "source": []
  }
 ],
 "metadata": {
  "kernelspec": {
   "display_name": "Python 3",
   "language": "python",
   "name": "python3"
  },
  "language_info": {
   "codemirror_mode": {
    "name": "ipython",
    "version": 3
   },
   "file_extension": ".py",
   "mimetype": "text/x-python",
   "name": "python",
   "nbconvert_exporter": "python",
   "pygments_lexer": "ipython3",
   "version": "3.8.19"
  }
 },
 "nbformat": 4,
 "nbformat_minor": 2
}
