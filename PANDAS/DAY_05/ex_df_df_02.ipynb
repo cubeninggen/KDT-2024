{
 "cells": [
  {
   "cell_type": "markdown",
   "metadata": {},
   "source": [
    "### [DF 연결/통합]\n",
    "- 통합\n",
    "    * DF에서 특정 컬럼을 기준으로 통합해주는 기능\n",
    "    * 함수 : pandas.merge()"
   ]
  },
  {
   "cell_type": "code",
   "execution_count": 4,
   "metadata": {},
   "outputs": [],
   "source": [
    "import pandas as pd\n",
    "fileName='stock price.xlsx'\n",
    "fileName2='stock valuation.xlsx'\n",
    "priceDF=pd.read_excel(fileName)\n",
    "valDF=pd.read_excel(fileName2)"
   ]
  },
  {
   "cell_type": "code",
   "execution_count": null,
   "metadata": {},
   "outputs": [],
   "source": []
  }
 ],
 "metadata": {
  "kernelspec": {
   "display_name": "base",
   "language": "python",
   "name": "python3"
  },
  "language_info": {
   "codemirror_mode": {
    "name": "ipython",
    "version": 3
   },
   "file_extension": ".py",
   "mimetype": "text/x-python",
   "name": "python",
   "nbconvert_exporter": "python",
   "pygments_lexer": "ipython3",
   "version": "3.11.7"
  }
 },
 "nbformat": 4,
 "nbformat_minor": 2
}
