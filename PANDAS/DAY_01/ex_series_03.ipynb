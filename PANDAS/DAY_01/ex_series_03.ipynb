{
 "cells": [
  {
   "cell_type": "markdown",
   "metadata": {},
   "source": [
    "### Series 데이터 자료형\n",
    "- 판다스에서 1줄 데이터 저장하는 자료형\n",
    "- 구성 : 인덱스+데이터"
   ]
  },
  {
   "cell_type": "code",
   "execution_count": 1,
   "metadata": {},
   "outputs": [],
   "source": [
    "# 모듈로딩\n",
    "import pandas as pd"
   ]
  },
  {
   "cell_type": "code",
   "execution_count": 2,
   "metadata": {},
   "outputs": [],
   "source": [
    "# 데이터 준비\n",
    "grade={'국어':98,'영어':100,'체육':100,'과학':89}"
   ]
  },
  {
   "cell_type": "code",
   "execution_count": 8,
   "metadata": {},
   "outputs": [],
   "source": [
    "gradeSR1=pd.Series(grade)"
   ]
  },
  {
   "cell_type": "code",
   "execution_count": 10,
   "metadata": {},
   "outputs": [
    {
     "name": "stdout",
     "output_type": "stream",
     "text": [
      "Index  :  Index(['국어', '영어', '체육', '과학'], dtype='object')\n",
      "Values :  [ 98 100 100  89]\n",
      "dtype  :  int64\n",
      "ndim   :  1\n"
     ]
    }
   ],
   "source": [
    "# 시리즈 덷체 솟성 출력 => index, values, dtype, ndim\n",
    "print('Index  : ',gradeSR1.index)\n",
    "print('Values : ',gradeSR1.values)\n",
    "print('dtype  : ',gradeSR1.dtype)\n",
    "print('ndim   : ',gradeSR1.ndim)"
   ]
  },
  {
   "cell_type": "code",
   "execution_count": 11,
   "metadata": {},
   "outputs": [
    {
     "data": {
      "text/plain": [
       "98"
      ]
     },
     "execution_count": 11,
     "metadata": {},
     "output_type": "execute_result"
    }
   ],
   "source": [
    "## 원소 읽기\n",
    "# 1개 원소 읽기\n",
    "gradeSR1['국어']"
   ]
  },
  {
   "cell_type": "code",
   "execution_count": 12,
   "metadata": {},
   "outputs": [
    {
     "data": {
      "text/plain": [
       "국어    98\n",
       "과학    89\n",
       "dtype: int64"
      ]
     },
     "execution_count": 12,
     "metadata": {},
     "output_type": "execute_result"
    }
   ],
   "source": [
    "# 2개 원소 읽기\n",
    "gradeSR1[['국어','과학']]"
   ]
  },
  {
   "cell_type": "code",
   "execution_count": 13,
   "metadata": {},
   "outputs": [
    {
     "data": {
      "text/plain": [
       "국어     98\n",
       "영어    100\n",
       "체육    100\n",
       "dtype: int64"
      ]
     },
     "execution_count": 13,
     "metadata": {},
     "output_type": "execute_result"
    }
   ],
   "source": [
    "# 국어, 영어, 채육 점수 읽기 ==> 슬라이싱\n",
    "# 정수 인덱스 => [시작:끝+1]\n",
    "# 문자열 인덱스 => [시작:끝]\n",
    "gradeSR1['국어':'체육']"
   ]
  },
  {
   "cell_type": "code",
   "execution_count": 16,
   "metadata": {},
   "outputs": [
    {
     "data": {
      "text/plain": [
       "국어     98\n",
       "체육    100\n",
       "dtype: int64"
      ]
     },
     "execution_count": 16,
     "metadata": {},
     "output_type": "execute_result"
    }
   ],
   "source": [
    "# 국어, 채육 점수 읽기\n",
    "gradeSR1['국어':'체육':2]"
   ]
  },
  {
   "cell_type": "markdown",
   "metadata": {},
   "source": [
    "- [인덱스 & 인덱스레이블/네임]\n",
    ": 원소/요소를 식별하기 위한 속성"
   ]
  },
  {
   "cell_type": "code",
   "execution_count": 17,
   "metadata": {},
   "outputs": [
    {
     "data": {
      "text/plain": [
       "Index(['국어', '영어', '체육', '과학'], dtype='object')"
      ]
     },
     "execution_count": 17,
     "metadata": {},
     "output_type": "execute_result"
    }
   ],
   "source": [
    "## 인덱스 속성 ==> 변수명.index\n",
    "gradeSR1.index"
   ]
  },
  {
   "cell_type": "code",
   "execution_count": 19,
   "metadata": {},
   "outputs": [
    {
     "name": "stdout",
     "output_type": "stream",
     "text": [
      "98 98\n",
      "100 100\n"
     ]
    },
    {
     "name": "stderr",
     "output_type": "stream",
     "text": [
      "C:\\Users\\KDP-48\\AppData\\Local\\Temp\\ipykernel_7716\\2843248709.py:1: FutureWarning: Series.__getitem__ treating keys as positions is deprecated. In a future version, integer keys will always be treated as labels (consistent with DataFrame behavior). To access a value by position, use `ser.iloc[pos]`\n",
      "  print(gradeSR1['국어'],gradeSR1[0])\n",
      "C:\\Users\\KDP-48\\AppData\\Local\\Temp\\ipykernel_7716\\2843248709.py:2: FutureWarning: Series.__getitem__ treating keys as positions is deprecated. In a future version, integer keys will always be treated as labels (consistent with DataFrame behavior). To access a value by position, use `ser.iloc[pos]`\n",
      "  print(gradeSR1['체육'],gradeSR1[2])\n"
     ]
    }
   ],
   "source": [
    "print(gradeSR1['국어'],gradeSR1[0])\n",
    "print(gradeSR1['체육'],gradeSR1[2])"
   ]
  },
  {
   "cell_type": "code",
   "execution_count": null,
   "metadata": {},
   "outputs": [],
   "source": []
  }
 ],
 "metadata": {
  "kernelspec": {
   "display_name": "base",
   "language": "python",
   "name": "python3"
  },
  "language_info": {
   "codemirror_mode": {
    "name": "ipython",
    "version": 3
   },
   "file_extension": ".py",
   "mimetype": "text/x-python",
   "name": "python",
   "nbconvert_exporter": "python",
   "pygments_lexer": "ipython3",
   "version": "3.11.7"
  }
 },
 "nbformat": 4,
 "nbformat_minor": 2
}
