{
 "cells": [
  {
   "cell_type": "markdown",
   "metadata": {},
   "source": [
    "### DataFrame 살펴보기\n",
    "- 판다스에서 데이터를 저장하는 자료형\n",
    "- 구성 : 2차원 데이터를 저장  인덱스 + 열이름 + 데이터\n",
    "- 형식 : pandas.DataFrame(2D데이터)"
   ]
  },
  {
   "cell_type": "code",
   "execution_count": 1,
   "metadata": {},
   "outputs": [],
   "source": [
    "# 모듈 로딩\n",
    "import pandas as pd"
   ]
  },
  {
   "cell_type": "code",
   "execution_count": 2,
   "metadata": {},
   "outputs": [],
   "source": [
    "# 데이터 준비\n",
    "grade=[[98,99,100],[67,81,80]]"
   ]
  },
  {
   "cell_type": "code",
   "execution_count": 6,
   "metadata": {},
   "outputs": [],
   "source": [
    "# DataFrame으로 데이터 저장하기\n",
    "gradeDF=pd.DataFrame(grade)"
   ]
  },
  {
   "cell_type": "code",
   "execution_count": 7,
   "metadata": {},
   "outputs": [
    {
     "name": "stdout",
     "output_type": "stream",
     "text": [
      "    0   1    2\n",
      "0  98  99  100\n",
      "1  67  81   80\n"
     ]
    }
   ],
   "source": [
    "# DataFrame으로 저장된 데이터 확인\n",
    "print(gradeDF)"
   ]
  },
  {
   "cell_type": "code",
   "execution_count": 10,
   "metadata": {},
   "outputs": [
    {
     "name": "stdout",
     "output_type": "stream",
     "text": [
      "index : RangeIndex(start=0, stop=2, step=1)\n",
      "columns : RangeIndex(start=0, stop=3, step=1)\n",
      "values : \n",
      "[[ 98  99 100]\n",
      " [ 67  81  80]]\n",
      "ndim : 2\n",
      "dtypes : <class 'pandas.core.series.Series'>\n",
      "0    int64\n",
      "1    int64\n",
      "2    int64\n",
      "dtype: object\n",
      "shape : (2, 3)\n"
     ]
    }
   ],
   "source": [
    "## DataFrame 속성 읽기 ==> 변수명.속성명\n",
    "## - index, columns, values, ndim, dtypes, shape\n",
    "print(f'index : {gradeDF.index}')\n",
    "print(f'columns : {gradeDF.columns}')\n",
    "print(f'values : \\n{gradeDF.values}')\n",
    "print(f'ndim : {gradeDF.ndim}')\n",
    "print(f'dtypes : {type(gradeDF.dtypes)}\\n{gradeDF.dtypes}')\n",
    "print(f'shape : {gradeDF.shape}')"
   ]
  },
  {
   "cell_type": "code",
   "execution_count": 11,
   "metadata": {},
   "outputs": [
    {
     "name": "stdout",
     "output_type": "stream",
     "text": [
      "    0   1    2\n",
      "0  98  99  100\n",
      "1  67  81   80\n"
     ]
    }
   ],
   "source": [
    "## DataFrames 안에 있는 모든 원소를 하나씩 출력하세요\n",
    "print(gradeDF)"
   ]
  },
  {
   "cell_type": "code",
   "execution_count": 16,
   "metadata": {},
   "outputs": [
    {
     "name": "stdout",
     "output_type": "stream",
     "text": [
      "0 0\n",
      "0 1\n",
      "0 2\n",
      "1 0\n",
      "1 1\n",
      "1 2\n"
     ]
    }
   ],
   "source": [
    "for r in gradeDF.index:        # range(0,2,1)\n",
    "    for c in gradeDF.columns:  # range(0,3,1)\n",
    "        print(r,c)"
   ]
  },
  {
   "cell_type": "markdown",
   "metadata": {},
   "source": [
    "- DataFrames 생성 시 인덱스 지정 <hr>"
   ]
  },
  {
   "cell_type": "code",
   "execution_count": 19,
   "metadata": {},
   "outputs": [],
   "source": [
    "index_value=['A','B']\n",
    "column_value=['국어','과학','미술']\n",
    "df2=pd.DataFrame(grade,index=index_value,columns=column_value)"
   ]
  },
  {
   "cell_type": "code",
   "execution_count": 20,
   "metadata": {},
   "outputs": [
    {
     "name": "stdout",
     "output_type": "stream",
     "text": [
      "   국어  과학   미술\n",
      "A  98  99  100\n",
      "B  67  81   80\n"
     ]
    }
   ],
   "source": [
    "# 데이터 저장된 DF 확인\n",
    "print(df2)"
   ]
  },
  {
   "cell_type": "code",
   "execution_count": 21,
   "metadata": {},
   "outputs": [
    {
     "name": "stdout",
     "output_type": "stream",
     "text": [
      "Index(['A', 'B'], dtype='object')\n",
      "<class 'pandas.core.indexes.base.Index'>\n"
     ]
    }
   ],
   "source": [
    "# DF 인덱스 속성 읽기 ==> 변수명.index\n",
    "print(df2.index,type(df2.index),sep='\\n')"
   ]
  },
  {
   "cell_type": "code",
   "execution_count": 22,
   "metadata": {},
   "outputs": [
    {
     "name": "stdout",
     "output_type": "stream",
     "text": [
      "Index(['국어', '과학', '미술'], dtype='object')\n",
      "<class 'pandas.core.indexes.base.Index'>\n"
     ]
    }
   ],
   "source": [
    "# DF 인덱스 속성 읽기 ==> 변수명.columns\n",
    "print(df2.columns,type(df2.columns),sep='\\n')"
   ]
  }
 ],
 "metadata": {
  "kernelspec": {
   "display_name": "base",
   "language": "python",
   "name": "python3"
  },
  "language_info": {
   "codemirror_mode": {
    "name": "ipython",
    "version": 3
   },
   "file_extension": ".py",
   "mimetype": "text/x-python",
   "name": "python",
   "nbconvert_exporter": "python",
   "pygments_lexer": "ipython3",
   "version": "3.11.7"
  }
 },
 "nbformat": 4,
 "nbformat_minor": 2
}
