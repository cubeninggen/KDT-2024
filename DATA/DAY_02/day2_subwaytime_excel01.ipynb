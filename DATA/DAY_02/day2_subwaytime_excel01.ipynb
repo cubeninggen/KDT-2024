{
 "cells": [
  {
   "cell_type": "code",
   "execution_count": 1,
   "metadata": {},
   "outputs": [
    {
     "name": "stdout",
     "output_type": "stream",
     "text": [
      "                 사용월                호선명                역ID               지하철역  \\\n",
      "  Unnamed: 0_level_1 Unnamed: 1_level_1 Unnamed: 2_level_1 Unnamed: 3_level_1   \n",
      "0            2024-06                1호선                150                서울역   \n",
      "1            2024-06                1호선                151                 시청   \n",
      "2            2024-06                1호선                152                 종각   \n",
      "3            2024-06                1호선                153               종로3가   \n",
      "4            2024-06                1호선                154               종로5가   \n",
      "\n",
      "  04:00:00~04:59:59     05:00:00~05:59:59        06:00:00~06:59:59          \\\n",
      "                 승차  하차                승차     하차                승차      하차   \n",
      "0               654  20             8,727  9,083            13,812  56,637   \n",
      "1                74   0             2,105  5,374             4,050  25,949   \n",
      "2               132   7             4,291  5,787             4,312  32,747   \n",
      "3               206  13             4,296  3,015             3,961  13,851   \n",
      "4                42   2             2,053  3,522             3,089  17,690   \n",
      "\n",
      "   ... 23:00:00~23:59:59 00:00:00~00:59:59        01:00:00~01:59:59       \\\n",
      "   ...                하차                승차     하차                승차   하차   \n",
      "0  ...            13,883             2,863  3,984                 3  215   \n",
      "1  ...             3,898               502    991                 1   38   \n",
      "2  ...             4,587             1,676  1,300                 0    0   \n",
      "3  ...             5,240             1,765  2,042                 2    6   \n",
      "4  ...             3,597               334  1,000                 0    0   \n",
      "\n",
      "  02:00:00~02:59:59    03:00:00~03:59:59                    작업일시  \n",
      "                 승차 하차                승차 하차  Unnamed: 52_level_1  \n",
      "0                 0  0                 0  0  2024-07-03 09:31:29  \n",
      "1                 0  0                 0  0  2024-07-03 09:31:29  \n",
      "2                 0  0                 0  0  2024-07-03 09:31:29  \n",
      "3                 0  0                 0  0  2024-07-03 09:31:29  \n",
      "4                 0  0                 0  0  2024-07-03 09:31:29  \n",
      "\n",
      "[5 rows x 53 columns]\n"
     ]
    }
   ],
   "source": [
    "import pandas as pd\n",
    "from tabulate import tabulate\n",
    "# 지하철시간대별이용현황\n",
    "df= pd.read_excel('subway.xls', sheet_name='지하철 시간대별 이용현황', header=[0, 1])\n",
    "print(df.head())"
   ]
  },
  {
   "cell_type": "code",
   "execution_count": 2,
   "metadata": {},
   "outputs": [
    {
     "name": "stdout",
     "output_type": "stream",
     "text": [
      "MultiIndex([(              '사용월',  'Unnamed: 0_level_1'),\n",
      "            (              '호선명',  'Unnamed: 1_level_1'),\n",
      "            (              '역ID',  'Unnamed: 2_level_1'),\n",
      "            (             '지하철역',  'Unnamed: 3_level_1'),\n",
      "            ('04:00:00~04:59:59',                  '승차'),\n",
      "            ('04:00:00~04:59:59',                  '하차'),\n",
      "            ('05:00:00~05:59:59',                  '승차'),\n",
      "            ('05:00:00~05:59:59',                  '하차'),\n",
      "            ('06:00:00~06:59:59',                  '승차'),\n",
      "            ('06:00:00~06:59:59',                  '하차'),\n",
      "            ('07:00:00~07:59:59',                  '승차'),\n",
      "            ('07:00:00~07:59:59',                  '하차'),\n",
      "            ('08:00:00~08:59:59',                  '승차'),\n",
      "            ('08:00:00~08:59:59',                  '하차'),\n",
      "            ('09:00:00~09:59:59',                  '승차'),\n",
      "            ('09:00:00~09:59:59',                  '하차'),\n",
      "            ('10:00:00~10:59:59',                  '승차'),\n",
      "            ('10:00:00~10:59:59',                  '하차'),\n",
      "            ('11:00:00~11:59:59',                  '승차'),\n",
      "            ('11:00:00~11:59:59',                  '하차'),\n",
      "            ('12:00:00~12:59:59',                  '승차'),\n",
      "            ('12:00:00~12:59:59',                  '하차'),\n",
      "            ('13:00:00~13:59:59',                  '승차'),\n",
      "            ('13:00:00~13:59:59',                  '하차'),\n",
      "            ('14:00:00~14:59:59',                  '승차'),\n",
      "            ('14:00:00~14:59:59',                  '하차'),\n",
      "            ('15:00:00~15:59:59',                  '승차'),\n",
      "            ('15:00:00~15:59:59',                  '하차'),\n",
      "            ('16:00:00~16:59:59',                  '승차'),\n",
      "            ('16:00:00~16:59:59',                  '하차'),\n",
      "            ('17:00:00~17:59:59',                  '승차'),\n",
      "            ('17:00:00~17:59:59',                  '하차'),\n",
      "            ('18:00:00~18:59:59',                  '승차'),\n",
      "            ('18:00:00~18:59:59',                  '하차'),\n",
      "            ('19:00:00~19:59:59',                  '승차'),\n",
      "            ('19:00:00~19:59:59',                  '하차'),\n",
      "            ('20:00:00~20:59:59',                  '승차'),\n",
      "            ('20:00:00~20:59:59',                  '하차'),\n",
      "            ('21:00:00~21:59:59',                  '승차'),\n",
      "            ('21:00:00~21:59:59',                  '하차'),\n",
      "            ('22:00:00~22:59:59',                  '승차'),\n",
      "            ('22:00:00~22:59:59',                  '하차'),\n",
      "            ('23:00:00~23:59:59',                  '승차'),\n",
      "            ('23:00:00~23:59:59',                  '하차'),\n",
      "            ('00:00:00~00:59:59',                  '승차'),\n",
      "            ('00:00:00~00:59:59',                  '하차'),\n",
      "            ('01:00:00~01:59:59',                  '승차'),\n",
      "            ('01:00:00~01:59:59',                  '하차'),\n",
      "            ('02:00:00~02:59:59',                  '승차'),\n",
      "            ('02:00:00~02:59:59',                  '하차'),\n",
      "            ('03:00:00~03:59:59',                  '승차'),\n",
      "            ('03:00:00~03:59:59',                  '하차'),\n",
      "            (             '작업일시', 'Unnamed: 52_level_1')],\n",
      "           )\n"
     ]
    }
   ],
   "source": [
    "print(df.columns)"
   ]
  },
  {
   "cell_type": "code",
   "execution_count": 3,
   "metadata": {},
   "outputs": [
    {
     "name": "stdout",
     "output_type": "stream",
     "text": [
      "0      1호선\n",
      "1      1호선\n",
      "2      1호선\n",
      "3      1호선\n",
      "4      1호선\n",
      "      ... \n",
      "617    신림선\n",
      "618    신림선\n",
      "619    신림선\n",
      "620    신림선\n",
      "621    신림선\n",
      "Name: (호선명, Unnamed: 1_level_1), Length: 622, dtype: object\n"
     ]
    }
   ],
   "source": [
    "print(df[('호선명', 'Unnamed: 1_level_1')])"
   ]
  },
  {
   "cell_type": "code",
   "execution_count": 4,
   "metadata": {},
   "outputs": [
    {
     "name": "stdout",
     "output_type": "stream",
     "text": [
      "0           서울역\n",
      "1            시청\n",
      "2            종각\n",
      "3          종로3가\n",
      "4          종로5가\n",
      "         ...   \n",
      "617          당곡\n",
      "618          신림\n",
      "619          서원\n",
      "620     서울대벤처타운\n",
      "621    관악산(서울대)\n",
      "Name: (지하철역, Unnamed: 3_level_1), Length: 622, dtype: object\n"
     ]
    }
   ],
   "source": [
    "print(df[('지하철역', 'Unnamed: 3_level_1')])"
   ]
  },
  {
   "cell_type": "code",
   "execution_count": 5,
   "metadata": {},
   "outputs": [
    {
     "name": "stdout",
     "output_type": "stream",
     "text": [
      "+----+------------------------------------+--------------------------------------+---------------------------------+---------------------------------+---------------------------------+\n",
      "|    | ('호선명', 'Unnamed: 1_level_1')   | ('지하철역', 'Unnamed: 3_level_1')   | ('07:00:00~07:59:59', '승차')   | ('08:00:00~08:59:59', '승차')   | ('09:00:00~09:59:59', '승차')   |\n",
      "|----+------------------------------------+--------------------------------------+---------------------------------+---------------------------------+---------------------------------|\n",
      "|  0 | 1호선                              | 서울역                               | 40,205                          | 68,945                          | 68,501                          |\n",
      "|  1 | 1호선                              | 시청                                 | 7,703                           | 10,616                          | 12,972                          |\n",
      "|  2 | 1호선                              | 종각                                 | 6,588                           | 10,892                          | 13,378                          |\n",
      "|  3 | 1호선                              | 종로3가                              | 5,968                           | 10,284                          | 15,280                          |\n",
      "|  4 | 1호선                              | 종로5가                              | 5,783                           | 10,330                          | 15,744                          |\n",
      "+----+------------------------------------+--------------------------------------+---------------------------------+---------------------------------+---------------------------------+\n"
     ]
    }
   ],
   "source": [
    "commute_time_df= df.iloc[:, [1, 3, 10, 12, 14]]\n",
    "print(tabulate(commute_time_df.head(), headers='keys', tablefmt='psql'))"
   ]
  },
  {
   "cell_type": "code",
   "execution_count": 6,
   "metadata": {},
   "outputs": [
    {
     "name": "stdout",
     "output_type": "stream",
     "text": [
      "호선명                Unnamed: 1_level_1    object\n",
      "지하철역               Unnamed: 3_level_1    object\n",
      "07:00:00~07:59:59  승차                    object\n",
      "08:00:00~08:59:59  승차                    object\n",
      "09:00:00~09:59:59  승차                    object\n",
      "dtype: object\n"
     ]
    }
   ],
   "source": [
    "print(commute_time_df.dtypes)"
   ]
  },
  {
   "cell_type": "code",
   "execution_count": 7,
   "metadata": {},
   "outputs": [
    {
     "name": "stdout",
     "output_type": "stream",
     "text": [
      "+----+------------------------------------+--------------------------------------+---------------------------------+---------------------------------+---------------------------------+\n",
      "|    | ('호선명', 'Unnamed: 1_level_1')   | ('지하철역', 'Unnamed: 3_level_1')   |   ('07:00:00~07:59:59', '승차') |   ('08:00:00~08:59:59', '승차') |   ('09:00:00~09:59:59', '승차') |\n",
      "|----+------------------------------------+--------------------------------------+---------------------------------+---------------------------------+---------------------------------|\n",
      "|  0 | 1호선                              | 서울역                               |                           40205 |                           68945 |                           68501 |\n",
      "|  1 | 1호선                              | 시청                                 |                            7703 |                           10616 |                           12972 |\n",
      "|  2 | 1호선                              | 종각                                 |                            6588 |                           10892 |                           13378 |\n",
      "|  3 | 1호선                              | 종로3가                              |                            5968 |                           10284 |                           15280 |\n",
      "|  4 | 1호선                              | 종로5가                              |                            5783 |                           10330 |                           15744 |\n",
      "+----+------------------------------------+--------------------------------------+---------------------------------+---------------------------------+---------------------------------+\n"
     ]
    },
    {
     "name": "stderr",
     "output_type": "stream",
     "text": [
      "C:\\Users\\KDP-48\\AppData\\Local\\Temp\\ipykernel_1380\\1976621172.py:1: SettingWithCopyWarning: \n",
      "A value is trying to be set on a copy of a slice from a DataFrame.\n",
      "Try using .loc[row_indexer,col_indexer] = value instead\n",
      "\n",
      "See the caveats in the documentation: https://pandas.pydata.org/pandas-docs/stable/user_guide/indexing.html#returning-a-view-versus-a-copy\n",
      "  commute_time_df[('07:00:00~07:59:59', '승차')] = commute_time_df[('07:00:00~07:59:59', '승차')].apply(lambda x : x.replace(',',''))\n",
      "C:\\Users\\KDP-48\\AppData\\Local\\Temp\\ipykernel_1380\\1976621172.py:2: SettingWithCopyWarning: \n",
      "A value is trying to be set on a copy of a slice from a DataFrame.\n",
      "Try using .loc[row_indexer,col_indexer] = value instead\n",
      "\n",
      "See the caveats in the documentation: https://pandas.pydata.org/pandas-docs/stable/user_guide/indexing.html#returning-a-view-versus-a-copy\n",
      "  commute_time_df[('08:00:00~08:59:59', '승차')] = commute_time_df[('08:00:00~08:59:59', '승차')].apply(lambda x : x.replace(',',''))\n",
      "C:\\Users\\KDP-48\\AppData\\Local\\Temp\\ipykernel_1380\\1976621172.py:3: SettingWithCopyWarning: \n",
      "A value is trying to be set on a copy of a slice from a DataFrame.\n",
      "Try using .loc[row_indexer,col_indexer] = value instead\n",
      "\n",
      "See the caveats in the documentation: https://pandas.pydata.org/pandas-docs/stable/user_guide/indexing.html#returning-a-view-versus-a-copy\n",
      "  commute_time_df[('09:00:00~09:59:59', '승차')] = commute_time_df[('09:00:00~09:59:59', '승차')].apply(lambda x : x.replace(',',''))\n"
     ]
    }
   ],
   "source": [
    "commute_time_df[('07:00:00~07:59:59', '승차')] = commute_time_df[('07:00:00~07:59:59', '승차')].apply(lambda x : x.replace(',',''))\n",
    "commute_time_df[('08:00:00~08:59:59', '승차')] = commute_time_df[('08:00:00~08:59:59', '승차')].apply(lambda x : x.replace(',',''))\n",
    "commute_time_df[('09:00:00~09:59:59', '승차')] = commute_time_df[('09:00:00~09:59:59', '승차')].apply(lambda x : x.replace(',',''))\n",
    "print(tabulate(commute_time_df.head(), headers='keys', tablefmt='psql'))"
   ]
  },
  {
   "cell_type": "code",
   "execution_count": 8,
   "metadata": {},
   "outputs": [
    {
     "name": "stdout",
     "output_type": "stream",
     "text": [
      "호선명                Unnamed: 1_level_1    object\n",
      "지하철역               Unnamed: 3_level_1    object\n",
      "07:00:00~07:59:59  승차                     int64\n",
      "08:00:00~08:59:59  승차                     int64\n",
      "09:00:00~09:59:59  승차                     int64\n",
      "dtype: object\n"
     ]
    }
   ],
   "source": [
    "commute_time_df= commute_time_df.astype({('07:00:00~07:59:59', '승차'):'int64'})\n",
    "commute_time_df= commute_time_df.astype({('08:00:00~08:59:59', '승차'):'int64'})\n",
    "commute_time_df= commute_time_df.astype({('09:00:00~09:59:59', '승차'):'int64'})\n",
    "print(commute_time_df.dtypes)"
   ]
  },
  {
   "cell_type": "code",
   "execution_count": 9,
   "metadata": {},
   "outputs": [
    {
     "name": "stdout",
     "output_type": "stream",
     "text": [
      "0      177651\n",
      "1       31291\n",
      "2       30858\n",
      "3       31532\n",
      "4       31857\n",
      "        ...  \n",
      "617     44504\n",
      "618     14843\n",
      "619     43187\n",
      "620     97128\n",
      "621     17160\n",
      "Length: 622, dtype: int64\n"
     ]
    }
   ],
   "source": [
    "row_sum_df= commute_time_df.sum(axis=1, numeric_only=True)\n",
    "passenger_number_list= row_sum_df.to_list()\n",
    "print(row_sum_df)"
   ]
  },
  {
   "cell_type": "code",
   "execution_count": 10,
   "metadata": {},
   "outputs": [
    {
     "name": "stdout",
     "output_type": "stream",
     "text": [
      "580615\n"
     ]
    }
   ],
   "source": [
    "max_number= row_sum_df.max(axis=0) # 해당열에서최대값찾기\n",
    "print(max_number)"
   ]
  },
  {
   "cell_type": "code",
   "execution_count": 11,
   "metadata": {},
   "outputs": [
    {
     "name": "stdout",
     "output_type": "stream",
     "text": [
      "출근시간대최대승차인원역: 2호선 신림 580,615명\n"
     ]
    }
   ],
   "source": [
    "max_index= row_sum_df.idxmax()\n",
    "max_line, max_station= df.iloc[max_index, [1, 3]] #최대값의[1]: 호선,[3]: 지하철역명\n",
    "print(f'출근시간대최대승차인원역: {max_line} {max_station} {max_number:,}명')"
   ]
  },
  {
   "cell_type": "code",
   "execution_count": 12,
   "metadata": {},
   "outputs": [
    {
     "data": {
      "image/png": "[encoded data removed]",
      "text/plain": [
       "<Figure size 640x480 with 1 Axes>"
      ]
     },
     "metadata": {},
     "output_type": "display_data"
    }
   ],
   "source": [
    "import matplotlib.pyplot as plt\n",
    "passenger_number_list.sort(reverse=True)\n",
    "plt.figure(dpi=100)\n",
    "plt.bar(range(len(passenger_number_list)), passenger_number_list)\n",
    "plt.show()"
   ]
  },
  {
   "cell_type": "code",
   "execution_count": null,
   "metadata": {},
   "outputs": [],
   "source": []
  }
 ],
 "metadata": {
  "kernelspec": {
   "display_name": "base",
   "language": "python",
   "name": "python3"
  },
  "language_info": {
   "codemirror_mode": {
    "name": "ipython",
    "version": 3
   },
   "file_extension": ".py",
   "mimetype": "text/x-python",
   "name": "python",
   "nbconvert_exporter": "python",
   "pygments_lexer": "ipython3",
   "version": "3.11.7"
  }
 },
 "nbformat": 4,
 "nbformat_minor": 2
}
